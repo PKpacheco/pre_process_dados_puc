{
  "nbformat": 4,
  "nbformat_minor": 0,
  "metadata": {
    "colab": {
      "name": "aula_2_pre_process_dados_titulo_reportagem.ipynb",
      "provenance": [],
      "collapsed_sections": [],
      "authorship_tag": "ABX9TyMh/sVa2h2VxVC+U6sIWk1J",
      "include_colab_link": true
    },
    "kernelspec": {
      "name": "python3",
      "display_name": "Python 3"
    },
    "language_info": {
      "name": "python"
    }
  },
  "cells": [
    {
      "cell_type": "markdown",
      "metadata": {
        "id": "view-in-github",
        "colab_type": "text"
      },
      "source": [
        "<a href=\"https://colab.research.google.com/github/PKpacheco/pre_process_dados_puc/blob/main/aula_2_pre_process_dados_titulo_reportagem.ipynb\" target=\"_parent\"><img src=\"https://colab.research.google.com/assets/colab-badge.svg\" alt=\"Open In Colab\"/></a>"
      ]
    },
    {
      "cell_type": "code",
      "metadata": {
        "colab": {
          "base_uri": "https://localhost:8080/",
          "height": 1000
        },
        "id": "A7aELoJewyYy",
        "outputId": "d9a5c453-347b-4d6a-afeb-36b38b9e70d8"
      },
      "source": [
        "! pip install spacy pyLDAvis"
      ],
      "execution_count": 3,
      "outputs": [
        {
          "output_type": "stream",
          "text": [
            "Requirement already satisfied: spacy in /usr/local/lib/python3.7/dist-packages (2.2.4)\n",
            "Collecting pyLDAvis\n",
            "\u001b[?25l  Downloading https://files.pythonhosted.org/packages/03/a5/15a0da6b0150b8b68610cc78af80364a80a9a4c8b6dd5ee549b8989d4b60/pyLDAvis-3.3.1.tar.gz (1.7MB)\n",
            "\u001b[K     |████████████████████████████████| 1.7MB 5.6MB/s \n",
            "\u001b[?25h  Installing build dependencies ... \u001b[?25l\u001b[?25hdone\n",
            "  Getting requirements to build wheel ... \u001b[?25l\u001b[?25hdone\n",
            "  Installing backend dependencies ... \u001b[?25l\u001b[?25hdone\n",
            "    Preparing wheel metadata ... \u001b[?25l\u001b[?25hdone\n",
            "Requirement already satisfied: wasabi<1.1.0,>=0.4.0 in /usr/local/lib/python3.7/dist-packages (from spacy) (0.8.2)\n",
            "Requirement already satisfied: blis<0.5.0,>=0.4.0 in /usr/local/lib/python3.7/dist-packages (from spacy) (0.4.1)\n",
            "Requirement already satisfied: plac<1.2.0,>=0.9.6 in /usr/local/lib/python3.7/dist-packages (from spacy) (1.1.3)\n",
            "Requirement already satisfied: setuptools in /usr/local/lib/python3.7/dist-packages (from spacy) (57.0.0)\n",
            "Requirement already satisfied: preshed<3.1.0,>=3.0.2 in /usr/local/lib/python3.7/dist-packages (from spacy) (3.0.5)\n",
            "Requirement already satisfied: murmurhash<1.1.0,>=0.28.0 in /usr/local/lib/python3.7/dist-packages (from spacy) (1.0.5)\n",
            "Requirement already satisfied: srsly<1.1.0,>=1.0.2 in /usr/local/lib/python3.7/dist-packages (from spacy) (1.0.5)\n",
            "Requirement already satisfied: requests<3.0.0,>=2.13.0 in /usr/local/lib/python3.7/dist-packages (from spacy) (2.23.0)\n",
            "Requirement already satisfied: catalogue<1.1.0,>=0.0.7 in /usr/local/lib/python3.7/dist-packages (from spacy) (1.0.0)\n",
            "Requirement already satisfied: numpy>=1.15.0 in /usr/local/lib/python3.7/dist-packages (from spacy) (1.19.5)\n",
            "Requirement already satisfied: thinc==7.4.0 in /usr/local/lib/python3.7/dist-packages (from spacy) (7.4.0)\n",
            "Requirement already satisfied: cymem<2.1.0,>=2.0.2 in /usr/local/lib/python3.7/dist-packages (from spacy) (2.0.5)\n",
            "Requirement already satisfied: tqdm<5.0.0,>=4.38.0 in /usr/local/lib/python3.7/dist-packages (from spacy) (4.41.1)\n",
            "Requirement already satisfied: future in /usr/local/lib/python3.7/dist-packages (from pyLDAvis) (0.16.0)\n",
            "Collecting funcy\n",
            "  Downloading https://files.pythonhosted.org/packages/44/52/5cf7401456a461e4b481650dfb8279bc000f31a011d0918904f86e755947/funcy-1.16-py2.py3-none-any.whl\n",
            "Requirement already satisfied: numexpr in /usr/local/lib/python3.7/dist-packages (from pyLDAvis) (2.7.3)\n",
            "Requirement already satisfied: scikit-learn in /usr/local/lib/python3.7/dist-packages (from pyLDAvis) (0.22.2.post1)\n",
            "Requirement already satisfied: joblib in /usr/local/lib/python3.7/dist-packages (from pyLDAvis) (1.0.1)\n",
            "Requirement already satisfied: scipy in /usr/local/lib/python3.7/dist-packages (from pyLDAvis) (1.4.1)\n",
            "Requirement already satisfied: sklearn in /usr/local/lib/python3.7/dist-packages (from pyLDAvis) (0.0)\n",
            "Requirement already satisfied: gensim in /usr/local/lib/python3.7/dist-packages (from pyLDAvis) (3.6.0)\n",
            "Requirement already satisfied: jinja2 in /usr/local/lib/python3.7/dist-packages (from pyLDAvis) (2.11.3)\n",
            "Collecting pandas>=1.2.0\n",
            "\u001b[?25l  Downloading https://files.pythonhosted.org/packages/51/51/48f3fc47c4e2144da2806dfb6629c4dd1fa3d5a143f9652b141e979a8ca9/pandas-1.2.4-cp37-cp37m-manylinux1_x86_64.whl (9.9MB)\n",
            "\u001b[K     |████████████████████████████████| 9.9MB 19.9MB/s \n",
            "\u001b[?25hRequirement already satisfied: certifi>=2017.4.17 in /usr/local/lib/python3.7/dist-packages (from requests<3.0.0,>=2.13.0->spacy) (2020.12.5)\n",
            "Requirement already satisfied: urllib3!=1.25.0,!=1.25.1,<1.26,>=1.21.1 in /usr/local/lib/python3.7/dist-packages (from requests<3.0.0,>=2.13.0->spacy) (1.24.3)\n",
            "Requirement already satisfied: chardet<4,>=3.0.2 in /usr/local/lib/python3.7/dist-packages (from requests<3.0.0,>=2.13.0->spacy) (3.0.4)\n",
            "Requirement already satisfied: idna<3,>=2.5 in /usr/local/lib/python3.7/dist-packages (from requests<3.0.0,>=2.13.0->spacy) (2.10)\n",
            "Requirement already satisfied: importlib-metadata>=0.20; python_version < \"3.8\" in /usr/local/lib/python3.7/dist-packages (from catalogue<1.1.0,>=0.0.7->spacy) (4.0.1)\n",
            "Requirement already satisfied: smart-open>=1.2.1 in /usr/local/lib/python3.7/dist-packages (from gensim->pyLDAvis) (5.0.0)\n",
            "Requirement already satisfied: six>=1.5.0 in /usr/local/lib/python3.7/dist-packages (from gensim->pyLDAvis) (1.15.0)\n",
            "Requirement already satisfied: MarkupSafe>=0.23 in /usr/local/lib/python3.7/dist-packages (from jinja2->pyLDAvis) (2.0.1)\n",
            "Requirement already satisfied: python-dateutil>=2.7.3 in /usr/local/lib/python3.7/dist-packages (from pandas>=1.2.0->pyLDAvis) (2.8.1)\n",
            "Requirement already satisfied: pytz>=2017.3 in /usr/local/lib/python3.7/dist-packages (from pandas>=1.2.0->pyLDAvis) (2018.9)\n",
            "Requirement already satisfied: typing-extensions>=3.6.4; python_version < \"3.8\" in /usr/local/lib/python3.7/dist-packages (from importlib-metadata>=0.20; python_version < \"3.8\"->catalogue<1.1.0,>=0.0.7->spacy) (3.7.4.3)\n",
            "Requirement already satisfied: zipp>=0.5 in /usr/local/lib/python3.7/dist-packages (from importlib-metadata>=0.20; python_version < \"3.8\"->catalogue<1.1.0,>=0.0.7->spacy) (3.4.1)\n",
            "Building wheels for collected packages: pyLDAvis\n",
            "  Building wheel for pyLDAvis (PEP 517) ... \u001b[?25l\u001b[?25hdone\n",
            "  Created wheel for pyLDAvis: filename=pyLDAvis-3.3.1-cp37-none-any.whl size=136897 sha256=bbbc94d355372e63ab9eb5ca633406ee69c4194bb83ba7c2fb5d90e64725962e\n",
            "  Stored in directory: /root/.cache/pip/wheels/a0/9c/fc/c6e00689d35c82cf96a8adc70edfe7ba7904374fdac3240ac2\n",
            "Successfully built pyLDAvis\n",
            "\u001b[31mERROR: google-colab 1.0.0 has requirement pandas~=1.1.0; python_version >= \"3.0\", but you'll have pandas 1.2.4 which is incompatible.\u001b[0m\n",
            "\u001b[31mERROR: pyldavis 3.3.1 has requirement numpy>=1.20.0, but you'll have numpy 1.19.5 which is incompatible.\u001b[0m\n",
            "Installing collected packages: funcy, pandas, pyLDAvis\n",
            "  Found existing installation: pandas 1.1.5\n",
            "    Uninstalling pandas-1.1.5:\n",
            "      Successfully uninstalled pandas-1.1.5\n",
            "Successfully installed funcy-1.16 pandas-1.2.4 pyLDAvis-3.3.1\n"
          ],
          "name": "stdout"
        },
        {
          "output_type": "display_data",
          "data": {
            "application/vnd.colab-display-data+json": {
              "pip_warning": {
                "packages": [
                  "pandas"
                ]
              }
            }
          },
          "metadata": {
            "tags": []
          }
        }
      ]
    },
    {
      "cell_type": "code",
      "metadata": {
        "colab": {
          "base_uri": "https://localhost:8080/"
        },
        "id": "4oezNXI2zDhp",
        "outputId": "ffdc58c6-4e94-4743-fbc0-89207bb5fbf7"
      },
      "source": [
        "!python -m spacy download pt_core_news_sm"
      ],
      "execution_count": 4,
      "outputs": [
        {
          "output_type": "stream",
          "text": [
            "Collecting pt_core_news_sm==2.2.5\n",
            "\u001b[?25l  Downloading https://github.com/explosion/spacy-models/releases/download/pt_core_news_sm-2.2.5/pt_core_news_sm-2.2.5.tar.gz (21.2MB)\n",
            "\u001b[K     |████████████████████████████████| 21.2MB 1.2MB/s \n",
            "\u001b[?25hRequirement already satisfied: spacy>=2.2.2 in /usr/local/lib/python3.7/dist-packages (from pt_core_news_sm==2.2.5) (2.2.4)\n",
            "Requirement already satisfied: catalogue<1.1.0,>=0.0.7 in /usr/local/lib/python3.7/dist-packages (from spacy>=2.2.2->pt_core_news_sm==2.2.5) (1.0.0)\n",
            "Requirement already satisfied: plac<1.2.0,>=0.9.6 in /usr/local/lib/python3.7/dist-packages (from spacy>=2.2.2->pt_core_news_sm==2.2.5) (1.1.3)\n",
            "Requirement already satisfied: cymem<2.1.0,>=2.0.2 in /usr/local/lib/python3.7/dist-packages (from spacy>=2.2.2->pt_core_news_sm==2.2.5) (2.0.5)\n",
            "Requirement already satisfied: blis<0.5.0,>=0.4.0 in /usr/local/lib/python3.7/dist-packages (from spacy>=2.2.2->pt_core_news_sm==2.2.5) (0.4.1)\n",
            "Requirement already satisfied: thinc==7.4.0 in /usr/local/lib/python3.7/dist-packages (from spacy>=2.2.2->pt_core_news_sm==2.2.5) (7.4.0)\n",
            "Requirement already satisfied: srsly<1.1.0,>=1.0.2 in /usr/local/lib/python3.7/dist-packages (from spacy>=2.2.2->pt_core_news_sm==2.2.5) (1.0.5)\n",
            "Requirement already satisfied: murmurhash<1.1.0,>=0.28.0 in /usr/local/lib/python3.7/dist-packages (from spacy>=2.2.2->pt_core_news_sm==2.2.5) (1.0.5)\n",
            "Requirement already satisfied: preshed<3.1.0,>=3.0.2 in /usr/local/lib/python3.7/dist-packages (from spacy>=2.2.2->pt_core_news_sm==2.2.5) (3.0.5)\n",
            "Requirement already satisfied: tqdm<5.0.0,>=4.38.0 in /usr/local/lib/python3.7/dist-packages (from spacy>=2.2.2->pt_core_news_sm==2.2.5) (4.41.1)\n",
            "Requirement already satisfied: numpy>=1.15.0 in /usr/local/lib/python3.7/dist-packages (from spacy>=2.2.2->pt_core_news_sm==2.2.5) (1.19.5)\n",
            "Requirement already satisfied: setuptools in /usr/local/lib/python3.7/dist-packages (from spacy>=2.2.2->pt_core_news_sm==2.2.5) (57.0.0)\n",
            "Requirement already satisfied: requests<3.0.0,>=2.13.0 in /usr/local/lib/python3.7/dist-packages (from spacy>=2.2.2->pt_core_news_sm==2.2.5) (2.23.0)\n",
            "Requirement already satisfied: wasabi<1.1.0,>=0.4.0 in /usr/local/lib/python3.7/dist-packages (from spacy>=2.2.2->pt_core_news_sm==2.2.5) (0.8.2)\n",
            "Requirement already satisfied: importlib-metadata>=0.20; python_version < \"3.8\" in /usr/local/lib/python3.7/dist-packages (from catalogue<1.1.0,>=0.0.7->spacy>=2.2.2->pt_core_news_sm==2.2.5) (4.0.1)\n",
            "Requirement already satisfied: idna<3,>=2.5 in /usr/local/lib/python3.7/dist-packages (from requests<3.0.0,>=2.13.0->spacy>=2.2.2->pt_core_news_sm==2.2.5) (2.10)\n",
            "Requirement already satisfied: urllib3!=1.25.0,!=1.25.1,<1.26,>=1.21.1 in /usr/local/lib/python3.7/dist-packages (from requests<3.0.0,>=2.13.0->spacy>=2.2.2->pt_core_news_sm==2.2.5) (1.24.3)\n",
            "Requirement already satisfied: certifi>=2017.4.17 in /usr/local/lib/python3.7/dist-packages (from requests<3.0.0,>=2.13.0->spacy>=2.2.2->pt_core_news_sm==2.2.5) (2020.12.5)\n",
            "Requirement already satisfied: chardet<4,>=3.0.2 in /usr/local/lib/python3.7/dist-packages (from requests<3.0.0,>=2.13.0->spacy>=2.2.2->pt_core_news_sm==2.2.5) (3.0.4)\n",
            "Requirement already satisfied: typing-extensions>=3.6.4; python_version < \"3.8\" in /usr/local/lib/python3.7/dist-packages (from importlib-metadata>=0.20; python_version < \"3.8\"->catalogue<1.1.0,>=0.0.7->spacy>=2.2.2->pt_core_news_sm==2.2.5) (3.7.4.3)\n",
            "Requirement already satisfied: zipp>=0.5 in /usr/local/lib/python3.7/dist-packages (from importlib-metadata>=0.20; python_version < \"3.8\"->catalogue<1.1.0,>=0.0.7->spacy>=2.2.2->pt_core_news_sm==2.2.5) (3.4.1)\n",
            "Building wheels for collected packages: pt-core-news-sm\n",
            "  Building wheel for pt-core-news-sm (setup.py) ... \u001b[?25l\u001b[?25hdone\n",
            "  Created wheel for pt-core-news-sm: filename=pt_core_news_sm-2.2.5-cp37-none-any.whl size=21186282 sha256=158856fc338290a336c4a9d382663339d23feffcd6b00cf8070d21cbd98f05b8\n",
            "  Stored in directory: /tmp/pip-ephem-wheel-cache-nswdqowf/wheels/ea/94/74/ec9be8418e9231b471be5dc7e1b45dd670019a376a6b5bc1c0\n",
            "Successfully built pt-core-news-sm\n",
            "Installing collected packages: pt-core-news-sm\n",
            "Successfully installed pt-core-news-sm-2.2.5\n",
            "\u001b[38;5;2m✔ Download and installation successful\u001b[0m\n",
            "You can now load the model via spacy.load('pt_core_news_sm')\n"
          ],
          "name": "stdout"
        }
      ]
    },
    {
      "cell_type": "code",
      "metadata": {
        "id": "oDPipYps3Aop"
      },
      "source": [
        "import pandas as pd\n",
        "import matplotlib.pyplot as plt\n",
        "import spacy\n",
        "import nltk\n",
        "import re\n",
        "from nltk import word_tokenize\n",
        "from nltk.util import ngrams\n",
        "from sklearn.decomposition import LatentDirichletAllocation\n",
        "from sklearn.feature_extraction.text import CountVectorizer\n",
        "from collections import Counter\n",
        "import warnings\n",
        "warnings.filterwarnings('ignore')"
      ],
      "execution_count": 1,
      "outputs": []
    },
    {
      "cell_type": "code",
      "metadata": {
        "colab": {
          "base_uri": "https://localhost:8080/"
        },
        "id": "CU8p0Hw0355N",
        "outputId": "78a959df-a80d-43e0-c0fd-167b0e0e39c1"
      },
      "source": [
        "nltk.download('punkt')"
      ],
      "execution_count": 2,
      "outputs": [
        {
          "output_type": "stream",
          "text": [
            "[nltk_data] Downloading package punkt to /root/nltk_data...\n",
            "[nltk_data]   Package punkt is already up-to-date!\n"
          ],
          "name": "stdout"
        },
        {
          "output_type": "execute_result",
          "data": {
            "text/plain": [
              "True"
            ]
          },
          "metadata": {
            "tags": []
          },
          "execution_count": 2
        }
      ]
    },
    {
      "cell_type": "code",
      "metadata": {
        "id": "8qzb9bVQ380g"
      },
      "source": [
        "# conjunto de dados\n",
        "news = pd.read_csv('https://www.dropbox.com/s/rvwjw8miow6jswy/articles.csv?dl=1')"
      ],
      "execution_count": 3,
      "outputs": []
    },
    {
      "cell_type": "code",
      "metadata": {
        "colab": {
          "base_uri": "https://localhost:8080/",
          "height": 289
        },
        "id": "ru3Frbw-4hdU",
        "outputId": "7158080d-2d77-4274-aa9f-f4e4dfb2b4a3"
      },
      "source": [
        "news.head()"
      ],
      "execution_count": 4,
      "outputs": [
        {
          "output_type": "execute_result",
          "data": {
            "text/html": [
              "<div>\n",
              "<style scoped>\n",
              "    .dataframe tbody tr th:only-of-type {\n",
              "        vertical-align: middle;\n",
              "    }\n",
              "\n",
              "    .dataframe tbody tr th {\n",
              "        vertical-align: top;\n",
              "    }\n",
              "\n",
              "    .dataframe thead th {\n",
              "        text-align: right;\n",
              "    }\n",
              "</style>\n",
              "<table border=\"1\" class=\"dataframe\">\n",
              "  <thead>\n",
              "    <tr style=\"text-align: right;\">\n",
              "      <th></th>\n",
              "      <th>title</th>\n",
              "      <th>text</th>\n",
              "      <th>date</th>\n",
              "      <th>category</th>\n",
              "      <th>subcategory</th>\n",
              "      <th>link</th>\n",
              "    </tr>\n",
              "  </thead>\n",
              "  <tbody>\n",
              "    <tr>\n",
              "      <th>0</th>\n",
              "      <td>Lula diz que está 'lascado', mas que ainda tem...</td>\n",
              "      <td>Com a possibilidade de uma condenação impedir ...</td>\n",
              "      <td>2017-09-10</td>\n",
              "      <td>poder</td>\n",
              "      <td>NaN</td>\n",
              "      <td>http://www1.folha.uol.com.br/poder/2017/10/192...</td>\n",
              "    </tr>\n",
              "    <tr>\n",
              "      <th>1</th>\n",
              "      <td>'Decidi ser escrava das mulheres que sofrem', ...</td>\n",
              "      <td>Para Oumou Sangaré, cantora e ativista malines...</td>\n",
              "      <td>2017-09-10</td>\n",
              "      <td>ilustrada</td>\n",
              "      <td>NaN</td>\n",
              "      <td>http://www1.folha.uol.com.br/ilustrada/2017/10...</td>\n",
              "    </tr>\n",
              "    <tr>\n",
              "      <th>2</th>\n",
              "      <td>Três reportagens da Folha ganham Prêmio Petrob...</td>\n",
              "      <td>Três reportagens da Folha foram vencedoras do ...</td>\n",
              "      <td>2017-09-10</td>\n",
              "      <td>poder</td>\n",
              "      <td>NaN</td>\n",
              "      <td>http://www1.folha.uol.com.br/poder/2017/10/192...</td>\n",
              "    </tr>\n",
              "    <tr>\n",
              "      <th>3</th>\n",
              "      <td>Filme 'Star Wars: Os Últimos Jedi' ganha trail...</td>\n",
              "      <td>A Disney divulgou na noite desta segunda-feira...</td>\n",
              "      <td>2017-09-10</td>\n",
              "      <td>ilustrada</td>\n",
              "      <td>NaN</td>\n",
              "      <td>http://www1.folha.uol.com.br/ilustrada/2017/10...</td>\n",
              "    </tr>\n",
              "    <tr>\n",
              "      <th>4</th>\n",
              "      <td>CBSS inicia acordos com fintechs e quer 30% do...</td>\n",
              "      <td>O CBSS, banco da holding Elopar dos sócios Bra...</td>\n",
              "      <td>2017-09-10</td>\n",
              "      <td>mercado</td>\n",
              "      <td>NaN</td>\n",
              "      <td>http://www1.folha.uol.com.br/mercado/2017/10/1...</td>\n",
              "    </tr>\n",
              "  </tbody>\n",
              "</table>\n",
              "</div>"
            ],
            "text/plain": [
              "                                               title  ...                                               link\n",
              "0  Lula diz que está 'lascado', mas que ainda tem...  ...  http://www1.folha.uol.com.br/poder/2017/10/192...\n",
              "1  'Decidi ser escrava das mulheres que sofrem', ...  ...  http://www1.folha.uol.com.br/ilustrada/2017/10...\n",
              "2  Três reportagens da Folha ganham Prêmio Petrob...  ...  http://www1.folha.uol.com.br/poder/2017/10/192...\n",
              "3  Filme 'Star Wars: Os Últimos Jedi' ganha trail...  ...  http://www1.folha.uol.com.br/ilustrada/2017/10...\n",
              "4  CBSS inicia acordos com fintechs e quer 30% do...  ...  http://www1.folha.uol.com.br/mercado/2017/10/1...\n",
              "\n",
              "[5 rows x 6 columns]"
            ]
          },
          "metadata": {
            "tags": []
          },
          "execution_count": 4
        }
      ]
    },
    {
      "cell_type": "code",
      "metadata": {
        "colab": {
          "base_uri": "https://localhost:8080/"
        },
        "id": "seHh5my24_gg",
        "outputId": "4ff408f6-137e-4134-ba58-fa9136cb9c23"
      },
      "source": [
        "# filtro por turismo\n",
        "turismo = news[news['category']== 'turismo']\n",
        "turismo.info()"
      ],
      "execution_count": 5,
      "outputs": [
        {
          "output_type": "stream",
          "text": [
            "<class 'pandas.core.frame.DataFrame'>\n",
            "Int64Index: 1903 entries, 381 to 167031\n",
            "Data columns (total 6 columns):\n",
            " #   Column       Non-Null Count  Dtype \n",
            "---  ------       --------------  ----- \n",
            " 0   title        1903 non-null   object\n",
            " 1   text         1903 non-null   object\n",
            " 2   date         1903 non-null   object\n",
            " 3   category     1903 non-null   object\n",
            " 4   subcategory  0 non-null      object\n",
            " 5   link         1903 non-null   object\n",
            "dtypes: object(6)\n",
            "memory usage: 104.1+ KB\n"
          ],
          "name": "stdout"
        }
      ]
    },
    {
      "cell_type": "code",
      "metadata": {
        "id": "tFfn_jk75UC3"
      },
      "source": [
        "def limpa_texto(texto):\n",
        "\n",
        "  c = re.sub(r'\\n', ' ', texto) # toda vez que encontrar um \\n substituir por espaco\n",
        "  c = re.sub(r'\\r', ' ', c) # toda vez que encontrar um \\r substituir por espaco\n",
        "\n",
        "  c = c.replace(':', '')\n",
        "  c = c.replace('/', '')\n",
        "  c = re.sub(r'R\\$', '', c) # subst simbolo de moeda cifrão por nada\n",
        "  c = re.sub(r'\\W', ' ', c)  # caracteres alfa numericos substituir por vazio \n",
        "  c = re.sub(r'\\s+',' ', c) # substituir multiplos espaços por 1 só\n",
        "  c = re.sub(r'^\\s+','', c) # subst espaços no inicio da frase por nada\n",
        "  c = re.sub(r'\\s+$','', c) # subst espaços no final da frase por nada\n",
        "\n",
        "  return c.lower() # texto todo em minuscula"
      ],
      "execution_count": 37,
      "outputs": []
    },
    {
      "cell_type": "code",
      "metadata": {
        "id": "noDKzYaj7E7I"
      },
      "source": [
        "from spacy.lang.pt import Portuguese"
      ],
      "execution_count": 8,
      "outputs": []
    },
    {
      "cell_type": "code",
      "metadata": {
        "id": "AoX_coBj7IId"
      },
      "source": [
        "STOP_WORDS = spacy.lang.pt.STOP_WORDS"
      ],
      "execution_count": 10,
      "outputs": []
    },
    {
      "cell_type": "code",
      "metadata": {
        "colab": {
          "base_uri": "https://localhost:8080/"
        },
        "id": "3g0m4mrX7Rno",
        "outputId": "148e73df-cd94-462c-9f9b-a91bc2450326"
      },
      "source": [
        "STOP_WORDS"
      ],
      "execution_count": 11,
      "outputs": [
        {
          "output_type": "execute_result",
          "data": {
            "text/plain": [
              "{'acerca',\n",
              " 'ademais',\n",
              " 'adeus',\n",
              " 'agora',\n",
              " 'ainda',\n",
              " 'algo',\n",
              " 'algumas',\n",
              " 'alguns',\n",
              " 'ali',\n",
              " 'além',\n",
              " 'ambas',\n",
              " 'ambos',\n",
              " 'antes',\n",
              " 'ao',\n",
              " 'aos',\n",
              " 'apenas',\n",
              " 'apoia',\n",
              " 'apoio',\n",
              " 'apontar',\n",
              " 'após',\n",
              " 'aquela',\n",
              " 'aquelas',\n",
              " 'aquele',\n",
              " 'aqueles',\n",
              " 'aqui',\n",
              " 'aquilo',\n",
              " 'as',\n",
              " 'assim',\n",
              " 'através',\n",
              " 'atrás',\n",
              " 'até',\n",
              " 'aí',\n",
              " 'baixo',\n",
              " 'bastante',\n",
              " 'bem',\n",
              " 'boa',\n",
              " 'bom',\n",
              " 'breve',\n",
              " 'cada',\n",
              " 'caminho',\n",
              " 'catorze',\n",
              " 'cedo',\n",
              " 'cento',\n",
              " 'certamente',\n",
              " 'certeza',\n",
              " 'cima',\n",
              " 'cinco',\n",
              " 'coisa',\n",
              " 'com',\n",
              " 'como',\n",
              " 'comprida',\n",
              " 'comprido',\n",
              " 'conhecida',\n",
              " 'conhecido',\n",
              " 'conselho',\n",
              " 'contra',\n",
              " 'contudo',\n",
              " 'corrente',\n",
              " 'cuja',\n",
              " 'cujo',\n",
              " 'custa',\n",
              " 'cá',\n",
              " 'da',\n",
              " 'daquela',\n",
              " 'daquele',\n",
              " 'dar',\n",
              " 'das',\n",
              " 'de',\n",
              " 'debaixo',\n",
              " 'demais',\n",
              " 'dentro',\n",
              " 'depois',\n",
              " 'des',\n",
              " 'desde',\n",
              " 'dessa',\n",
              " 'desse',\n",
              " 'desta',\n",
              " 'deste',\n",
              " 'deve',\n",
              " 'devem',\n",
              " 'deverá',\n",
              " 'dez',\n",
              " 'dezanove',\n",
              " 'dezasseis',\n",
              " 'dezassete',\n",
              " 'dezoito',\n",
              " 'diante',\n",
              " 'direita',\n",
              " 'disso',\n",
              " 'diz',\n",
              " 'dizem',\n",
              " 'dizer',\n",
              " 'do',\n",
              " 'dois',\n",
              " 'dos',\n",
              " 'doze',\n",
              " 'duas',\n",
              " 'dá',\n",
              " 'dão',\n",
              " 'ela',\n",
              " 'elas',\n",
              " 'ele',\n",
              " 'eles',\n",
              " 'em',\n",
              " 'embora',\n",
              " 'enquanto',\n",
              " 'entre',\n",
              " 'então',\n",
              " 'era',\n",
              " 'essa',\n",
              " 'essas',\n",
              " 'esse',\n",
              " 'esses',\n",
              " 'esta',\n",
              " 'estado',\n",
              " 'estar',\n",
              " 'estará',\n",
              " 'estas',\n",
              " 'estava',\n",
              " 'este',\n",
              " 'estes',\n",
              " 'esteve',\n",
              " 'estive',\n",
              " 'estivemos',\n",
              " 'estiveram',\n",
              " 'estiveste',\n",
              " 'estivestes',\n",
              " 'estou',\n",
              " 'está',\n",
              " 'estás',\n",
              " 'estão',\n",
              " 'eu',\n",
              " 'eventual',\n",
              " 'exemplo',\n",
              " 'falta',\n",
              " 'fará',\n",
              " 'favor',\n",
              " 'faz',\n",
              " 'fazeis',\n",
              " 'fazem',\n",
              " 'fazemos',\n",
              " 'fazer',\n",
              " 'fazes',\n",
              " 'fazia',\n",
              " 'faço',\n",
              " 'fez',\n",
              " 'fim',\n",
              " 'final',\n",
              " 'foi',\n",
              " 'fomos',\n",
              " 'for',\n",
              " 'fora',\n",
              " 'foram',\n",
              " 'forma',\n",
              " 'foste',\n",
              " 'fostes',\n",
              " 'fui',\n",
              " 'geral',\n",
              " 'grande',\n",
              " 'grandes',\n",
              " 'grupo',\n",
              " 'inclusive',\n",
              " 'iniciar',\n",
              " 'inicio',\n",
              " 'ir',\n",
              " 'irá',\n",
              " 'isso',\n",
              " 'isto',\n",
              " 'já',\n",
              " 'lado',\n",
              " 'lhe',\n",
              " 'ligado',\n",
              " 'local',\n",
              " 'logo',\n",
              " 'longe',\n",
              " 'lugar',\n",
              " 'lá',\n",
              " 'maior',\n",
              " 'maioria',\n",
              " 'maiorias',\n",
              " 'mais',\n",
              " 'mal',\n",
              " 'mas',\n",
              " 'me',\n",
              " 'meio',\n",
              " 'menor',\n",
              " 'menos',\n",
              " 'meses',\n",
              " 'mesmo',\n",
              " 'meu',\n",
              " 'meus',\n",
              " 'mil',\n",
              " 'minha',\n",
              " 'minhas',\n",
              " 'momento',\n",
              " 'muito',\n",
              " 'muitos',\n",
              " 'máximo',\n",
              " 'mês',\n",
              " 'na',\n",
              " 'nada',\n",
              " 'naquela',\n",
              " 'naquele',\n",
              " 'nas',\n",
              " 'nem',\n",
              " 'nenhuma',\n",
              " 'nessa',\n",
              " 'nesse',\n",
              " 'nesta',\n",
              " 'neste',\n",
              " 'no',\n",
              " 'nos',\n",
              " 'nossa',\n",
              " 'nossas',\n",
              " 'nosso',\n",
              " 'nossos',\n",
              " 'nova',\n",
              " 'novas',\n",
              " 'nove',\n",
              " 'novo',\n",
              " 'novos',\n",
              " 'num',\n",
              " 'numa',\n",
              " 'nunca',\n",
              " 'nuns',\n",
              " 'não',\n",
              " 'nível',\n",
              " 'nós',\n",
              " 'número',\n",
              " 'números',\n",
              " 'obrigada',\n",
              " 'obrigado',\n",
              " 'oitava',\n",
              " 'oitavo',\n",
              " 'oito',\n",
              " 'onde',\n",
              " 'ontem',\n",
              " 'onze',\n",
              " 'ora',\n",
              " 'os',\n",
              " 'ou',\n",
              " 'outra',\n",
              " 'outras',\n",
              " 'outros',\n",
              " 'para',\n",
              " 'parece',\n",
              " 'parte',\n",
              " 'partir',\n",
              " 'pegar',\n",
              " 'pela',\n",
              " 'pelas',\n",
              " 'pelo',\n",
              " 'pelos',\n",
              " 'perto',\n",
              " 'pode',\n",
              " 'podem',\n",
              " 'poder',\n",
              " 'poderá',\n",
              " 'podia',\n",
              " 'pois',\n",
              " 'ponto',\n",
              " 'pontos',\n",
              " 'por',\n",
              " 'porquanto',\n",
              " 'porque',\n",
              " 'porquê',\n",
              " 'portanto',\n",
              " 'porém',\n",
              " 'posição',\n",
              " 'possivelmente',\n",
              " 'posso',\n",
              " 'possível',\n",
              " 'pouca',\n",
              " 'pouco',\n",
              " 'povo',\n",
              " 'primeira',\n",
              " 'primeiro',\n",
              " 'próprio',\n",
              " 'próxima',\n",
              " 'próximo',\n",
              " 'puderam',\n",
              " 'pôde',\n",
              " 'põe',\n",
              " 'põem',\n",
              " 'quais',\n",
              " 'qual',\n",
              " 'qualquer',\n",
              " 'quando',\n",
              " 'quanto',\n",
              " 'quarta',\n",
              " 'quarto',\n",
              " 'quatro',\n",
              " 'que',\n",
              " 'quem',\n",
              " 'quer',\n",
              " 'querem',\n",
              " 'quero',\n",
              " 'questão',\n",
              " 'quieta',\n",
              " 'quieto',\n",
              " 'quinta',\n",
              " 'quinto',\n",
              " 'quinze',\n",
              " 'quê',\n",
              " 'relação',\n",
              " 'sabe',\n",
              " 'saber',\n",
              " 'se',\n",
              " 'segunda',\n",
              " 'segundo',\n",
              " 'sei',\n",
              " 'seis',\n",
              " 'sem',\n",
              " 'sempre',\n",
              " 'ser',\n",
              " 'seria',\n",
              " 'sete',\n",
              " 'seu',\n",
              " 'seus',\n",
              " 'sexta',\n",
              " 'sexto',\n",
              " 'sim',\n",
              " 'sistema',\n",
              " 'sob',\n",
              " 'sobre',\n",
              " 'sois',\n",
              " 'somente',\n",
              " 'somos',\n",
              " 'sou',\n",
              " 'sua',\n",
              " 'suas',\n",
              " 'são',\n",
              " 'sétima',\n",
              " 'sétimo',\n",
              " 'só',\n",
              " 'tais',\n",
              " 'tal',\n",
              " 'talvez',\n",
              " 'também',\n",
              " 'tanta',\n",
              " 'tanto',\n",
              " 'tarde',\n",
              " 'te',\n",
              " 'tem',\n",
              " 'temos',\n",
              " 'tempo',\n",
              " 'tendes',\n",
              " 'tenho',\n",
              " 'tens',\n",
              " 'tentar',\n",
              " 'tentaram',\n",
              " 'tente',\n",
              " 'tentei',\n",
              " 'ter',\n",
              " 'terceira',\n",
              " 'terceiro',\n",
              " 'teu',\n",
              " 'teus',\n",
              " 'teve',\n",
              " 'tipo',\n",
              " 'tive',\n",
              " 'tivemos',\n",
              " 'tiveram',\n",
              " 'tiveste',\n",
              " 'tivestes',\n",
              " 'toda',\n",
              " 'todas',\n",
              " 'todo',\n",
              " 'todos',\n",
              " 'treze',\n",
              " 'três',\n",
              " 'tu',\n",
              " 'tua',\n",
              " 'tuas',\n",
              " 'tudo',\n",
              " 'tão',\n",
              " 'têm',\n",
              " 'um',\n",
              " 'uma',\n",
              " 'umas',\n",
              " 'uns',\n",
              " 'usa',\n",
              " 'usar',\n",
              " 'vai',\n",
              " 'vais',\n",
              " 'valor',\n",
              " 'veja',\n",
              " 'vem',\n",
              " 'vens',\n",
              " 'ver',\n",
              " 'vez',\n",
              " 'vezes',\n",
              " 'vinda',\n",
              " 'vindo',\n",
              " 'vinte',\n",
              " 'você',\n",
              " 'vocês',\n",
              " 'vos',\n",
              " 'vossa',\n",
              " 'vossas',\n",
              " 'vosso',\n",
              " 'vossos',\n",
              " 'vários',\n",
              " 'vão',\n",
              " 'vêm',\n",
              " 'vós',\n",
              " 'zero',\n",
              " 'à',\n",
              " 'às',\n",
              " 'área',\n",
              " 'é',\n",
              " 'és',\n",
              " 'último'}"
            ]
          },
          "metadata": {
            "tags": []
          },
          "execution_count": 11
        }
      ]
    },
    {
      "cell_type": "code",
      "metadata": {
        "id": "OhM780Ih7eCA"
      },
      "source": [
        "def remove_stop(texto):\n",
        "  doc = nlp_pt(texto)\n",
        "  return \" \".join(x.text for x in doc if x.text not in STOP_WORDS)"
      ],
      "execution_count": 12,
      "outputs": []
    },
    {
      "cell_type": "code",
      "metadata": {
        "id": "hnJEgmBN7yXA"
      },
      "source": [
        "def limpa_texto2(texto):\n",
        "  doc= nlp_pt(texto)\n",
        "  return \" \".join(x.lemma_ for x in doc if x.text not in STOP_WORDS)"
      ],
      "execution_count": 13,
      "outputs": []
    },
    {
      "cell_type": "code",
      "metadata": {
        "colab": {
          "base_uri": "https://localhost:8080/",
          "height": 289
        },
        "id": "69A8-5-E8SzI",
        "outputId": "d853412f-61ae-444b-94f3-623572d2c267"
      },
      "source": [
        "# analise exploratoria\n",
        "# numero de palavras nos titulos das noticias\n",
        "\n",
        "turismo['title_n_words'] = turismo['title'].apply(lambda x : len(x.split()))\n",
        "turismo.head()"
      ],
      "execution_count": 14,
      "outputs": [
        {
          "output_type": "execute_result",
          "data": {
            "text/html": [
              "<div>\n",
              "<style scoped>\n",
              "    .dataframe tbody tr th:only-of-type {\n",
              "        vertical-align: middle;\n",
              "    }\n",
              "\n",
              "    .dataframe tbody tr th {\n",
              "        vertical-align: top;\n",
              "    }\n",
              "\n",
              "    .dataframe thead th {\n",
              "        text-align: right;\n",
              "    }\n",
              "</style>\n",
              "<table border=\"1\" class=\"dataframe\">\n",
              "  <thead>\n",
              "    <tr style=\"text-align: right;\">\n",
              "      <th></th>\n",
              "      <th>title</th>\n",
              "      <th>text</th>\n",
              "      <th>date</th>\n",
              "      <th>category</th>\n",
              "      <th>subcategory</th>\n",
              "      <th>link</th>\n",
              "      <th>title_n_words</th>\n",
              "    </tr>\n",
              "  </thead>\n",
              "  <tbody>\n",
              "    <tr>\n",
              "      <th>381</th>\n",
              "      <td>Latam inaugura voo direto de 15 horas entre Ch...</td>\n",
              "      <td>Animem-se os que pretendem cruzar o Pacífico e...</td>\n",
              "      <td>2017-06-10</td>\n",
              "      <td>turismo</td>\n",
              "      <td>NaN</td>\n",
              "      <td>http://www1.folha.uol.com.br/turismo/2017/10/1...</td>\n",
              "      <td>11</td>\n",
              "    </tr>\n",
              "    <tr>\n",
              "      <th>414</th>\n",
              "      <td>Turismo de Las Vegas deve se recuperar em mese...</td>\n",
              "      <td>O massacre em Las Vegas afetará o turismo da c...</td>\n",
              "      <td>2017-06-10</td>\n",
              "      <td>turismo</td>\n",
              "      <td>NaN</td>\n",
              "      <td>http://www1.folha.uol.com.br/turismo/2017/10/1...</td>\n",
              "      <td>11</td>\n",
              "    </tr>\n",
              "    <tr>\n",
              "      <th>522</th>\n",
              "      <td>Brasileiro cria app para economizar no passeio...</td>\n",
              "      <td>Com cerca de 50 mil visitantes por dia, Veneza...</td>\n",
              "      <td>2017-05-10</td>\n",
              "      <td>turismo</td>\n",
              "      <td>NaN</td>\n",
              "      <td>http://www1.folha.uol.com.br/turismo/2017/10/1...</td>\n",
              "      <td>11</td>\n",
              "    </tr>\n",
              "    <tr>\n",
              "      <th>602</th>\n",
              "      <td>AirBnB passa a fazer reserva de restaurantes</td>\n",
              "      <td>A plataforma de hospedagem Airbnb anunciou que...</td>\n",
              "      <td>2017-05-10</td>\n",
              "      <td>turismo</td>\n",
              "      <td>NaN</td>\n",
              "      <td>http://www1.folha.uol.com.br/turismo/2017/10/1...</td>\n",
              "      <td>7</td>\n",
              "    </tr>\n",
              "    <tr>\n",
              "      <th>609</th>\n",
              "      <td>Museus lembram quatro décadas de opressão sovi...</td>\n",
              "      <td>Nos países que viveram sob a órbita da União S...</td>\n",
              "      <td>2017-05-10</td>\n",
              "      <td>turismo</td>\n",
              "      <td>NaN</td>\n",
              "      <td>http://www1.folha.uol.com.br/turismo/2017/10/1...</td>\n",
              "      <td>10</td>\n",
              "    </tr>\n",
              "  </tbody>\n",
              "</table>\n",
              "</div>"
            ],
            "text/plain": [
              "                                                 title  ... title_n_words\n",
              "381  Latam inaugura voo direto de 15 horas entre Ch...  ...            11\n",
              "414  Turismo de Las Vegas deve se recuperar em mese...  ...            11\n",
              "522  Brasileiro cria app para economizar no passeio...  ...            11\n",
              "602       AirBnB passa a fazer reserva de restaurantes  ...             7\n",
              "609  Museus lembram quatro décadas de opressão sovi...  ...            10\n",
              "\n",
              "[5 rows x 7 columns]"
            ]
          },
          "metadata": {
            "tags": []
          },
          "execution_count": 14
        }
      ]
    },
    {
      "cell_type": "code",
      "metadata": {
        "colab": {
          "base_uri": "https://localhost:8080/",
          "height": 297
        },
        "id": "p5W5F69m9D1J",
        "outputId": "41fdf4a1-f0a7-475c-cf90-0bfecdc5b2ff"
      },
      "source": [
        "turismo.describe()"
      ],
      "execution_count": 15,
      "outputs": [
        {
          "output_type": "execute_result",
          "data": {
            "text/html": [
              "<div>\n",
              "<style scoped>\n",
              "    .dataframe tbody tr th:only-of-type {\n",
              "        vertical-align: middle;\n",
              "    }\n",
              "\n",
              "    .dataframe tbody tr th {\n",
              "        vertical-align: top;\n",
              "    }\n",
              "\n",
              "    .dataframe thead th {\n",
              "        text-align: right;\n",
              "    }\n",
              "</style>\n",
              "<table border=\"1\" class=\"dataframe\">\n",
              "  <thead>\n",
              "    <tr style=\"text-align: right;\">\n",
              "      <th></th>\n",
              "      <th>title_n_words</th>\n",
              "    </tr>\n",
              "  </thead>\n",
              "  <tbody>\n",
              "    <tr>\n",
              "      <th>count</th>\n",
              "      <td>1903.000000</td>\n",
              "    </tr>\n",
              "    <tr>\n",
              "      <th>mean</th>\n",
              "      <td>10.923805</td>\n",
              "    </tr>\n",
              "    <tr>\n",
              "      <th>std</th>\n",
              "      <td>1.812440</td>\n",
              "    </tr>\n",
              "    <tr>\n",
              "      <th>min</th>\n",
              "      <td>4.000000</td>\n",
              "    </tr>\n",
              "    <tr>\n",
              "      <th>25%</th>\n",
              "      <td>10.000000</td>\n",
              "    </tr>\n",
              "    <tr>\n",
              "      <th>50%</th>\n",
              "      <td>11.000000</td>\n",
              "    </tr>\n",
              "    <tr>\n",
              "      <th>75%</th>\n",
              "      <td>12.000000</td>\n",
              "    </tr>\n",
              "    <tr>\n",
              "      <th>max</th>\n",
              "      <td>20.000000</td>\n",
              "    </tr>\n",
              "  </tbody>\n",
              "</table>\n",
              "</div>"
            ],
            "text/plain": [
              "       title_n_words\n",
              "count    1903.000000\n",
              "mean       10.923805\n",
              "std         1.812440\n",
              "min         4.000000\n",
              "25%        10.000000\n",
              "50%        11.000000\n",
              "75%        12.000000\n",
              "max        20.000000"
            ]
          },
          "metadata": {
            "tags": []
          },
          "execution_count": 15
        }
      ]
    },
    {
      "cell_type": "code",
      "metadata": {
        "colab": {
          "base_uri": "https://localhost:8080/",
          "height": 289
        },
        "id": "My1eEkmn9Wue",
        "outputId": "41a59cc4-922e-4f66-d0b9-8bfd6b0ca80c"
      },
      "source": [
        "# numero de caracteres no titlo da noticia\n",
        "\n",
        "turismo['title_n_chars'] = turismo['title'].apply(lambda x: len(x.replace(\" \", \"\")))\n",
        "turismo.head()"
      ],
      "execution_count": 16,
      "outputs": [
        {
          "output_type": "execute_result",
          "data": {
            "text/html": [
              "<div>\n",
              "<style scoped>\n",
              "    .dataframe tbody tr th:only-of-type {\n",
              "        vertical-align: middle;\n",
              "    }\n",
              "\n",
              "    .dataframe tbody tr th {\n",
              "        vertical-align: top;\n",
              "    }\n",
              "\n",
              "    .dataframe thead th {\n",
              "        text-align: right;\n",
              "    }\n",
              "</style>\n",
              "<table border=\"1\" class=\"dataframe\">\n",
              "  <thead>\n",
              "    <tr style=\"text-align: right;\">\n",
              "      <th></th>\n",
              "      <th>title</th>\n",
              "      <th>text</th>\n",
              "      <th>date</th>\n",
              "      <th>category</th>\n",
              "      <th>subcategory</th>\n",
              "      <th>link</th>\n",
              "      <th>title_n_words</th>\n",
              "      <th>title_n_chars</th>\n",
              "    </tr>\n",
              "  </thead>\n",
              "  <tbody>\n",
              "    <tr>\n",
              "      <th>381</th>\n",
              "      <td>Latam inaugura voo direto de 15 horas entre Ch...</td>\n",
              "      <td>Animem-se os que pretendem cruzar o Pacífico e...</td>\n",
              "      <td>2017-06-10</td>\n",
              "      <td>turismo</td>\n",
              "      <td>NaN</td>\n",
              "      <td>http://www1.folha.uol.com.br/turismo/2017/10/1...</td>\n",
              "      <td>11</td>\n",
              "      <td>51</td>\n",
              "    </tr>\n",
              "    <tr>\n",
              "      <th>414</th>\n",
              "      <td>Turismo de Las Vegas deve se recuperar em mese...</td>\n",
              "      <td>O massacre em Las Vegas afetará o turismo da c...</td>\n",
              "      <td>2017-06-10</td>\n",
              "      <td>turismo</td>\n",
              "      <td>NaN</td>\n",
              "      <td>http://www1.folha.uol.com.br/turismo/2017/10/1...</td>\n",
              "      <td>11</td>\n",
              "      <td>54</td>\n",
              "    </tr>\n",
              "    <tr>\n",
              "      <th>522</th>\n",
              "      <td>Brasileiro cria app para economizar no passeio...</td>\n",
              "      <td>Com cerca de 50 mil visitantes por dia, Veneza...</td>\n",
              "      <td>2017-05-10</td>\n",
              "      <td>turismo</td>\n",
              "      <td>NaN</td>\n",
              "      <td>http://www1.folha.uol.com.br/turismo/2017/10/1...</td>\n",
              "      <td>11</td>\n",
              "      <td>58</td>\n",
              "    </tr>\n",
              "    <tr>\n",
              "      <th>602</th>\n",
              "      <td>AirBnB passa a fazer reserva de restaurantes</td>\n",
              "      <td>A plataforma de hospedagem Airbnb anunciou que...</td>\n",
              "      <td>2017-05-10</td>\n",
              "      <td>turismo</td>\n",
              "      <td>NaN</td>\n",
              "      <td>http://www1.folha.uol.com.br/turismo/2017/10/1...</td>\n",
              "      <td>7</td>\n",
              "      <td>38</td>\n",
              "    </tr>\n",
              "    <tr>\n",
              "      <th>609</th>\n",
              "      <td>Museus lembram quatro décadas de opressão sovi...</td>\n",
              "      <td>Nos países que viveram sob a órbita da União S...</td>\n",
              "      <td>2017-05-10</td>\n",
              "      <td>turismo</td>\n",
              "      <td>NaN</td>\n",
              "      <td>http://www1.folha.uol.com.br/turismo/2017/10/1...</td>\n",
              "      <td>10</td>\n",
              "      <td>62</td>\n",
              "    </tr>\n",
              "  </tbody>\n",
              "</table>\n",
              "</div>"
            ],
            "text/plain": [
              "                                                 title  ... title_n_chars\n",
              "381  Latam inaugura voo direto de 15 horas entre Ch...  ...            51\n",
              "414  Turismo de Las Vegas deve se recuperar em mese...  ...            54\n",
              "522  Brasileiro cria app para economizar no passeio...  ...            58\n",
              "602       AirBnB passa a fazer reserva de restaurantes  ...            38\n",
              "609  Museus lembram quatro décadas de opressão sovi...  ...            62\n",
              "\n",
              "[5 rows x 8 columns]"
            ]
          },
          "metadata": {
            "tags": []
          },
          "execution_count": 16
        }
      ]
    },
    {
      "cell_type": "code",
      "metadata": {
        "colab": {
          "base_uri": "https://localhost:8080/",
          "height": 297
        },
        "id": "tgBf_H2Q9rl6",
        "outputId": "07c55813-c8f2-46c1-9588-b58d596d7a96"
      },
      "source": [
        "turismo.describe()"
      ],
      "execution_count": 17,
      "outputs": [
        {
          "output_type": "execute_result",
          "data": {
            "text/html": [
              "<div>\n",
              "<style scoped>\n",
              "    .dataframe tbody tr th:only-of-type {\n",
              "        vertical-align: middle;\n",
              "    }\n",
              "\n",
              "    .dataframe tbody tr th {\n",
              "        vertical-align: top;\n",
              "    }\n",
              "\n",
              "    .dataframe thead th {\n",
              "        text-align: right;\n",
              "    }\n",
              "</style>\n",
              "<table border=\"1\" class=\"dataframe\">\n",
              "  <thead>\n",
              "    <tr style=\"text-align: right;\">\n",
              "      <th></th>\n",
              "      <th>title_n_words</th>\n",
              "      <th>title_n_chars</th>\n",
              "    </tr>\n",
              "  </thead>\n",
              "  <tbody>\n",
              "    <tr>\n",
              "      <th>count</th>\n",
              "      <td>1903.000000</td>\n",
              "      <td>1903.000000</td>\n",
              "    </tr>\n",
              "    <tr>\n",
              "      <th>mean</th>\n",
              "      <td>10.923805</td>\n",
              "      <td>55.666842</td>\n",
              "    </tr>\n",
              "    <tr>\n",
              "      <th>std</th>\n",
              "      <td>1.812440</td>\n",
              "      <td>6.309523</td>\n",
              "    </tr>\n",
              "    <tr>\n",
              "      <th>min</th>\n",
              "      <td>4.000000</td>\n",
              "      <td>25.000000</td>\n",
              "    </tr>\n",
              "    <tr>\n",
              "      <th>25%</th>\n",
              "      <td>10.000000</td>\n",
              "      <td>52.000000</td>\n",
              "    </tr>\n",
              "    <tr>\n",
              "      <th>50%</th>\n",
              "      <td>11.000000</td>\n",
              "      <td>57.000000</td>\n",
              "    </tr>\n",
              "    <tr>\n",
              "      <th>75%</th>\n",
              "      <td>12.000000</td>\n",
              "      <td>60.000000</td>\n",
              "    </tr>\n",
              "    <tr>\n",
              "      <th>max</th>\n",
              "      <td>20.000000</td>\n",
              "      <td>87.000000</td>\n",
              "    </tr>\n",
              "  </tbody>\n",
              "</table>\n",
              "</div>"
            ],
            "text/plain": [
              "       title_n_words  title_n_chars\n",
              "count    1903.000000    1903.000000\n",
              "mean       10.923805      55.666842\n",
              "std         1.812440       6.309523\n",
              "min         4.000000      25.000000\n",
              "25%        10.000000      52.000000\n",
              "50%        11.000000      57.000000\n",
              "75%        12.000000      60.000000\n",
              "max        20.000000      87.000000"
            ]
          },
          "metadata": {
            "tags": []
          },
          "execution_count": 17
        }
      ]
    },
    {
      "cell_type": "code",
      "metadata": {
        "colab": {
          "base_uri": "https://localhost:8080/",
          "height": 279
        },
        "id": "HJkgiuca_1zl",
        "outputId": "ad8862c8-9b55-4b00-960d-d306172a13b8"
      },
      "source": [
        "turismo.title_n_words.hist();\n",
        "plt.xlabel('numero de palavras')\n",
        "plt.ylabel('qtd ')\n",
        "plt.grid(b=None)\n",
        "plt.show()"
      ],
      "execution_count": 18,
      "outputs": [
        {
          "output_type": "display_data",
          "data": {
            "image/png": "[encoded data removed]",
            "text/plain": [
              "<Figure size 432x288 with 1 Axes>"
            ]
          },
          "metadata": {
            "tags": [],
            "needs_background": "light"
          }
        }
      ]
    },
    {
      "cell_type": "code",
      "metadata": {
        "colab": {
          "base_uri": "https://localhost:8080/",
          "height": 279
        },
        "id": "z6S_7qXBG7Qm",
        "outputId": "7f5b8331-5be2-456b-bf55-b6d8db214f9d"
      },
      "source": [
        "turismo.title_n_chars.hist();\n",
        "plt.xlabel('numero de caracteres')\n",
        "plt.ylabel('qtd')\n",
        "plt.grid(b=None)\n",
        "plt.show()"
      ],
      "execution_count": 21,
      "outputs": [
        {
          "output_type": "display_data",
          "data": {
            "image/png": "[encoded data removed]",
            "text/plain": [
              "<Figure size 432x288 with 1 Axes>"
            ]
          },
          "metadata": {
            "tags": [],
            "needs_background": "light"
          }
        }
      ]
    },
    {
      "cell_type": "code",
      "metadata": {
        "id": "63qQzyB_KUN3"
      },
      "source": [
        "# limpeza dos dados\n",
        "\n",
        "nlp_pt = spacy.load('pt_core_news_sm')"
      ],
      "execution_count": 25,
      "outputs": []
    },
    {
      "cell_type": "code",
      "metadata": {
        "id": "p8guX56oLBZA"
      },
      "source": [
        "rev = turismo.iloc[0]['title']"
      ],
      "execution_count": 26,
      "outputs": []
    },
    {
      "cell_type": "code",
      "metadata": {
        "colab": {
          "base_uri": "https://localhost:8080/",
          "height": 35
        },
        "id": "1A76--_-LGVn",
        "outputId": "c7947b51-dc24-415d-888f-f55fff51fec5"
      },
      "source": [
        "rev"
      ],
      "execution_count": 27,
      "outputs": [
        {
          "output_type": "execute_result",
          "data": {
            "application/vnd.google.colaboratory.intrinsic+json": {
              "type": "string"
            },
            "text/plain": [
              "'Latam inaugura voo direto de 15 horas entre Chile e Austrália'"
            ]
          },
          "metadata": {
            "tags": []
          },
          "execution_count": 27
        }
      ]
    },
    {
      "cell_type": "code",
      "metadata": {
        "id": "KKA_qYGlLKlm"
      },
      "source": [
        "rev = limpa_texto(rev)"
      ],
      "execution_count": 38,
      "outputs": []
    },
    {
      "cell_type": "code",
      "metadata": {
        "colab": {
          "base_uri": "https://localhost:8080/",
          "height": 35
        },
        "id": "EbLlRjU4L6r6",
        "outputId": "3540c643-e480-4a2a-a99e-cc9b5b0187c7"
      },
      "source": [
        "rev"
      ],
      "execution_count": 39,
      "outputs": [
        {
          "output_type": "execute_result",
          "data": {
            "application/vnd.google.colaboratory.intrinsic+json": {
              "type": "string"
            },
            "text/plain": [
              "'latam inaugura voo direto de 15 hora entre chile e au trália'"
            ]
          },
          "metadata": {
            "tags": []
          },
          "execution_count": 39
        }
      ]
    },
    {
      "cell_type": "code",
      "metadata": {
        "id": "MBitfNzmMm9e"
      },
      "source": [
        "rev2 = turismo.iloc[5]['title']"
      ],
      "execution_count": 41,
      "outputs": []
    },
    {
      "cell_type": "code",
      "metadata": {
        "colab": {
          "base_uri": "https://localhost:8080/",
          "height": 35
        },
        "id": "6OxD04-PMu6d",
        "outputId": "ad26ac84-dac5-4a31-a2fe-98d622157b11"
      },
      "source": [
        "rev2"
      ],
      "execution_count": 42,
      "outputs": [
        {
          "output_type": "execute_result",
          "data": {
            "application/vnd.google.colaboratory.intrinsic+json": {
              "type": "string"
            },
            "text/plain": [
              "\"'Viagem ao Japão é aula de cultura e tradição', diz ator Jayme Matarazzo\""
            ]
          },
          "metadata": {
            "tags": []
          },
          "execution_count": 42
        }
      ]
    },
    {
      "cell_type": "code",
      "metadata": {
        "colab": {
          "base_uri": "https://localhost:8080/",
          "height": 35
        },
        "id": "XHp6-AJ2MwxX",
        "outputId": "ae0cae5e-4dba-4670-a039-bd53c41a69da"
      },
      "source": [
        "limpa_texto(rev2)"
      ],
      "execution_count": 43,
      "outputs": [
        {
          "output_type": "execute_result",
          "data": {
            "application/vnd.google.colaboratory.intrinsic+json": {
              "type": "string"
            },
            "text/plain": [
              "'viagem ao japão é aula de cultura e tradição diz ator jayme matarazzo'"
            ]
          },
          "metadata": {
            "tags": []
          },
          "execution_count": 43
        }
      ]
    },
    {
      "cell_type": "code",
      "metadata": {
        "id": "RhRMgFi3M7bD"
      },
      "source": [
        "rev = nlp_pt(rev)"
      ],
      "execution_count": 44,
      "outputs": []
    },
    {
      "cell_type": "code",
      "metadata": {
        "id": "LiPuXalBND9n"
      },
      "source": [
        "def exibe_token(texto):\n",
        "  col_names = ['ALPHA', 'PUNCT', 'LIKE NUM', 'POS']\n",
        "  formatted_text = '{:>16}' * (len(col_names)+ 1)\n",
        "  print('\\n', formatted_text.format('INPUT WORD', *col_names), '\\n', '='*130)\n",
        "\n",
        "\n",
        "  for token in texto:\n",
        "    output = [token.text, token.is_alpha, token.is_punct, token.like_num, token.pos_]\n",
        "    print(formatted_text.format(*output))"
      ],
      "execution_count": 50,
      "outputs": []
    },
    {
      "cell_type": "code",
      "metadata": {
        "colab": {
          "base_uri": "https://localhost:8080/"
        },
        "id": "jA9QgyjoN8b3",
        "outputId": "ff92bb3a-6a07-4626-ce8e-efb01dc69809"
      },
      "source": [
        "exibe_token(rev)"
      ],
      "execution_count": 51,
      "outputs": [
        {
          "output_type": "stream",
          "text": [
            "\n",
            "       INPUT WORD           ALPHA           PUNCT        LIKE NUM             POS \n",
            " ==================================================================================================================================\n",
            "           latam               1               0               0            VERB\n",
            "        inaugura               1               0               0            VERB\n",
            "             voo               1               0               0            VERB\n",
            "          direto               1               0               0             ADV\n",
            "              de               1               0               0             ADP\n",
            "              15               0               0               1             NUM\n",
            "            hora               1               0               0            NOUN\n",
            "           entre               1               0               0             ADP\n",
            "           chile               1               0               0           PROPN\n",
            "               e               1               0               0           CCONJ\n",
            "              au               1               0               0           PROPN\n",
            "          trália               1               0               0           PROPN\n"
          ],
          "name": "stdout"
        }
      ]
    },
    {
      "cell_type": "code",
      "metadata": {
        "colab": {
          "base_uri": "https://localhost:8080/",
          "height": 441
        },
        "id": "UEEWCTOyOqbi",
        "outputId": "73a85773-c885-4ab2-d6f1-16b3a9f6a611"
      },
      "source": [
        "from spacy import displacy\n",
        "\n",
        "displacy.render (rev, style='dep', jupyter=True)"
      ],
      "execution_count": 52,
      "outputs": [
        {
          "output_type": "display_data",
          "data": {
            "text/html": [
              "<span class=\"tex2jax_ignore\"><svg xmlns=\"http://www.w3.org/2000/svg\" xmlns:xlink=\"http://www.w3.org/1999/xlink\" xml:lang=\"pt\" id=\"f35ba7e2a731484c85f51e44c0c1cd63-0\" class=\"displacy\" width=\"2150\" height=\"399.5\" direction=\"ltr\" style=\"max-width: none; height: 399.5px; color: #000000; background: #ffffff; font-family: Arial; direction: ltr\">\n",
              "<text class=\"displacy-token\" fill=\"currentColor\" text-anchor=\"middle\" y=\"309.5\">\n",
              "    <tspan class=\"displacy-word\" fill=\"currentColor\" x=\"50\">latam</tspan>\n",
              "    <tspan class=\"displacy-tag\" dy=\"2em\" fill=\"currentColor\" x=\"50\">VERB</tspan>\n",
              "</text>\n",
              "\n",
              "<text class=\"displacy-token\" fill=\"currentColor\" text-anchor=\"middle\" y=\"309.5\">\n",
              "    <tspan class=\"displacy-word\" fill=\"currentColor\" x=\"225\">inaugura</tspan>\n",
              "    <tspan class=\"displacy-tag\" dy=\"2em\" fill=\"currentColor\" x=\"225\">VERB</tspan>\n",
              "</text>\n",
              "\n",
              "<text class=\"displacy-token\" fill=\"currentColor\" text-anchor=\"middle\" y=\"309.5\">\n",
              "    <tspan class=\"displacy-word\" fill=\"currentColor\" x=\"400\">voo</tspan>\n",
              "    <tspan class=\"displacy-tag\" dy=\"2em\" fill=\"currentColor\" x=\"400\">VERB</tspan>\n",
              "</text>\n",
              "\n",
              "<text class=\"displacy-token\" fill=\"currentColor\" text-anchor=\"middle\" y=\"309.5\">\n",
              "    <tspan class=\"displacy-word\" fill=\"currentColor\" x=\"575\">direto</tspan>\n",
              "    <tspan class=\"displacy-tag\" dy=\"2em\" fill=\"currentColor\" x=\"575\">ADV</tspan>\n",
              "</text>\n",
              "\n",
              "<text class=\"displacy-token\" fill=\"currentColor\" text-anchor=\"middle\" y=\"309.5\">\n",
              "    <tspan class=\"displacy-word\" fill=\"currentColor\" x=\"750\">de</tspan>\n",
              "    <tspan class=\"displacy-tag\" dy=\"2em\" fill=\"currentColor\" x=\"750\">ADP</tspan>\n",
              "</text>\n",
              "\n",
              "<text class=\"displacy-token\" fill=\"currentColor\" text-anchor=\"middle\" y=\"309.5\">\n",
              "    <tspan class=\"displacy-word\" fill=\"currentColor\" x=\"925\">15</tspan>\n",
              "    <tspan class=\"displacy-tag\" dy=\"2em\" fill=\"currentColor\" x=\"925\">NUM</tspan>\n",
              "</text>\n",
              "\n",
              "<text class=\"displacy-token\" fill=\"currentColor\" text-anchor=\"middle\" y=\"309.5\">\n",
              "    <tspan class=\"displacy-word\" fill=\"currentColor\" x=\"1100\">hora</tspan>\n",
              "    <tspan class=\"displacy-tag\" dy=\"2em\" fill=\"currentColor\" x=\"1100\">NOUN</tspan>\n",
              "</text>\n",
              "\n",
              "<text class=\"displacy-token\" fill=\"currentColor\" text-anchor=\"middle\" y=\"309.5\">\n",
              "    <tspan class=\"displacy-word\" fill=\"currentColor\" x=\"1275\">entre</tspan>\n",
              "    <tspan class=\"displacy-tag\" dy=\"2em\" fill=\"currentColor\" x=\"1275\">ADP</tspan>\n",
              "</text>\n",
              "\n",
              "<text class=\"displacy-token\" fill=\"currentColor\" text-anchor=\"middle\" y=\"309.5\">\n",
              "    <tspan class=\"displacy-word\" fill=\"currentColor\" x=\"1450\">chile</tspan>\n",
              "    <tspan class=\"displacy-tag\" dy=\"2em\" fill=\"currentColor\" x=\"1450\">PROPN</tspan>\n",
              "</text>\n",
              "\n",
              "<text class=\"displacy-token\" fill=\"currentColor\" text-anchor=\"middle\" y=\"309.5\">\n",
              "    <tspan class=\"displacy-word\" fill=\"currentColor\" x=\"1625\">e</tspan>\n",
              "    <tspan class=\"displacy-tag\" dy=\"2em\" fill=\"currentColor\" x=\"1625\">CCONJ</tspan>\n",
              "</text>\n",
              "\n",
              "<text class=\"displacy-token\" fill=\"currentColor\" text-anchor=\"middle\" y=\"309.5\">\n",
              "    <tspan class=\"displacy-word\" fill=\"currentColor\" x=\"1800\">au</tspan>\n",
              "    <tspan class=\"displacy-tag\" dy=\"2em\" fill=\"currentColor\" x=\"1800\">PROPN</tspan>\n",
              "</text>\n",
              "\n",
              "<text class=\"displacy-token\" fill=\"currentColor\" text-anchor=\"middle\" y=\"309.5\">\n",
              "    <tspan class=\"displacy-word\" fill=\"currentColor\" x=\"1975\">trália</tspan>\n",
              "    <tspan class=\"displacy-tag\" dy=\"2em\" fill=\"currentColor\" x=\"1975\">PROPN</tspan>\n",
              "</text>\n",
              "\n",
              "<g class=\"displacy-arrow\">\n",
              "    <path class=\"displacy-arc\" id=\"arrow-f35ba7e2a731484c85f51e44c0c1cd63-0-0\" stroke-width=\"2px\" d=\"M70,264.5 C70,177.0 215.0,177.0 215.0,264.5\" fill=\"none\" stroke=\"currentColor\"/>\n",
              "    <text dy=\"1.25em\" style=\"font-size: 0.8em; letter-spacing: 1px\">\n",
              "        <textPath xlink:href=\"#arrow-f35ba7e2a731484c85f51e44c0c1cd63-0-0\" class=\"displacy-label\" startOffset=\"50%\" side=\"left\" fill=\"currentColor\" text-anchor=\"middle\">nsubj</textPath>\n",
              "    </text>\n",
              "    <path class=\"displacy-arrowhead\" d=\"M70,266.5 L62,254.5 78,254.5\" fill=\"currentColor\"/>\n",
              "</g>\n",
              "\n",
              "<g class=\"displacy-arrow\">\n",
              "    <path class=\"displacy-arc\" id=\"arrow-f35ba7e2a731484c85f51e44c0c1cd63-0-1\" stroke-width=\"2px\" d=\"M420,264.5 C420,177.0 565.0,177.0 565.0,264.5\" fill=\"none\" stroke=\"currentColor\"/>\n",
              "    <text dy=\"1.25em\" style=\"font-size: 0.8em; letter-spacing: 1px\">\n",
              "        <textPath xlink:href=\"#arrow-f35ba7e2a731484c85f51e44c0c1cd63-0-1\" class=\"displacy-label\" startOffset=\"50%\" side=\"left\" fill=\"currentColor\" text-anchor=\"middle\">det</textPath>\n",
              "    </text>\n",
              "    <path class=\"displacy-arrowhead\" d=\"M420,266.5 L412,254.5 428,254.5\" fill=\"currentColor\"/>\n",
              "</g>\n",
              "\n",
              "<g class=\"displacy-arrow\">\n",
              "    <path class=\"displacy-arc\" id=\"arrow-f35ba7e2a731484c85f51e44c0c1cd63-0-2\" stroke-width=\"2px\" d=\"M770,264.5 C770,89.5 1095.0,89.5 1095.0,264.5\" fill=\"none\" stroke=\"currentColor\"/>\n",
              "    <text dy=\"1.25em\" style=\"font-size: 0.8em; letter-spacing: 1px\">\n",
              "        <textPath xlink:href=\"#arrow-f35ba7e2a731484c85f51e44c0c1cd63-0-2\" class=\"displacy-label\" startOffset=\"50%\" side=\"left\" fill=\"currentColor\" text-anchor=\"middle\">case</textPath>\n",
              "    </text>\n",
              "    <path class=\"displacy-arrowhead\" d=\"M770,266.5 L762,254.5 778,254.5\" fill=\"currentColor\"/>\n",
              "</g>\n",
              "\n",
              "<g class=\"displacy-arrow\">\n",
              "    <path class=\"displacy-arc\" id=\"arrow-f35ba7e2a731484c85f51e44c0c1cd63-0-3\" stroke-width=\"2px\" d=\"M945,264.5 C945,177.0 1090.0,177.0 1090.0,264.5\" fill=\"none\" stroke=\"currentColor\"/>\n",
              "    <text dy=\"1.25em\" style=\"font-size: 0.8em; letter-spacing: 1px\">\n",
              "        <textPath xlink:href=\"#arrow-f35ba7e2a731484c85f51e44c0c1cd63-0-3\" class=\"displacy-label\" startOffset=\"50%\" side=\"left\" fill=\"currentColor\" text-anchor=\"middle\">nummod</textPath>\n",
              "    </text>\n",
              "    <path class=\"displacy-arrowhead\" d=\"M945,266.5 L937,254.5 953,254.5\" fill=\"currentColor\"/>\n",
              "</g>\n",
              "\n",
              "<g class=\"displacy-arrow\">\n",
              "    <path class=\"displacy-arc\" id=\"arrow-f35ba7e2a731484c85f51e44c0c1cd63-0-4\" stroke-width=\"2px\" d=\"M595,264.5 C595,2.0 1100.0,2.0 1100.0,264.5\" fill=\"none\" stroke=\"currentColor\"/>\n",
              "    <text dy=\"1.25em\" style=\"font-size: 0.8em; letter-spacing: 1px\">\n",
              "        <textPath xlink:href=\"#arrow-f35ba7e2a731484c85f51e44c0c1cd63-0-4\" class=\"displacy-label\" startOffset=\"50%\" side=\"left\" fill=\"currentColor\" text-anchor=\"middle\">nmod</textPath>\n",
              "    </text>\n",
              "    <path class=\"displacy-arrowhead\" d=\"M1100.0,266.5 L1108.0,254.5 1092.0,254.5\" fill=\"currentColor\"/>\n",
              "</g>\n",
              "\n",
              "<g class=\"displacy-arrow\">\n",
              "    <path class=\"displacy-arc\" id=\"arrow-f35ba7e2a731484c85f51e44c0c1cd63-0-5\" stroke-width=\"2px\" d=\"M1295,264.5 C1295,177.0 1440.0,177.0 1440.0,264.5\" fill=\"none\" stroke=\"currentColor\"/>\n",
              "    <text dy=\"1.25em\" style=\"font-size: 0.8em; letter-spacing: 1px\">\n",
              "        <textPath xlink:href=\"#arrow-f35ba7e2a731484c85f51e44c0c1cd63-0-5\" class=\"displacy-label\" startOffset=\"50%\" side=\"left\" fill=\"currentColor\" text-anchor=\"middle\">case</textPath>\n",
              "    </text>\n",
              "    <path class=\"displacy-arrowhead\" d=\"M1295,266.5 L1287,254.5 1303,254.5\" fill=\"currentColor\"/>\n",
              "</g>\n",
              "\n",
              "<g class=\"displacy-arrow\">\n",
              "    <path class=\"displacy-arc\" id=\"arrow-f35ba7e2a731484c85f51e44c0c1cd63-0-6\" stroke-width=\"2px\" d=\"M1120,264.5 C1120,89.5 1445.0,89.5 1445.0,264.5\" fill=\"none\" stroke=\"currentColor\"/>\n",
              "    <text dy=\"1.25em\" style=\"font-size: 0.8em; letter-spacing: 1px\">\n",
              "        <textPath xlink:href=\"#arrow-f35ba7e2a731484c85f51e44c0c1cd63-0-6\" class=\"displacy-label\" startOffset=\"50%\" side=\"left\" fill=\"currentColor\" text-anchor=\"middle\">nmod</textPath>\n",
              "    </text>\n",
              "    <path class=\"displacy-arrowhead\" d=\"M1445.0,266.5 L1453.0,254.5 1437.0,254.5\" fill=\"currentColor\"/>\n",
              "</g>\n",
              "\n",
              "<g class=\"displacy-arrow\">\n",
              "    <path class=\"displacy-arc\" id=\"arrow-f35ba7e2a731484c85f51e44c0c1cd63-0-7\" stroke-width=\"2px\" d=\"M1645,264.5 C1645,177.0 1790.0,177.0 1790.0,264.5\" fill=\"none\" stroke=\"currentColor\"/>\n",
              "    <text dy=\"1.25em\" style=\"font-size: 0.8em; letter-spacing: 1px\">\n",
              "        <textPath xlink:href=\"#arrow-f35ba7e2a731484c85f51e44c0c1cd63-0-7\" class=\"displacy-label\" startOffset=\"50%\" side=\"left\" fill=\"currentColor\" text-anchor=\"middle\">cc</textPath>\n",
              "    </text>\n",
              "    <path class=\"displacy-arrowhead\" d=\"M1645,266.5 L1637,254.5 1653,254.5\" fill=\"currentColor\"/>\n",
              "</g>\n",
              "\n",
              "<g class=\"displacy-arrow\">\n",
              "    <path class=\"displacy-arc\" id=\"arrow-f35ba7e2a731484c85f51e44c0c1cd63-0-8\" stroke-width=\"2px\" d=\"M1470,264.5 C1470,89.5 1795.0,89.5 1795.0,264.5\" fill=\"none\" stroke=\"currentColor\"/>\n",
              "    <text dy=\"1.25em\" style=\"font-size: 0.8em; letter-spacing: 1px\">\n",
              "        <textPath xlink:href=\"#arrow-f35ba7e2a731484c85f51e44c0c1cd63-0-8\" class=\"displacy-label\" startOffset=\"50%\" side=\"left\" fill=\"currentColor\" text-anchor=\"middle\">conj</textPath>\n",
              "    </text>\n",
              "    <path class=\"displacy-arrowhead\" d=\"M1795.0,266.5 L1803.0,254.5 1787.0,254.5\" fill=\"currentColor\"/>\n",
              "</g>\n",
              "\n",
              "<g class=\"displacy-arrow\">\n",
              "    <path class=\"displacy-arc\" id=\"arrow-f35ba7e2a731484c85f51e44c0c1cd63-0-9\" stroke-width=\"2px\" d=\"M1820,264.5 C1820,177.0 1965.0,177.0 1965.0,264.5\" fill=\"none\" stroke=\"currentColor\"/>\n",
              "    <text dy=\"1.25em\" style=\"font-size: 0.8em; letter-spacing: 1px\">\n",
              "        <textPath xlink:href=\"#arrow-f35ba7e2a731484c85f51e44c0c1cd63-0-9\" class=\"displacy-label\" startOffset=\"50%\" side=\"left\" fill=\"currentColor\" text-anchor=\"middle\">flat:name</textPath>\n",
              "    </text>\n",
              "    <path class=\"displacy-arrowhead\" d=\"M1965.0,266.5 L1973.0,254.5 1957.0,254.5\" fill=\"currentColor\"/>\n",
              "</g>\n",
              "</svg></span>"
            ],
            "text/plain": [
              "<IPython.core.display.HTML object>"
            ]
          },
          "metadata": {
            "tags": []
          }
        }
      ]
    },
    {
      "cell_type": "code",
      "metadata": {
        "id": "9JGal4vmPC8t"
      },
      "source": [
        "rev2 = nlp_pt(rev2)"
      ],
      "execution_count": 53,
      "outputs": []
    },
    {
      "cell_type": "code",
      "metadata": {
        "colab": {
          "base_uri": "https://localhost:8080/"
        },
        "id": "AOD__VUjPFSW",
        "outputId": "ec5223b4-4ecc-4b91-d708-8a2e38729b6a"
      },
      "source": [
        "exibe_token(rev2)"
      ],
      "execution_count": 54,
      "outputs": [
        {
          "output_type": "stream",
          "text": [
            "\n",
            "       INPUT WORD           ALPHA           PUNCT        LIKE NUM             POS \n",
            " ==================================================================================================================================\n",
            "               '               0               1               0           PUNCT\n",
            "          Viagem               1               0               0            NOUN\n",
            "               a               1               0               0             ADP\n",
            "               o               1               0               0             DET\n",
            "           Japão               1               0               0           PROPN\n",
            "               é               1               0               0            VERB\n",
            "            aula               1               0               0            NOUN\n",
            "              de               1               0               0             ADP\n",
            "         cultura               1               0               0            NOUN\n",
            "               e               1               0               0           CCONJ\n",
            "        tradição               1               0               0            NOUN\n",
            "               '               0               1               0           PUNCT\n",
            "               ,               0               1               0           PUNCT\n",
            "             diz               1               0               0            VERB\n",
            "            ator               1               0               0            NOUN\n",
            "           Jayme               1               0               0           PROPN\n",
            "       Matarazzo               1               0               0           PROPN\n"
          ],
          "name": "stdout"
        }
      ]
    },
    {
      "cell_type": "code",
      "metadata": {
        "id": "qi1jpbAzPfUG"
      },
      "source": [
        "turismo['title_clean'] = turismo['title'].apply(lambda x : limpa_texto(x))\n"
      ],
      "execution_count": 55,
      "outputs": []
    },
    {
      "cell_type": "code",
      "metadata": {
        "colab": {
          "base_uri": "https://localhost:8080/",
          "height": 632
        },
        "id": "rCpwgF4LPxGH",
        "outputId": "f689e26f-a05f-40a2-d666-942565a999df"
      },
      "source": [
        "turismo.head()"
      ],
      "execution_count": 59,
      "outputs": [
        {
          "output_type": "execute_result",
          "data": {
            "text/html": [
              "<div>\n",
              "<style scoped>\n",
              "    .dataframe tbody tr th:only-of-type {\n",
              "        vertical-align: middle;\n",
              "    }\n",
              "\n",
              "    .dataframe tbody tr th {\n",
              "        vertical-align: top;\n",
              "    }\n",
              "\n",
              "    .dataframe thead th {\n",
              "        text-align: right;\n",
              "    }\n",
              "</style>\n",
              "<table border=\"1\" class=\"dataframe\">\n",
              "  <thead>\n",
              "    <tr style=\"text-align: right;\">\n",
              "      <th></th>\n",
              "      <th>title</th>\n",
              "      <th>text</th>\n",
              "      <th>date</th>\n",
              "      <th>category</th>\n",
              "      <th>subcategory</th>\n",
              "      <th>link</th>\n",
              "      <th>title_n_words</th>\n",
              "      <th>title_n_chars</th>\n",
              "      <th>title_clean</th>\n",
              "      <th>title_clean_no_stop</th>\n",
              "    </tr>\n",
              "  </thead>\n",
              "  <tbody>\n",
              "    <tr>\n",
              "      <th>381</th>\n",
              "      <td>Latam inaugura voo direto de 15 horas entre Ch...</td>\n",
              "      <td>Animem-se os que pretendem cruzar o Pacífico e...</td>\n",
              "      <td>2017-06-10</td>\n",
              "      <td>turismo</td>\n",
              "      <td>NaN</td>\n",
              "      <td>http://www1.folha.uol.com.br/turismo/2017/10/1...</td>\n",
              "      <td>11</td>\n",
              "      <td>51</td>\n",
              "      <td>latam inaugura voo direto de 15 horas entre ch...</td>\n",
              "      <td>latam inaugura voo direto 15 horas chile e aus...</td>\n",
              "    </tr>\n",
              "    <tr>\n",
              "      <th>414</th>\n",
              "      <td>Turismo de Las Vegas deve se recuperar em mese...</td>\n",
              "      <td>O massacre em Las Vegas afetará o turismo da c...</td>\n",
              "      <td>2017-06-10</td>\n",
              "      <td>turismo</td>\n",
              "      <td>NaN</td>\n",
              "      <td>http://www1.folha.uol.com.br/turismo/2017/10/1...</td>\n",
              "      <td>11</td>\n",
              "      <td>54</td>\n",
              "      <td>turismo de las vegas deve se recuperar em mese...</td>\n",
              "      <td>turismo las vegas recuperar analistas</td>\n",
              "    </tr>\n",
              "    <tr>\n",
              "      <th>522</th>\n",
              "      <td>Brasileiro cria app para economizar no passeio...</td>\n",
              "      <td>Com cerca de 50 mil visitantes por dia, Veneza...</td>\n",
              "      <td>2017-05-10</td>\n",
              "      <td>turismo</td>\n",
              "      <td>NaN</td>\n",
              "      <td>http://www1.folha.uol.com.br/turismo/2017/10/1...</td>\n",
              "      <td>11</td>\n",
              "      <td>58</td>\n",
              "      <td>brasileiro cria app para economizar no passeio...</td>\n",
              "      <td>brasileiro cria app economizar passeio gôndola...</td>\n",
              "    </tr>\n",
              "    <tr>\n",
              "      <th>602</th>\n",
              "      <td>AirBnB passa a fazer reserva de restaurantes</td>\n",
              "      <td>A plataforma de hospedagem Airbnb anunciou que...</td>\n",
              "      <td>2017-05-10</td>\n",
              "      <td>turismo</td>\n",
              "      <td>NaN</td>\n",
              "      <td>http://www1.folha.uol.com.br/turismo/2017/10/1...</td>\n",
              "      <td>7</td>\n",
              "      <td>38</td>\n",
              "      <td>airbnb passa a fazer reserva de restaurantes</td>\n",
              "      <td>airbnb passa a reserva restaurantes</td>\n",
              "    </tr>\n",
              "    <tr>\n",
              "      <th>609</th>\n",
              "      <td>Museus lembram quatro décadas de opressão sovi...</td>\n",
              "      <td>Nos países que viveram sob a órbita da União S...</td>\n",
              "      <td>2017-05-10</td>\n",
              "      <td>turismo</td>\n",
              "      <td>NaN</td>\n",
              "      <td>http://www1.folha.uol.com.br/turismo/2017/10/1...</td>\n",
              "      <td>10</td>\n",
              "      <td>62</td>\n",
              "      <td>museus lembram quatro décadas de opressão sovi...</td>\n",
              "      <td>museus lembram décadas opressão soviética países</td>\n",
              "    </tr>\n",
              "  </tbody>\n",
              "</table>\n",
              "</div>"
            ],
            "text/plain": [
              "                                                 title  ...                                title_clean_no_stop\n",
              "381  Latam inaugura voo direto de 15 horas entre Ch...  ...  latam inaugura voo direto 15 horas chile e aus...\n",
              "414  Turismo de Las Vegas deve se recuperar em mese...  ...              turismo las vegas recuperar analistas\n",
              "522  Brasileiro cria app para economizar no passeio...  ...  brasileiro cria app economizar passeio gôndola...\n",
              "602       AirBnB passa a fazer reserva de restaurantes  ...                airbnb passa a reserva restaurantes\n",
              "609  Museus lembram quatro décadas de opressão sovi...  ...   museus lembram décadas opressão soviética países\n",
              "\n",
              "[5 rows x 10 columns]"
            ]
          },
          "metadata": {
            "tags": []
          },
          "execution_count": 59
        }
      ]
    },
    {
      "cell_type": "code",
      "metadata": {
        "id": "cBnDG3a-WDd4"
      },
      "source": [
        "turismo['title_clean_no_stop'] = turismo['title_clean'].apply(lambda x: remove_stop(x) )"
      ],
      "execution_count": 60,
      "outputs": []
    },
    {
      "cell_type": "code",
      "metadata": {
        "colab": {
          "base_uri": "https://localhost:8080/",
          "height": 35
        },
        "id": "IyIr5fdrYnYQ",
        "outputId": "7813349a-dbf1-4bef-ae96-5961e53131f9"
      },
      "source": [
        "turismo.iloc[0]['title_clean']"
      ],
      "execution_count": 61,
      "outputs": [
        {
          "output_type": "execute_result",
          "data": {
            "application/vnd.google.colaboratory.intrinsic+json": {
              "type": "string"
            },
            "text/plain": [
              "'latam inaugura voo direto de 15 horas entre chile e austrália'"
            ]
          },
          "metadata": {
            "tags": []
          },
          "execution_count": 61
        }
      ]
    },
    {
      "cell_type": "code",
      "metadata": {
        "colab": {
          "base_uri": "https://localhost:8080/",
          "height": 35
        },
        "id": "nJcOS432Yu4v",
        "outputId": "ff1835db-9041-4775-80c8-e6530f8294fa"
      },
      "source": [
        "turismo.iloc[0]['title_clean_no_stop']"
      ],
      "execution_count": 63,
      "outputs": [
        {
          "output_type": "execute_result",
          "data": {
            "application/vnd.google.colaboratory.intrinsic+json": {
              "type": "string"
            },
            "text/plain": [
              "'latam inaugura voo direto 15 horas chile e austrália'"
            ]
          },
          "metadata": {
            "tags": []
          },
          "execution_count": 63
        }
      ]
    },
    {
      "cell_type": "code",
      "metadata": {
        "id": "kVeWiO1wZTSY"
      },
      "source": [
        "turismo['title_lemmas'] = turismo['title_clean_no_stop'].apply(lambda x : limpa_texto2(x))"
      ],
      "execution_count": 64,
      "outputs": []
    },
    {
      "cell_type": "code",
      "metadata": {
        "colab": {
          "base_uri": "https://localhost:8080/",
          "height": 35
        },
        "id": "glR2qJZ9bvBz",
        "outputId": "8f125186-c085-482f-a24a-7f894e64e4cb"
      },
      "source": [
        "turismo.iloc[0]['title_lemmas']"
      ],
      "execution_count": 65,
      "outputs": [
        {
          "output_type": "execute_result",
          "data": {
            "application/vnd.google.colaboratory.intrinsic+json": {
              "type": "string"
            },
            "text/plain": [
              "'latir inaugurar voar direto 15 horar chile e austrália'"
            ]
          },
          "metadata": {
            "tags": []
          },
          "execution_count": 65
        }
      ]
    },
    {
      "cell_type": "code",
      "metadata": {
        "colab": {
          "base_uri": "https://localhost:8080/",
          "height": 35
        },
        "id": "jDkywMBgby-d",
        "outputId": "a342574c-2277-4e90-95b4-d9d574020f02"
      },
      "source": [
        "turismo.iloc[5]['title_lemmas']"
      ],
      "execution_count": 66,
      "outputs": [
        {
          "output_type": "execute_result",
          "data": {
            "application/vnd.google.colaboratory.intrinsic+json": {
              "type": "string"
            },
            "text/plain": [
              "'viagem o o japão aula cultura e tradição ator jayme matarazzo'"
            ]
          },
          "metadata": {
            "tags": []
          },
          "execution_count": 66
        }
      ]
    },
    {
      "cell_type": "code",
      "metadata": {
        "id": "QBbimjEIcRef"
      },
      "source": [
        "titulos = \" \".join(turismo['title_lemmas'])"
      ],
      "execution_count": 68,
      "outputs": []
    },
    {
      "cell_type": "code",
      "metadata": {
        "id": "nfcLW4frcV8M"
      },
      "source": [
        "token = word_tokenize(titulos)"
      ],
      "execution_count": 69,
      "outputs": []
    },
    {
      "cell_type": "code",
      "metadata": {
        "id": "hU39dPRpcjnM"
      },
      "source": [
        "bigram = ngrams(token, 2)"
      ],
      "execution_count": 71,
      "outputs": []
    },
    {
      "cell_type": "code",
      "metadata": {
        "colab": {
          "base_uri": "https://localhost:8080/"
        },
        "id": "btzeinDlcpzW",
        "outputId": "7b9e4bb8-e9b1-4138-eae9-f8c4897d5c81"
      },
      "source": [
        "print(Counter(bigram).most_common(10))"
      ],
      "execution_count": 72,
      "outputs": [
        {
          "output_type": "stream",
          "text": [
            "[(('o', 'o'), 91), (('fotógrafo', 'registrar'), 39), (('atrair', 'turista'), 25), (('fotógrafo', 'clicar'), 23), (('álbum', 'viagem'), 22), (('companhia', 'aéreo'), 20), (('turista', 'o'), 20), (('o', 'turismo'), 20), (('viagem', 'o'), 18), (('e', 'o'), 18)]\n"
          ],
          "name": "stdout"
        }
      ]
    },
    {
      "cell_type": "code",
      "metadata": {
        "id": "xnLEgOnKdEk6"
      },
      "source": [
        "trigram = ngrams(token, 3)"
      ],
      "execution_count": 73,
      "outputs": []
    },
    {
      "cell_type": "code",
      "metadata": {
        "colab": {
          "base_uri": "https://localhost:8080/"
        },
        "id": "Kzv_O4-ZdIyH",
        "outputId": "1768975d-90c8-4643-f636-acce0cdcb416"
      },
      "source": [
        "print(Counter(trigram).most_common(10))"
      ],
      "execution_count": 74,
      "outputs": [
        {
          "output_type": "stream",
          "text": [
            "[(('voltar', 'o', 'o'), 8), (('atrair', 'turista', 'o'), 7), (('fotógrafo', 'registrar', 'o'), 7), (('museu', 'dedicar', 'o'), 6), (('o', 'o', 'redor'), 6), (('o', 'o', 'mundo'), 6), (('o', 'o', 'público'), 6), (('viagem', 'o', 'o'), 5), (('fotógrafo', 'registrar', 'paisagem'), 5), (('o', 'redor', 'mundo'), 5)]\n"
          ],
          "name": "stdout"
        }
      ]
    },
    {
      "cell_type": "code",
      "metadata": {
        "id": "TipMuW--d2p6"
      },
      "source": [
        "vectorizer = CountVectorizer(min_df=10, max_df=0.9, stop_words=STOP_WORDS, lowercase=True)"
      ],
      "execution_count": 75,
      "outputs": []
    },
    {
      "cell_type": "code",
      "metadata": {
        "id": "bXiIwEhVd_Gy"
      },
      "source": [
        "data_vectorized = vectorizer.fit_transform(turismo['title_lemmas'])"
      ],
      "execution_count": 77,
      "outputs": []
    },
    {
      "cell_type": "code",
      "metadata": {
        "id": "nyXQ2WgiePRu"
      },
      "source": [
        "NUM_TOPICS = 2\n",
        "lda = LatentDirichletAllocation(n_components=NUM_TOPICS, max_iter=30, learning_method='online', verbose=True)"
      ],
      "execution_count": 79,
      "outputs": []
    },
    {
      "cell_type": "code",
      "metadata": {
        "colab": {
          "base_uri": "https://localhost:8080/"
        },
        "id": "qEUy0K7het9X",
        "outputId": "0df8c0f2-8d4b-4ce5-a635-7ac129795a20"
      },
      "source": [
        "data_lda = lda.fit_transform(data_vectorized)"
      ],
      "execution_count": 80,
      "outputs": [
        {
          "output_type": "stream",
          "text": [
            "iteration: 1 of max_iter: 30\n",
            "iteration: 2 of max_iter: 30\n",
            "iteration: 3 of max_iter: 30\n",
            "iteration: 4 of max_iter: 30\n",
            "iteration: 5 of max_iter: 30\n",
            "iteration: 6 of max_iter: 30\n",
            "iteration: 7 of max_iter: 30\n",
            "iteration: 8 of max_iter: 30\n",
            "iteration: 9 of max_iter: 30\n",
            "iteration: 10 of max_iter: 30\n",
            "iteration: 11 of max_iter: 30\n",
            "iteration: 12 of max_iter: 30\n",
            "iteration: 13 of max_iter: 30\n",
            "iteration: 14 of max_iter: 30\n",
            "iteration: 15 of max_iter: 30\n",
            "iteration: 16 of max_iter: 30\n",
            "iteration: 17 of max_iter: 30\n",
            "iteration: 18 of max_iter: 30\n",
            "iteration: 19 of max_iter: 30\n",
            "iteration: 20 of max_iter: 30\n",
            "iteration: 21 of max_iter: 30\n",
            "iteration: 22 of max_iter: 30\n",
            "iteration: 23 of max_iter: 30\n",
            "iteration: 24 of max_iter: 30\n",
            "iteration: 25 of max_iter: 30\n",
            "iteration: 26 of max_iter: 30\n",
            "iteration: 27 of max_iter: 30\n",
            "iteration: 28 of max_iter: 30\n",
            "iteration: 29 of max_iter: 30\n",
            "iteration: 30 of max_iter: 30\n"
          ],
          "name": "stdout"
        }
      ]
    },
    {
      "cell_type": "code",
      "metadata": {
        "colab": {
          "base_uri": "https://localhost:8080/"
        },
        "id": "Cv9qUDgAfAWS",
        "outputId": "d45a5a3d-8749-45d5-b261-ddce051c1a22"
      },
      "source": [
        "import pyLDAvis.sklearn"
      ],
      "execution_count": 81,
      "outputs": [
        {
          "output_type": "stream",
          "text": [
            "/usr/local/lib/python3.7/dist-packages/past/types/oldstr.py:5: DeprecationWarning: Using or importing the ABCs from 'collections' instead of from 'collections.abc' is deprecated since Python 3.3,and in 3.9 it will stop working\n",
            "  from collections import Iterable\n",
            "/usr/local/lib/python3.7/dist-packages/past/builtins/misc.py:4: DeprecationWarning: Using or importing the ABCs from 'collections' instead of from 'collections.abc' is deprecated since Python 3.3,and in 3.9 it will stop working\n",
            "  from collections import Mapping\n"
          ],
          "name": "stderr"
        }
      ]
    },
    {
      "cell_type": "code",
      "metadata": {
        "id": "RUG1KVlDf6km"
      },
      "source": [
        "pyLDAvis.enable_notebook()"
      ],
      "execution_count": 82,
      "outputs": []
    },
    {
      "cell_type": "code",
      "metadata": {
        "id": "J1fhI2faf9Er"
      },
      "source": [
        "dash = pyLDAvis.sklearn.prepare(lda, data_vectorized, vectorizer, mds='tsne')"
      ],
      "execution_count": 83,
      "outputs": []
    },
    {
      "cell_type": "code",
      "metadata": {
        "colab": {
          "base_uri": "https://localhost:8080/",
          "height": 861
        },
        "id": "gQTEw-AMgKx8",
        "outputId": "b90becb4-172b-45dc-a27d-492c0d95d9eb"
      },
      "source": [
        "dash "
      ],
      "execution_count": 84,
      "outputs": [
        {
          "output_type": "execute_result",
          "data": {
            "text/html": [
              "\n",
              "<link rel=\"stylesheet\" type=\"text/css\" href=\"https://cdn.jsdelivr.net/gh/bmabey/pyLDAvis@3.3.1/pyLDAvis/js/ldavis.v1.0.0.css\">\n",
              "\n",
              "\n",
              "<div id=\"ldavis_el2171397865061241123142218037\"></div>\n",
              "<script type=\"text/javascript\">\n",
              "\n",
              "var ldavis_el2171397865061241123142218037_data = {\"mdsDat\": {\"x\": [-60.31231689453125, 60.31256103515625], \"y\": [141.36962890625, -141.369140625], \"topics\": [1, 2], \"cluster\": [1, 1], \"Freq\": [52.98296672321753, 47.01703327678248]}, \"tinfo\": {\"Term\": [\"fot\\u00f3grafo\", \"turismo\", \"hotel\", \"parque\", \"mundo\", \"brasil\", \"turista\", \"conhecer\", \"ano\", \"museu\", \"registrar\", \"praia\", \"pacote\", \"ilhar\", \"viajar\", \"atrair\", \"brasileiro\", \"pa\\u00eds\", \"rir\", \"tur\\u00edstico\", \"conferir\", \"sul\", \"roteiro\", \"imagem\", \"inaugurar\", \"parir\", \"clicar\", \"destino\", \"a\\u00e9reo\", \"oferecer\", \"turismo\", \"hotel\", \"brasil\", \"ano\", \"mundo\", \"conhecer\", \"parir\", \"a\\u00e9reo\", \"tur\\u00edstico\", \"museu\", \"site\", \"cruzeiro\", \"rir\", \"abrir\", \"criar\", \"oferecer\", \"companhia\", \"casar\", \"crise\", \"airbnb\", \"pa\\u00eds\", \"avi\\u00e3o\", \"voltar\", \"visitar\", \"aeroporto\", \"esqui\", \"it\\u00e1lia\", \"lan\\u00e7ar\", \"londres\", \"virar\", \"brasileiro\", \"sp\", \"cubar\", \"destaque\", \"eua\", \"paulo\", \"visitante\", \"ganhar\", \"atra\\u00e7\\u00f5es\", \"cidade\", \"viagem\", \"turista\", \"fot\\u00f3grafo\", \"parque\", \"registrar\", \"pacote\", \"praia\", \"ilhar\", \"atrair\", \"viajar\", \"imagem\", \"sul\", \"clicar\", \"roteiro\", \"conferir\", \"inaugurar\", \"\\u00e1lbum\", \"mar\", \"\\u00e1gua\", \"paisagem\", \"alto\", \"levar\", \"norte\", \"destino\", \"chino\", \"disney\", \"regi\\u00e3o\", \"revelar\", \"vinho\", \"visto\", \"ruir\", \"comido\", \"mostrar\", \"passeio\", \"roto\", \"dia\", \"turista\", \"foto\", \"viagem\", \"cidade\"], \"Freq\": [103.0, 111.0, 103.0, 65.0, 80.0, 76.0, 191.0, 75.0, 72.0, 72.0, 54.0, 51.0, 50.0, 48.0, 47.0, 42.0, 57.0, 53.0, 51.0, 48.0, 39.0, 35.0, 35.0, 34.0, 34.0, 40.0, 30.0, 31.0, 36.0, 37.0, 110.89729908837215, 102.93988448650053, 75.90419936345877, 71.48079744316522, 79.69475463152997, 74.73671080327415, 39.56091607828311, 35.97322167024669, 48.01260498202107, 71.68939141333013, 32.75997431987964, 34.77919248920807, 50.463958626361475, 29.994631430256746, 31.853202848807214, 36.87176707034773, 24.505317251343932, 29.02454792956102, 26.497929578271524, 24.419520629136915, 52.68186151182463, 24.72896637117287, 24.121980674062506, 26.789106034682753, 21.38099931105371, 23.48989421201665, 30.67185359014439, 22.680010387781106, 31.935392221742998, 28.218173932679775, 56.42631613899483, 26.92525043353855, 24.81469855871178, 27.387524334342306, 50.23857124692698, 25.288458129059975, 25.78996454364242, 28.97974461887468, 29.51451675308542, 41.40551757062927, 41.528644630929875, 41.727293599361154, 102.7017237542719, 65.39014812493743, 53.848062267952464, 50.26701865124193, 50.91879149962276, 47.677718814341965, 42.22643297978413, 47.297728080386236, 34.05539926959195, 35.08443997900801, 29.944084892462822, 35.0244216479671, 38.63818233347834, 33.752538084343726, 26.65754037469014, 28.84063142263742, 26.726667757831745, 24.27189203944229, 26.5385418819924, 28.102765199344553, 24.602271476595714, 30.818756957599092, 25.194974604361985, 25.491922228938858, 22.709939799080498, 20.776698486259914, 21.402327898901838, 20.991186104669666, 21.253945262633472, 19.376846459127766, 28.792427165922827, 27.357621331744365, 23.554532321957907, 23.195936182180684, 149.74470886824565, 30.339653794413035, 74.06294537773711, 38.39510025444484], \"Total\": [103.0, 111.0, 103.0, 65.0, 80.0, 76.0, 191.0, 75.0, 72.0, 72.0, 54.0, 51.0, 50.0, 48.0, 47.0, 42.0, 57.0, 53.0, 51.0, 48.0, 39.0, 35.0, 35.0, 34.0, 34.0, 40.0, 30.0, 31.0, 36.0, 37.0, 111.51997336328198, 103.52048499122584, 76.53382077451435, 72.1063851834368, 80.4561748863371, 75.53746689330777, 40.14011799893021, 36.523057431107645, 48.778956397265524, 72.85968569912312, 33.30615258459809, 35.40981207365965, 51.387872351525104, 30.569983009882392, 32.47074994317354, 37.6236728419478, 25.012769864432002, 29.627757002659795, 27.069995880251795, 24.94922895981479, 53.851393355175226, 25.28413621463781, 24.675354777903404, 27.40866880807227, 21.906829172962283, 24.07697855919529, 31.44915845695213, 23.2611094939857, 32.762133406748134, 28.95667995662352, 57.910799601663406, 27.689704350373663, 25.533388197323966, 28.56152741630032, 60.03595636359031, 26.20914471846741, 27.26441371726275, 34.0249172511119, 35.37514916450399, 79.80061782507411, 115.59159000866698, 191.4720024676068, 103.19748077314966, 65.93612315430124, 54.353025973419776, 50.834267558292126, 51.53070467429557, 48.25373911230895, 42.76946168012316, 47.90626221787605, 34.55959372862894, 35.644562404177876, 30.429908735306718, 35.61502304398843, 39.308185687101656, 34.341002597013286, 27.144627736135345, 29.369264825553586, 27.287959889941376, 24.788655009542335, 27.119061002577727, 28.72114672806695, 25.15684265395199, 31.525222731053187, 25.795312512170018, 26.118726705734428, 23.271134826565103, 21.315228567959828, 21.97316223261617, 21.574850800022688, 21.86869438174414, 19.942091057109348, 29.69201811354804, 28.54907640597971, 24.426757531941, 24.043267893433875, 191.4720024676068, 33.00528657562259, 115.59159000866698, 79.80061782507411], \"Category\": [\"Default\", \"Default\", \"Default\", \"Default\", \"Default\", \"Default\", \"Default\", \"Default\", \"Default\", \"Default\", \"Default\", \"Default\", \"Default\", \"Default\", \"Default\", \"Default\", \"Default\", \"Default\", \"Default\", \"Default\", \"Default\", \"Default\", \"Default\", \"Default\", \"Default\", \"Default\", \"Default\", \"Default\", \"Default\", \"Default\", \"Topic1\", \"Topic1\", \"Topic1\", \"Topic1\", \"Topic1\", \"Topic1\", \"Topic1\", \"Topic1\", \"Topic1\", \"Topic1\", \"Topic1\", \"Topic1\", \"Topic1\", \"Topic1\", \"Topic1\", \"Topic1\", \"Topic1\", \"Topic1\", \"Topic1\", \"Topic1\", \"Topic1\", \"Topic1\", \"Topic1\", \"Topic1\", \"Topic1\", \"Topic1\", \"Topic1\", \"Topic1\", \"Topic1\", \"Topic1\", \"Topic1\", \"Topic1\", \"Topic1\", \"Topic1\", \"Topic1\", \"Topic1\", \"Topic1\", \"Topic1\", \"Topic1\", \"Topic1\", \"Topic1\", \"Topic1\", \"Topic2\", \"Topic2\", \"Topic2\", \"Topic2\", \"Topic2\", \"Topic2\", \"Topic2\", \"Topic2\", \"Topic2\", \"Topic2\", \"Topic2\", \"Topic2\", \"Topic2\", \"Topic2\", \"Topic2\", \"Topic2\", \"Topic2\", \"Topic2\", \"Topic2\", \"Topic2\", \"Topic2\", \"Topic2\", \"Topic2\", \"Topic2\", \"Topic2\", \"Topic2\", \"Topic2\", \"Topic2\", \"Topic2\", \"Topic2\", \"Topic2\", \"Topic2\", \"Topic2\", \"Topic2\", \"Topic2\", \"Topic2\", \"Topic2\", \"Topic2\"], \"logprob\": [30.0, 29.0, 28.0, 27.0, 26.0, 25.0, 24.0, 23.0, 22.0, 21.0, 20.0, 19.0, 18.0, 17.0, 16.0, 15.0, 14.0, 13.0, 12.0, 11.0, 10.0, 9.0, 8.0, 7.0, 6.0, 5.0, 4.0, 3.0, 2.0, 1.0, -3.2931, -3.3676, -3.6723, -3.7323, -3.6235, -3.6878, -4.3239, -4.419, -4.1303, -3.7294, -4.5125, -4.4527, -4.0805, -4.6007, -4.5406, -4.3943, -4.8028, -4.6336, -4.7247, -4.8063, -4.0375, -4.7938, -4.8186, -4.7137, -4.9392, -4.8452, -4.5784, -4.8802, -4.538, -4.6618, -3.9688, -4.7087, -4.7903, -4.6916, -4.0849, -4.7714, -4.7517, -4.6351, -4.6168, -4.2783, -4.2753, -4.2706, -3.2504, -3.7019, -3.8961, -3.9649, -3.952, -4.0178, -4.1392, -4.0258, -4.3543, -4.3245, -4.4829, -4.3262, -4.228, -4.3632, -4.5992, -4.5205, -4.5966, -4.693, -4.6037, -4.5464, -4.6794, -4.4541, -4.6556, -4.6439, -4.7595, -4.8484, -4.8188, -4.8382, -4.8257, -4.9182, -4.5222, -4.5733, -4.723, -4.7383, -2.8733, -4.4698, -3.5774, -4.2343], \"loglift\": [30.0, 29.0, 28.0, 27.0, 26.0, 25.0, 24.0, 23.0, 22.0, 21.0, 20.0, 19.0, 18.0, 17.0, 16.0, 15.0, 14.0, 13.0, 12.0, 11.0, 10.0, 9.0, 8.0, 7.0, 6.0, 5.0, 4.0, 3.0, 2.0, 1.0, 0.6296, 0.6296, 0.6269, 0.6265, 0.6257, 0.6245, 0.6207, 0.62, 0.6194, 0.619, 0.6187, 0.6172, 0.6171, 0.6162, 0.616, 0.615, 0.6147, 0.6146, 0.6138, 0.6137, 0.6132, 0.613, 0.6125, 0.6123, 0.6109, 0.6105, 0.6102, 0.6099, 0.6096, 0.6094, 0.6092, 0.6072, 0.6066, 0.5932, 0.457, 0.5994, 0.5796, 0.4747, 0.4541, -0.0209, -0.3885, -0.8884, 0.7498, 0.7463, 0.7453, 0.7434, 0.7427, 0.7427, 0.7419, 0.7419, 0.74, 0.7388, 0.7386, 0.7379, 0.7375, 0.7374, 0.7366, 0.7365, 0.7339, 0.7336, 0.733, 0.7329, 0.7324, 0.732, 0.7311, 0.7304, 0.7302, 0.7291, 0.7283, 0.7272, 0.7261, 0.7259, 0.7239, 0.712, 0.7183, 0.7188, 0.5089, 0.6704, 0.3095, 0.0231]}, \"token.table\": {\"Topic\": [1, 2, 1, 2, 1, 2, 1, 2, 1, 2, 1, 2, 1, 2, 1, 2, 1, 2, 1, 2, 1, 2, 1, 2, 1, 2, 1, 2, 2, 1, 2, 1, 2, 1, 2, 1, 2, 1, 2, 1, 2, 1, 2, 1, 2, 1, 2, 1, 2, 1, 2, 1, 2, 1, 2, 1, 2, 1, 2, 2, 1, 2, 1, 2, 1, 2, 1, 2, 1, 2, 1, 2, 1, 2, 1, 2, 1, 2, 1, 2, 1, 2, 1, 2, 1, 2, 1, 2, 1, 2, 1, 2, 1, 2, 1, 2, 1, 2, 1, 2, 1, 2, 1, 2, 1, 2, 1, 2, 1, 2, 1, 2, 1, 2, 1, 2, 1, 2, 1, 2, 1, 2, 1, 2, 1, 2, 1, 2, 1, 2, 1, 2, 1, 2, 1, 2, 1, 2, 1, 2, 1, 2, 1, 2, 1, 2, 1, 2, 1, 2, 2], \"Freq\": [0.9813548143059768, 0.03271182714353256, 0.9586051835342057, 0.04564786588258122, 0.9619535753452063, 0.04008139897271693, 0.03687443307513294, 0.9956096930285894, 0.9846562106722978, 0.013868397333412646, 0.02338116872919969, 0.982009086626387, 0.8480529611477229, 0.16961059222954455, 0.9887622732204189, 0.03955049092881675, 0.9856787063324511, 0.027379964064790308, 0.9930250343036302, 0.013066118872416186, 0.9670044341503355, 0.017267936324113137, 0.97881186204533, 0.0337521331739769, 0.03876673327869969, 0.9691683319674923, 0.5137804833776288, 0.47618678947194865, 0.9858721648150094, 0.05014519275517501, 0.9527586623483252, 0.9994894662006162, 0.03997957864802465, 0.02543999379569772, 0.992159758032211, 0.9928847641387432, 0.01323846352184991, 0.9855023384431407, 0.030796948076348148, 0.9604729943445472, 0.036941269013251815, 0.988426595633799, 0.0282407598752514, 0.9791101677066161, 0.03916440670826465, 0.9453275942305123, 0.035012133119648604, 0.03172063234988577, 0.9833396028464589, 0.04159168397708101, 0.9566087314728633, 0.03828670559887774, 0.9571676399719437, 0.9552693641958667, 0.0415334506172116, 0.8328342384885075, 0.1665668476977015, 0.090894529672582, 0.90894529672582, 0.9980863799031706, 0.8523165474870422, 0.14695112887707626, 0.9949721546293957, 0.009659923831353357, 0.02072378262071119, 0.9947415657941371, 0.02893552533783424, 0.9838078614863641, 0.02911970893030864, 0.9900701036304937, 0.9857179498915069, 0.031797353222306673, 0.9887748478182775, 0.042990210774707716, 0.03481755131395146, 0.9748914367906407, 0.9767373694110179, 0.030523042794094308, 0.0340492009568425, 0.9874268277484326, 0.03367908493709676, 0.9766934631758061, 0.9943301444919356, 0.012429126806149195, 0.9882008041775912, 0.01372501116913321, 0.03975061631364562, 0.9937654078411405, 0.9834233929109534, 0.026579010619214957, 0.019671769615905072, 0.9835884807952536, 0.040341035026509195, 0.9681848406362207, 0.9965092778518004, 0.02491273194629501, 0.01516619346363203, 0.9858025751360819, 0.03502740284062381, 0.9457398766968429, 0.953865540769996, 0.038154621630799836, 0.98418994751798, 0.01856962165128264, 0.019405905786085975, 0.9897011950903847, 0.018398239694861318, 0.9935049435225112, 0.04297169035600501, 0.9883488781881153, 0.04691481476783968, 0.9852111101246334, 0.9729922199924684, 0.01945984439984937, 0.028078038831110434, 0.9827313590888651, 0.040938712340038444, 0.9825290961609227, 0.045727466969166394, 0.9602768063524943, 0.9908079270392923, 0.030024482637554313, 0.9750916679482583, 0.03611450622030586, 0.028054770000004003, 0.9819169500001401, 0.9953373969917645, 0.008967003576502383, 0.21935321853180884, 0.7834043518993173, 0.9840308925241953, 0.02050064359425407, 0.36334823317899567, 0.6401849822677543, 0.020874097742212366, 0.9810825938839812, 0.045510063113066, 0.955711325374386, 0.9669616835197749, 0.03453434583999196, 0.9536240268954629, 0.03667784718828703, 0.98508979728516, 0.036484807306857776, 0.04635026259365596, 0.9733555144667753, 0.9726303923902169, 0.04052626634959237, 0.03664619869104287, 0.9894473646581575, 0.9946719572822575], \"Term\": [\"abrir\", \"abrir\", \"aeroporto\", \"aeroporto\", \"airbnb\", \"airbnb\", \"alto\", \"alto\", \"ano\", \"ano\", \"atrair\", \"atrair\", \"atra\\u00e7\\u00f5es\", \"atra\\u00e7\\u00f5es\", \"avi\\u00e3o\", \"avi\\u00e3o\", \"a\\u00e9reo\", \"a\\u00e9reo\", \"brasil\", \"brasil\", \"brasileiro\", \"brasileiro\", \"casar\", \"casar\", \"chino\", \"chino\", \"cidade\", \"cidade\", \"clicar\", \"comido\", \"comido\", \"companhia\", \"companhia\", \"conferir\", \"conferir\", \"conhecer\", \"conhecer\", \"criar\", \"criar\", \"crise\", \"crise\", \"cruzeiro\", \"cruzeiro\", \"cubar\", \"cubar\", \"destaque\", \"destaque\", \"destino\", \"destino\", \"dia\", \"dia\", \"disney\", \"disney\", \"esqui\", \"esqui\", \"eua\", \"eua\", \"foto\", \"foto\", \"fot\\u00f3grafo\", \"ganhar\", \"ganhar\", \"hotel\", \"hotel\", \"ilhar\", \"ilhar\", \"imagem\", \"imagem\", \"inaugurar\", \"inaugurar\", \"it\\u00e1lia\", \"it\\u00e1lia\", \"lan\\u00e7ar\", \"lan\\u00e7ar\", \"levar\", \"levar\", \"londres\", \"londres\", \"mar\", \"mar\", \"mostrar\", \"mostrar\", \"mundo\", \"mundo\", \"museu\", \"museu\", \"norte\", \"norte\", \"oferecer\", \"oferecer\", \"pacote\", \"pacote\", \"paisagem\", \"paisagem\", \"parir\", \"parir\", \"parque\", \"parque\", \"passeio\", \"passeio\", \"paulo\", \"paulo\", \"pa\\u00eds\", \"pa\\u00eds\", \"praia\", \"praia\", \"registrar\", \"registrar\", \"regi\\u00e3o\", \"regi\\u00e3o\", \"revelar\", \"revelar\", \"rir\", \"rir\", \"roteiro\", \"roteiro\", \"roto\", \"roto\", \"ruir\", \"ruir\", \"site\", \"site\", \"sp\", \"sp\", \"sul\", \"sul\", \"turismo\", \"turismo\", \"turista\", \"turista\", \"tur\\u00edstico\", \"tur\\u00edstico\", \"viagem\", \"viagem\", \"viajar\", \"viajar\", \"vinho\", \"vinho\", \"virar\", \"virar\", \"visitante\", \"visitante\", \"visitar\", \"visitar\", \"visto\", \"visto\", \"voltar\", \"voltar\", \"\\u00e1gua\", \"\\u00e1gua\", \"\\u00e1lbum\"]}, \"R\": 30, \"lambda.step\": 0.01, \"plot.opts\": {\"xlab\": \"PC1\", \"ylab\": \"PC2\"}, \"topic.order\": [2, 1]};\n",
              "\n",
              "function LDAvis_load_lib(url, callback){\n",
              "  var s = document.createElement('script');\n",
              "  s.src = url;\n",
              "  s.async = true;\n",
              "  s.onreadystatechange = s.onload = callback;\n",
              "  s.onerror = function(){console.warn(\"failed to load library \" + url);};\n",
              "  document.getElementsByTagName(\"head\")[0].appendChild(s);\n",
              "}\n",
              "\n",
              "if(typeof(LDAvis) !== \"undefined\"){\n",
              "   // already loaded: just create the visualization\n",
              "   !function(LDAvis){\n",
              "       new LDAvis(\"#\" + \"ldavis_el2171397865061241123142218037\", ldavis_el2171397865061241123142218037_data);\n",
              "   }(LDAvis);\n",
              "}else if(typeof define === \"function\" && define.amd){\n",
              "   // require.js is available: use it to load d3/LDAvis\n",
              "   require.config({paths: {d3: \"https://d3js.org/d3.v5\"}});\n",
              "   require([\"d3\"], function(d3){\n",
              "      window.d3 = d3;\n",
              "      LDAvis_load_lib(\"https://cdn.jsdelivr.net/gh/bmabey/pyLDAvis@3.3.1/pyLDAvis/js/ldavis.v3.0.0.js\", function(){\n",
              "        new LDAvis(\"#\" + \"ldavis_el2171397865061241123142218037\", ldavis_el2171397865061241123142218037_data);\n",
              "      });\n",
              "    });\n",
              "}else{\n",
              "    // require.js not available: dynamically load d3 & LDAvis\n",
              "    LDAvis_load_lib(\"https://d3js.org/d3.v5.js\", function(){\n",
              "         LDAvis_load_lib(\"https://cdn.jsdelivr.net/gh/bmabey/pyLDAvis@3.3.1/pyLDAvis/js/ldavis.v3.0.0.js\", function(){\n",
              "                 new LDAvis(\"#\" + \"ldavis_el2171397865061241123142218037\", ldavis_el2171397865061241123142218037_data);\n",
              "            })\n",
              "         });\n",
              "}\n",
              "</script>"
            ],
            "text/plain": [
              "PreparedData(topic_coordinates=               x           y  topics  cluster       Freq\n",
              "topic                                                   \n",
              "1     -60.312317  141.369629       1        1  52.982967\n",
              "0      60.312561 -141.369141       2        1  47.017033, topic_info=          Term        Freq       Total Category  logprob  loglift\n",
              "103  fotógrafo  103.000000  103.000000  Default  30.0000  30.0000\n",
              "213    turismo  111.000000  111.000000  Default  29.0000  29.0000\n",
              "114      hotel  103.000000  103.000000  Default  28.0000  28.0000\n",
              "154     parque   65.000000   65.000000  Default  27.0000  27.0000\n",
              "138      mundo   80.000000   80.000000  Default  26.0000  26.0000\n",
              "..         ...         ...         ...      ...      ...      ...\n",
              "75         dia   23.195936   24.043268   Topic2  -4.7383   0.7188\n",
              "214    turista  149.744709  191.472002   Topic2  -2.8733   0.5089\n",
              "102       foto   30.339654   33.005287   Topic2  -4.4698   0.6704\n",
              "221     viagem   74.062945  115.591590   Topic2  -3.5774   0.3095\n",
              "50      cidade   38.395100   79.800618   Topic2  -4.2343   0.0231\n",
              "\n",
              "[110 rows x 6 columns], token_table=      Topic      Freq       Term\n",
              "term                            \n",
              "6         1  0.981355      abrir\n",
              "6         2  0.032712      abrir\n",
              "7         1  0.958605  aeroporto\n",
              "7         2  0.045648  aeroporto\n",
              "9         1  0.961954     airbnb\n",
              "...     ...       ...        ...\n",
              "233       1  0.972630     voltar\n",
              "233       2  0.040526     voltar\n",
              "238       1  0.036646       água\n",
              "238       2  0.989447       água\n",
              "239       2  0.994672      álbum\n",
              "\n",
              "[151 rows x 3 columns], R=30, lambda_step=0.01, plot_opts={'xlab': 'PC1', 'ylab': 'PC2'}, topic_order=[2, 1])"
            ]
          },
          "metadata": {
            "tags": []
          },
          "execution_count": 84
        }
      ]
    }
  ]
}