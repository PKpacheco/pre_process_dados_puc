{
  "nbformat": 4,
  "nbformat_minor": 0,
  "metadata": {
    "colab": {
      "name": "aula_1_pre_proces_dados_vacinas.ipynb",
      "provenance": [],
      "collapsed_sections": [],
      "authorship_tag": "ABX9TyMObgPKKh4x3aohFhMNbJeJ",
      "include_colab_link": true
    },
    "kernelspec": {
      "name": "python3",
      "display_name": "Python 3"
    },
    "language_info": {
      "name": "python"
    }
  },
  "cells": [
    {
      "cell_type": "markdown",
      "metadata": {
        "id": "view-in-github",
        "colab_type": "text"
      },
      "source": [
        "<a href=\"https://colab.research.google.com/github/PKpacheco/pre_process_dados_puc/blob/main/aula_1_pre_proces_dados_vacinas.ipynb\" target=\"_parent\"><img src=\"https://colab.research.google.com/assets/colab-badge.svg\" alt=\"Open In Colab\"/></a>"
      ]
    },
    {
      "cell_type": "markdown",
      "metadata": {
        "id": "-CclnKi4Ca5a"
      },
      "source": [
        "Vacinas"
      ]
    },
    {
      "cell_type": "code",
      "metadata": {
        "id": "gEGgAYclFYn6"
      },
      "source": [
        "import pandas as pd\n",
        "import numpy as np\n",
        "import seaborn as sns\n",
        "import altair as alt\n",
        "import missingno as msno\n",
        "from sklearn.preprocessing import StandardScaler\n",
        "import matplotlib as plt"
      ],
      "execution_count": 15,
      "outputs": []
    },
    {
      "cell_type": "code",
      "metadata": {
        "id": "0hCuADISB9CQ"
      },
      "source": [
        "\n",
        "excel_incidence = pd.read_excel('https://bit.ly/ds_vacina_incidence', sheet_name=None)"
      ],
      "execution_count": 7,
      "outputs": []
    },
    {
      "cell_type": "code",
      "metadata": {
        "colab": {
          "base_uri": "https://localhost:8080/"
        },
        "id": "qzvMwJ6cFgMz",
        "outputId": "ed768349-a891-4c5a-ea55-7221e0d29ffd"
      },
      "source": [
        "excel_incidence.keys()"
      ],
      "execution_count": 8,
      "outputs": [
        {
          "output_type": "execute_result",
          "data": {
            "text/plain": [
              "dict_keys(['Readme Incidence', 'CRS', 'Diphtheria', 'JapEnc', 'Measles', 'Mumps', 'Ntetanus', 'Pertussis', 'Polio', 'Rubella', 'Ttetanus', 'Yfever', 'Reg_&_Global_Incidence'])"
            ]
          },
          "metadata": {
            "tags": []
          },
          "execution_count": 8
        }
      ]
    },
    {
      "cell_type": "code",
      "metadata": {
        "id": "wy-xr-2KFqA8"
      },
      "source": [
        "sheets = ['CRS', 'Diphtheria', 'JapEnc', 'Measles', 'Mumps', 'Ntetanus', 'Pertussis', 'Polio', 'Rubella', 'Ttetanus', 'Yfever']"
      ],
      "execution_count": 9,
      "outputs": []
    },
    {
      "cell_type": "code",
      "metadata": {
        "id": "Z7R2F24hF0ZC"
      },
      "source": [
        "Etapa de concatenação"
      ],
      "execution_count": null,
      "outputs": []
    },
    {
      "cell_type": "markdown",
      "metadata": {
        "id": "dFiWuGvgFyhz"
      },
      "source": [
        ""
      ]
    },
    {
      "cell_type": "code",
      "metadata": {
        "id": "7U0KrDuoFxz_"
      },
      "source": [
        "df = pd.concat(pd.read_excel('https://bit.ly/ds_vacina_incidence', sheet_name=sheets), ignore_index=True)"
      ],
      "execution_count": 10,
      "outputs": []
    },
    {
      "cell_type": "code",
      "metadata": {
        "colab": {
          "base_uri": "https://localhost:8080/",
          "height": 224
        },
        "id": "6xKifv6iGEfO",
        "outputId": "a74d9888-6ca7-4080-ae7b-961a04bd060f"
      },
      "source": [
        "df.head()\n"
      ],
      "execution_count": 11,
      "outputs": [
        {
          "output_type": "execute_result",
          "data": {
            "text/html": [
              "<div>\n",
              "<style scoped>\n",
              "    .dataframe tbody tr th:only-of-type {\n",
              "        vertical-align: middle;\n",
              "    }\n",
              "\n",
              "    .dataframe tbody tr th {\n",
              "        vertical-align: top;\n",
              "    }\n",
              "\n",
              "    .dataframe thead th {\n",
              "        text-align: right;\n",
              "    }\n",
              "</style>\n",
              "<table border=\"1\" class=\"dataframe\">\n",
              "  <thead>\n",
              "    <tr style=\"text-align: right;\">\n",
              "      <th></th>\n",
              "      <th>WHO_REGION</th>\n",
              "      <th>ISO_code</th>\n",
              "      <th>Cname</th>\n",
              "      <th>Disease</th>\n",
              "      <th>2018</th>\n",
              "      <th>2017</th>\n",
              "      <th>2016</th>\n",
              "      <th>2015</th>\n",
              "      <th>2014</th>\n",
              "      <th>2013</th>\n",
              "      <th>2012</th>\n",
              "      <th>2011</th>\n",
              "      <th>2010</th>\n",
              "      <th>2009</th>\n",
              "      <th>2008</th>\n",
              "      <th>2007</th>\n",
              "      <th>2006</th>\n",
              "      <th>2005</th>\n",
              "      <th>2004</th>\n",
              "      <th>2003</th>\n",
              "      <th>2002</th>\n",
              "      <th>2001</th>\n",
              "      <th>2000</th>\n",
              "      <th>1999</th>\n",
              "      <th>1998</th>\n",
              "      <th>1997</th>\n",
              "      <th>1996</th>\n",
              "      <th>1995</th>\n",
              "      <th>1994</th>\n",
              "      <th>1993</th>\n",
              "      <th>1992</th>\n",
              "      <th>1991</th>\n",
              "      <th>1990</th>\n",
              "      <th>1989</th>\n",
              "      <th>1988</th>\n",
              "      <th>1987</th>\n",
              "      <th>1986</th>\n",
              "      <th>1985</th>\n",
              "      <th>1984</th>\n",
              "      <th>1983</th>\n",
              "      <th>1982</th>\n",
              "      <th>1981</th>\n",
              "      <th>1980</th>\n",
              "    </tr>\n",
              "  </thead>\n",
              "  <tbody>\n",
              "    <tr>\n",
              "      <th>0</th>\n",
              "      <td>EMR</td>\n",
              "      <td>AFG</td>\n",
              "      <td>Afghanistan</td>\n",
              "      <td>CRS</td>\n",
              "      <td>NaN</td>\n",
              "      <td>NaN</td>\n",
              "      <td>NaN</td>\n",
              "      <td>0.0</td>\n",
              "      <td>0.0</td>\n",
              "      <td>0.0</td>\n",
              "      <td>NaN</td>\n",
              "      <td>NaN</td>\n",
              "      <td>0.0</td>\n",
              "      <td>NaN</td>\n",
              "      <td>NaN</td>\n",
              "      <td>NaN</td>\n",
              "      <td>NaN</td>\n",
              "      <td>NaN</td>\n",
              "      <td>NaN</td>\n",
              "      <td>NaN</td>\n",
              "      <td>NaN</td>\n",
              "      <td>NaN</td>\n",
              "      <td>NaN</td>\n",
              "      <td>NaN</td>\n",
              "      <td>NaN</td>\n",
              "      <td>NaN</td>\n",
              "      <td>NaN</td>\n",
              "      <td>NaN</td>\n",
              "      <td>NaN</td>\n",
              "      <td>NaN</td>\n",
              "      <td>NaN</td>\n",
              "      <td>NaN</td>\n",
              "      <td>NaN</td>\n",
              "      <td>NaN</td>\n",
              "      <td>NaN</td>\n",
              "      <td>NaN</td>\n",
              "      <td>NaN</td>\n",
              "      <td>NaN</td>\n",
              "      <td>NaN</td>\n",
              "      <td>NaN</td>\n",
              "      <td>NaN</td>\n",
              "      <td>NaN</td>\n",
              "      <td>NaN</td>\n",
              "    </tr>\n",
              "    <tr>\n",
              "      <th>1</th>\n",
              "      <td>EUR</td>\n",
              "      <td>ALB</td>\n",
              "      <td>Albania</td>\n",
              "      <td>CRS</td>\n",
              "      <td>0.0</td>\n",
              "      <td>0.0</td>\n",
              "      <td>NaN</td>\n",
              "      <td>NaN</td>\n",
              "      <td>NaN</td>\n",
              "      <td>0.0</td>\n",
              "      <td>0.0</td>\n",
              "      <td>0.0</td>\n",
              "      <td>0.0</td>\n",
              "      <td>0.0</td>\n",
              "      <td>0.0</td>\n",
              "      <td>0.0</td>\n",
              "      <td>0.0</td>\n",
              "      <td>0.0</td>\n",
              "      <td>14.0</td>\n",
              "      <td>0.0</td>\n",
              "      <td>NaN</td>\n",
              "      <td>NaN</td>\n",
              "      <td>NaN</td>\n",
              "      <td>NaN</td>\n",
              "      <td>NaN</td>\n",
              "      <td>NaN</td>\n",
              "      <td>NaN</td>\n",
              "      <td>NaN</td>\n",
              "      <td>NaN</td>\n",
              "      <td>NaN</td>\n",
              "      <td>NaN</td>\n",
              "      <td>NaN</td>\n",
              "      <td>NaN</td>\n",
              "      <td>NaN</td>\n",
              "      <td>NaN</td>\n",
              "      <td>NaN</td>\n",
              "      <td>NaN</td>\n",
              "      <td>NaN</td>\n",
              "      <td>NaN</td>\n",
              "      <td>NaN</td>\n",
              "      <td>NaN</td>\n",
              "      <td>NaN</td>\n",
              "      <td>NaN</td>\n",
              "    </tr>\n",
              "    <tr>\n",
              "      <th>2</th>\n",
              "      <td>AFR</td>\n",
              "      <td>DZA</td>\n",
              "      <td>Algeria</td>\n",
              "      <td>CRS</td>\n",
              "      <td>NaN</td>\n",
              "      <td>NaN</td>\n",
              "      <td>0.0</td>\n",
              "      <td>0.0</td>\n",
              "      <td>NaN</td>\n",
              "      <td>NaN</td>\n",
              "      <td>0.0</td>\n",
              "      <td>0.0</td>\n",
              "      <td>0.0</td>\n",
              "      <td>NaN</td>\n",
              "      <td>0.0</td>\n",
              "      <td>NaN</td>\n",
              "      <td>NaN</td>\n",
              "      <td>NaN</td>\n",
              "      <td>NaN</td>\n",
              "      <td>NaN</td>\n",
              "      <td>NaN</td>\n",
              "      <td>NaN</td>\n",
              "      <td>NaN</td>\n",
              "      <td>NaN</td>\n",
              "      <td>NaN</td>\n",
              "      <td>NaN</td>\n",
              "      <td>NaN</td>\n",
              "      <td>NaN</td>\n",
              "      <td>NaN</td>\n",
              "      <td>NaN</td>\n",
              "      <td>NaN</td>\n",
              "      <td>NaN</td>\n",
              "      <td>NaN</td>\n",
              "      <td>NaN</td>\n",
              "      <td>NaN</td>\n",
              "      <td>NaN</td>\n",
              "      <td>NaN</td>\n",
              "      <td>NaN</td>\n",
              "      <td>NaN</td>\n",
              "      <td>NaN</td>\n",
              "      <td>NaN</td>\n",
              "      <td>NaN</td>\n",
              "      <td>NaN</td>\n",
              "    </tr>\n",
              "    <tr>\n",
              "      <th>3</th>\n",
              "      <td>EUR</td>\n",
              "      <td>AND</td>\n",
              "      <td>Andorra</td>\n",
              "      <td>CRS</td>\n",
              "      <td>0.0</td>\n",
              "      <td>0.0</td>\n",
              "      <td>0.0</td>\n",
              "      <td>NaN</td>\n",
              "      <td>NaN</td>\n",
              "      <td>0.0</td>\n",
              "      <td>0.0</td>\n",
              "      <td>0.0</td>\n",
              "      <td>0.0</td>\n",
              "      <td>0.0</td>\n",
              "      <td>0.0</td>\n",
              "      <td>0.0</td>\n",
              "      <td>0.0</td>\n",
              "      <td>0.0</td>\n",
              "      <td>0.0</td>\n",
              "      <td>0.0</td>\n",
              "      <td>NaN</td>\n",
              "      <td>0.0</td>\n",
              "      <td>NaN</td>\n",
              "      <td>NaN</td>\n",
              "      <td>NaN</td>\n",
              "      <td>NaN</td>\n",
              "      <td>NaN</td>\n",
              "      <td>NaN</td>\n",
              "      <td>NaN</td>\n",
              "      <td>NaN</td>\n",
              "      <td>NaN</td>\n",
              "      <td>NaN</td>\n",
              "      <td>NaN</td>\n",
              "      <td>NaN</td>\n",
              "      <td>NaN</td>\n",
              "      <td>NaN</td>\n",
              "      <td>NaN</td>\n",
              "      <td>NaN</td>\n",
              "      <td>NaN</td>\n",
              "      <td>NaN</td>\n",
              "      <td>NaN</td>\n",
              "      <td>NaN</td>\n",
              "      <td>NaN</td>\n",
              "    </tr>\n",
              "    <tr>\n",
              "      <th>4</th>\n",
              "      <td>AFR</td>\n",
              "      <td>AGO</td>\n",
              "      <td>Angola</td>\n",
              "      <td>CRS</td>\n",
              "      <td>NaN</td>\n",
              "      <td>NaN</td>\n",
              "      <td>NaN</td>\n",
              "      <td>NaN</td>\n",
              "      <td>NaN</td>\n",
              "      <td>NaN</td>\n",
              "      <td>NaN</td>\n",
              "      <td>NaN</td>\n",
              "      <td>NaN</td>\n",
              "      <td>NaN</td>\n",
              "      <td>NaN</td>\n",
              "      <td>NaN</td>\n",
              "      <td>NaN</td>\n",
              "      <td>NaN</td>\n",
              "      <td>0.0</td>\n",
              "      <td>NaN</td>\n",
              "      <td>0.0</td>\n",
              "      <td>NaN</td>\n",
              "      <td>NaN</td>\n",
              "      <td>NaN</td>\n",
              "      <td>NaN</td>\n",
              "      <td>NaN</td>\n",
              "      <td>NaN</td>\n",
              "      <td>NaN</td>\n",
              "      <td>NaN</td>\n",
              "      <td>NaN</td>\n",
              "      <td>NaN</td>\n",
              "      <td>NaN</td>\n",
              "      <td>NaN</td>\n",
              "      <td>NaN</td>\n",
              "      <td>NaN</td>\n",
              "      <td>NaN</td>\n",
              "      <td>NaN</td>\n",
              "      <td>NaN</td>\n",
              "      <td>NaN</td>\n",
              "      <td>NaN</td>\n",
              "      <td>NaN</td>\n",
              "      <td>NaN</td>\n",
              "      <td>NaN</td>\n",
              "    </tr>\n",
              "  </tbody>\n",
              "</table>\n",
              "</div>"
            ],
            "text/plain": [
              "  WHO_REGION ISO_code        Cname Disease  2018  ...  1984  1983  1982  1981  1980\n",
              "0        EMR      AFG  Afghanistan     CRS   NaN  ...   NaN   NaN   NaN   NaN   NaN\n",
              "1        EUR      ALB      Albania     CRS   0.0  ...   NaN   NaN   NaN   NaN   NaN\n",
              "2        AFR      DZA      Algeria     CRS   NaN  ...   NaN   NaN   NaN   NaN   NaN\n",
              "3        EUR      AND      Andorra     CRS   0.0  ...   NaN   NaN   NaN   NaN   NaN\n",
              "4        AFR      AGO       Angola     CRS   NaN  ...   NaN   NaN   NaN   NaN   NaN\n",
              "\n",
              "[5 rows x 43 columns]"
            ]
          },
          "metadata": {
            "tags": []
          },
          "execution_count": 11
        }
      ]
    },
    {
      "cell_type": "code",
      "metadata": {
        "colab": {
          "base_uri": "https://localhost:8080/"
        },
        "id": "1SiSQ2I-GKpy",
        "outputId": "71999ae3-9a11-48f0-89ec-10fefb0bfbe4"
      },
      "source": [
        "df['Disease'].value_counts()"
      ],
      "execution_count": 12,
      "outputs": [
        {
          "output_type": "execute_result",
          "data": {
            "text/plain": [
              "yfever        194\n",
              "ntetanus      194\n",
              "CRS           194\n",
              "pertussis     194\n",
              "ttetanus      194\n",
              "polio         194\n",
              "measles       194\n",
              "diphtheria    194\n",
              "JapEnc        194\n",
              "Rubella       194\n",
              "Mumps         194\n",
              "Name: Disease, dtype: int64"
            ]
          },
          "metadata": {
            "tags": []
          },
          "execution_count": 12
        }
      ]
    },
    {
      "cell_type": "code",
      "metadata": {
        "colab": {
          "base_uri": "https://localhost:8080/",
          "height": 600
        },
        "id": "8jvv52x2GaJ5",
        "outputId": "ee5da558-38ac-4be8-9102-5ab3853b53e5"
      },
      "source": [
        "msno.matrix(df)"
      ],
      "execution_count": 17,
      "outputs": [
        {
          "output_type": "execute_result",
          "data": {
            "text/plain": [
              "<matplotlib.axes._subplots.AxesSubplot at 0x7f5a39fcfb90>"
            ]
          },
          "metadata": {
            "tags": []
          },
          "execution_count": 17
        },
        {
          "output_type": "display_data",
          "data": {
            "image/png": "[encoded data removed]",
            "text/plain": [
              "<Figure size 1800x720 with 2 Axes>"
            ]
          },
          "metadata": {
            "tags": [],
            "needs_background": "light"
          }
        }
      ]
    },
    {
      "cell_type": "code",
      "metadata": {
        "id": "Et1X_hidG8Yn"
      },
      "source": [
        "sarampo = df[df['Disease'] == 'measles']"
      ],
      "execution_count": 18,
      "outputs": []
    },
    {
      "cell_type": "code",
      "metadata": {
        "colab": {
          "base_uri": "https://localhost:8080/",
          "height": 224
        },
        "id": "iWr-PunfHLeT",
        "outputId": "37ae6c3e-7e4c-4860-a996-5b8c5bd1ec83"
      },
      "source": [
        "sarampo.head()"
      ],
      "execution_count": 19,
      "outputs": [
        {
          "output_type": "execute_result",
          "data": {
            "text/html": [
              "<div>\n",
              "<style scoped>\n",
              "    .dataframe tbody tr th:only-of-type {\n",
              "        vertical-align: middle;\n",
              "    }\n",
              "\n",
              "    .dataframe tbody tr th {\n",
              "        vertical-align: top;\n",
              "    }\n",
              "\n",
              "    .dataframe thead th {\n",
              "        text-align: right;\n",
              "    }\n",
              "</style>\n",
              "<table border=\"1\" class=\"dataframe\">\n",
              "  <thead>\n",
              "    <tr style=\"text-align: right;\">\n",
              "      <th></th>\n",
              "      <th>WHO_REGION</th>\n",
              "      <th>ISO_code</th>\n",
              "      <th>Cname</th>\n",
              "      <th>Disease</th>\n",
              "      <th>2018</th>\n",
              "      <th>2017</th>\n",
              "      <th>2016</th>\n",
              "      <th>2015</th>\n",
              "      <th>2014</th>\n",
              "      <th>2013</th>\n",
              "      <th>2012</th>\n",
              "      <th>2011</th>\n",
              "      <th>2010</th>\n",
              "      <th>2009</th>\n",
              "      <th>2008</th>\n",
              "      <th>2007</th>\n",
              "      <th>2006</th>\n",
              "      <th>2005</th>\n",
              "      <th>2004</th>\n",
              "      <th>2003</th>\n",
              "      <th>2002</th>\n",
              "      <th>2001</th>\n",
              "      <th>2000</th>\n",
              "      <th>1999</th>\n",
              "      <th>1998</th>\n",
              "      <th>1997</th>\n",
              "      <th>1996</th>\n",
              "      <th>1995</th>\n",
              "      <th>1994</th>\n",
              "      <th>1993</th>\n",
              "      <th>1992</th>\n",
              "      <th>1991</th>\n",
              "      <th>1990</th>\n",
              "      <th>1989</th>\n",
              "      <th>1988</th>\n",
              "      <th>1987</th>\n",
              "      <th>1986</th>\n",
              "      <th>1985</th>\n",
              "      <th>1984</th>\n",
              "      <th>1983</th>\n",
              "      <th>1982</th>\n",
              "      <th>1981</th>\n",
              "      <th>1980</th>\n",
              "    </tr>\n",
              "  </thead>\n",
              "  <tbody>\n",
              "    <tr>\n",
              "      <th>582</th>\n",
              "      <td>EMR</td>\n",
              "      <td>AFG</td>\n",
              "      <td>Afghanistan</td>\n",
              "      <td>measles</td>\n",
              "      <td>2012.0</td>\n",
              "      <td>1511.0</td>\n",
              "      <td>638.0</td>\n",
              "      <td>1154.0</td>\n",
              "      <td>492.0</td>\n",
              "      <td>430.0</td>\n",
              "      <td>2787.0</td>\n",
              "      <td>3013.0</td>\n",
              "      <td>1989.0</td>\n",
              "      <td>2861.0</td>\n",
              "      <td>1599.0</td>\n",
              "      <td>1141.0</td>\n",
              "      <td>1990.0</td>\n",
              "      <td>1296.0</td>\n",
              "      <td>466.0</td>\n",
              "      <td>798.0</td>\n",
              "      <td>2486.0</td>\n",
              "      <td>8762.0</td>\n",
              "      <td>6532.0</td>\n",
              "      <td>3609.0</td>\n",
              "      <td>2205.0</td>\n",
              "      <td>NaN</td>\n",
              "      <td>NaN</td>\n",
              "      <td>NaN</td>\n",
              "      <td>NaN</td>\n",
              "      <td>NaN</td>\n",
              "      <td>NaN</td>\n",
              "      <td>792.0</td>\n",
              "      <td>1609.0</td>\n",
              "      <td>1170.0</td>\n",
              "      <td>4561.0</td>\n",
              "      <td>10357.0</td>\n",
              "      <td>8107.0</td>\n",
              "      <td>14457.0</td>\n",
              "      <td>16199.0</td>\n",
              "      <td>18808.0</td>\n",
              "      <td>20320.0</td>\n",
              "      <td>31107.0</td>\n",
              "      <td>32455.0</td>\n",
              "    </tr>\n",
              "    <tr>\n",
              "      <th>583</th>\n",
              "      <td>EUR</td>\n",
              "      <td>ALB</td>\n",
              "      <td>Albania</td>\n",
              "      <td>measles</td>\n",
              "      <td>1469.0</td>\n",
              "      <td>12.0</td>\n",
              "      <td>17.0</td>\n",
              "      <td>NaN</td>\n",
              "      <td>NaN</td>\n",
              "      <td>0.0</td>\n",
              "      <td>9.0</td>\n",
              "      <td>28.0</td>\n",
              "      <td>10.0</td>\n",
              "      <td>0.0</td>\n",
              "      <td>NaN</td>\n",
              "      <td>22.0</td>\n",
              "      <td>68.0</td>\n",
              "      <td>6.0</td>\n",
              "      <td>7.0</td>\n",
              "      <td>8.0</td>\n",
              "      <td>16.0</td>\n",
              "      <td>18.0</td>\n",
              "      <td>662.0</td>\n",
              "      <td>797.0</td>\n",
              "      <td>1901.0</td>\n",
              "      <td>2386.0</td>\n",
              "      <td>1204.0</td>\n",
              "      <td>15.0</td>\n",
              "      <td>29.0</td>\n",
              "      <td>7.0</td>\n",
              "      <td>0.0</td>\n",
              "      <td>0.0</td>\n",
              "      <td>NaN</td>\n",
              "      <td>136034.0</td>\n",
              "      <td>0.0</td>\n",
              "      <td>0.0</td>\n",
              "      <td>0.0</td>\n",
              "      <td>0.0</td>\n",
              "      <td>0.0</td>\n",
              "      <td>17.0</td>\n",
              "      <td>3.0</td>\n",
              "      <td>NaN</td>\n",
              "      <td>NaN</td>\n",
              "    </tr>\n",
              "    <tr>\n",
              "      <th>584</th>\n",
              "      <td>AFR</td>\n",
              "      <td>DZA</td>\n",
              "      <td>Algeria</td>\n",
              "      <td>measles</td>\n",
              "      <td>3356.0</td>\n",
              "      <td>112.0</td>\n",
              "      <td>41.0</td>\n",
              "      <td>63.0</td>\n",
              "      <td>0.0</td>\n",
              "      <td>25.0</td>\n",
              "      <td>18.0</td>\n",
              "      <td>112.0</td>\n",
              "      <td>103.0</td>\n",
              "      <td>107.0</td>\n",
              "      <td>217.0</td>\n",
              "      <td>0.0</td>\n",
              "      <td>944.0</td>\n",
              "      <td>2302.0</td>\n",
              "      <td>3289.0</td>\n",
              "      <td>15374.0</td>\n",
              "      <td>5862.0</td>\n",
              "      <td>2686.0</td>\n",
              "      <td>NaN</td>\n",
              "      <td>2503.0</td>\n",
              "      <td>3301.0</td>\n",
              "      <td>19573.0</td>\n",
              "      <td>21003.0</td>\n",
              "      <td>8204.0</td>\n",
              "      <td>5913.0</td>\n",
              "      <td>3141.0</td>\n",
              "      <td>8823.0</td>\n",
              "      <td>5969.0</td>\n",
              "      <td>1796.0</td>\n",
              "      <td>4169.0</td>\n",
              "      <td>2634.0</td>\n",
              "      <td>2500.0</td>\n",
              "      <td>3975.0</td>\n",
              "      <td>20114.0</td>\n",
              "      <td>22553.0</td>\n",
              "      <td>22126.0</td>\n",
              "      <td>29584.0</td>\n",
              "      <td>20849.0</td>\n",
              "      <td>15527.0</td>\n",
              "    </tr>\n",
              "    <tr>\n",
              "      <th>585</th>\n",
              "      <td>EUR</td>\n",
              "      <td>AND</td>\n",
              "      <td>Andorra</td>\n",
              "      <td>measles</td>\n",
              "      <td>0.0</td>\n",
              "      <td>0.0</td>\n",
              "      <td>0.0</td>\n",
              "      <td>NaN</td>\n",
              "      <td>NaN</td>\n",
              "      <td>0.0</td>\n",
              "      <td>0.0</td>\n",
              "      <td>0.0</td>\n",
              "      <td>0.0</td>\n",
              "      <td>0.0</td>\n",
              "      <td>0.0</td>\n",
              "      <td>0.0</td>\n",
              "      <td>0.0</td>\n",
              "      <td>0.0</td>\n",
              "      <td>0.0</td>\n",
              "      <td>0.0</td>\n",
              "      <td>1.0</td>\n",
              "      <td>5.0</td>\n",
              "      <td>2.0</td>\n",
              "      <td>2.0</td>\n",
              "      <td>NaN</td>\n",
              "      <td>5.0</td>\n",
              "      <td>NaN</td>\n",
              "      <td>NaN</td>\n",
              "      <td>NaN</td>\n",
              "      <td>NaN</td>\n",
              "      <td>NaN</td>\n",
              "      <td>NaN</td>\n",
              "      <td>NaN</td>\n",
              "      <td>NaN</td>\n",
              "      <td>NaN</td>\n",
              "      <td>NaN</td>\n",
              "      <td>NaN</td>\n",
              "      <td>NaN</td>\n",
              "      <td>NaN</td>\n",
              "      <td>NaN</td>\n",
              "      <td>NaN</td>\n",
              "      <td>NaN</td>\n",
              "      <td>NaN</td>\n",
              "    </tr>\n",
              "    <tr>\n",
              "      <th>586</th>\n",
              "      <td>AFR</td>\n",
              "      <td>AGO</td>\n",
              "      <td>Angola</td>\n",
              "      <td>measles</td>\n",
              "      <td>57.0</td>\n",
              "      <td>29.0</td>\n",
              "      <td>53.0</td>\n",
              "      <td>119.0</td>\n",
              "      <td>11699.0</td>\n",
              "      <td>8523.0</td>\n",
              "      <td>4458.0</td>\n",
              "      <td>1449.0</td>\n",
              "      <td>1190.0</td>\n",
              "      <td>2807.0</td>\n",
              "      <td>265.0</td>\n",
              "      <td>1014.0</td>\n",
              "      <td>765.0</td>\n",
              "      <td>258.0</td>\n",
              "      <td>29.0</td>\n",
              "      <td>1196.0</td>\n",
              "      <td>11945.0</td>\n",
              "      <td>9046.0</td>\n",
              "      <td>2219.0</td>\n",
              "      <td>350.0</td>\n",
              "      <td>2576.0</td>\n",
              "      <td>8183.0</td>\n",
              "      <td>251.0</td>\n",
              "      <td>635.0</td>\n",
              "      <td>5480.0</td>\n",
              "      <td>9273.0</td>\n",
              "      <td>16772.0</td>\n",
              "      <td>18382.0</td>\n",
              "      <td>29069.0</td>\n",
              "      <td>19820.0</td>\n",
              "      <td>21009.0</td>\n",
              "      <td>13368.0</td>\n",
              "      <td>15580.0</td>\n",
              "      <td>22822.0</td>\n",
              "      <td>22685.0</td>\n",
              "      <td>22589.0</td>\n",
              "      <td>30067.0</td>\n",
              "      <td>19714.0</td>\n",
              "      <td>29656.0</td>\n",
              "    </tr>\n",
              "  </tbody>\n",
              "</table>\n",
              "</div>"
            ],
            "text/plain": [
              "    WHO_REGION ISO_code        Cname  ...     1982     1981     1980\n",
              "582        EMR      AFG  Afghanistan  ...  20320.0  31107.0  32455.0\n",
              "583        EUR      ALB      Albania  ...      3.0      NaN      NaN\n",
              "584        AFR      DZA      Algeria  ...  29584.0  20849.0  15527.0\n",
              "585        EUR      AND      Andorra  ...      NaN      NaN      NaN\n",
              "586        AFR      AGO       Angola  ...  30067.0  19714.0  29656.0\n",
              "\n",
              "[5 rows x 43 columns]"
            ]
          },
          "metadata": {
            "tags": []
          },
          "execution_count": 19
        }
      ]
    },
    {
      "cell_type": "code",
      "metadata": {
        "id": "o1fTs8U1HWHx"
      },
      "source": [
        "sarampo_tidy = pd.melt(sarampo,\n",
        "                       id_vars=['WHO_REGION', 'ISO_code', 'Cname', 'Disease'],\n",
        "                       var_name = 'Ano',\n",
        "                       value_name= 'Qtd')"
      ],
      "execution_count": 22,
      "outputs": []
    },
    {
      "cell_type": "code",
      "metadata": {
        "colab": {
          "base_uri": "https://localhost:8080/",
          "height": 204
        },
        "id": "3sJpuVw9H6zt",
        "outputId": "5a5d1e6b-bf4a-4101-c7d3-b077958dd8b6"
      },
      "source": [
        "sarampo_tidy.head()"
      ],
      "execution_count": 23,
      "outputs": [
        {
          "output_type": "execute_result",
          "data": {
            "text/html": [
              "<div>\n",
              "<style scoped>\n",
              "    .dataframe tbody tr th:only-of-type {\n",
              "        vertical-align: middle;\n",
              "    }\n",
              "\n",
              "    .dataframe tbody tr th {\n",
              "        vertical-align: top;\n",
              "    }\n",
              "\n",
              "    .dataframe thead th {\n",
              "        text-align: right;\n",
              "    }\n",
              "</style>\n",
              "<table border=\"1\" class=\"dataframe\">\n",
              "  <thead>\n",
              "    <tr style=\"text-align: right;\">\n",
              "      <th></th>\n",
              "      <th>WHO_REGION</th>\n",
              "      <th>ISO_code</th>\n",
              "      <th>Cname</th>\n",
              "      <th>Disease</th>\n",
              "      <th>Ano</th>\n",
              "      <th>Qtd</th>\n",
              "    </tr>\n",
              "  </thead>\n",
              "  <tbody>\n",
              "    <tr>\n",
              "      <th>0</th>\n",
              "      <td>EMR</td>\n",
              "      <td>AFG</td>\n",
              "      <td>Afghanistan</td>\n",
              "      <td>measles</td>\n",
              "      <td>2018</td>\n",
              "      <td>2012.0</td>\n",
              "    </tr>\n",
              "    <tr>\n",
              "      <th>1</th>\n",
              "      <td>EUR</td>\n",
              "      <td>ALB</td>\n",
              "      <td>Albania</td>\n",
              "      <td>measles</td>\n",
              "      <td>2018</td>\n",
              "      <td>1469.0</td>\n",
              "    </tr>\n",
              "    <tr>\n",
              "      <th>2</th>\n",
              "      <td>AFR</td>\n",
              "      <td>DZA</td>\n",
              "      <td>Algeria</td>\n",
              "      <td>measles</td>\n",
              "      <td>2018</td>\n",
              "      <td>3356.0</td>\n",
              "    </tr>\n",
              "    <tr>\n",
              "      <th>3</th>\n",
              "      <td>EUR</td>\n",
              "      <td>AND</td>\n",
              "      <td>Andorra</td>\n",
              "      <td>measles</td>\n",
              "      <td>2018</td>\n",
              "      <td>0.0</td>\n",
              "    </tr>\n",
              "    <tr>\n",
              "      <th>4</th>\n",
              "      <td>AFR</td>\n",
              "      <td>AGO</td>\n",
              "      <td>Angola</td>\n",
              "      <td>measles</td>\n",
              "      <td>2018</td>\n",
              "      <td>57.0</td>\n",
              "    </tr>\n",
              "  </tbody>\n",
              "</table>\n",
              "</div>"
            ],
            "text/plain": [
              "  WHO_REGION ISO_code        Cname  Disease   Ano     Qtd\n",
              "0        EMR      AFG  Afghanistan  measles  2018  2012.0\n",
              "1        EUR      ALB      Albania  measles  2018  1469.0\n",
              "2        AFR      DZA      Algeria  measles  2018  3356.0\n",
              "3        EUR      AND      Andorra  measles  2018     0.0\n",
              "4        AFR      AGO       Angola  measles  2018    57.0"
            ]
          },
          "metadata": {
            "tags": []
          },
          "execution_count": 23
        }
      ]
    },
    {
      "cell_type": "code",
      "metadata": {
        "id": "fK6KYD7wIEqj"
      },
      "source": [
        "total_sarampo = sarampo_tidy.groupby('Ano').sum()"
      ],
      "execution_count": 24,
      "outputs": []
    },
    {
      "cell_type": "code",
      "metadata": {
        "colab": {
          "base_uri": "https://localhost:8080/",
          "height": 235
        },
        "id": "VZW9I5ifILcU",
        "outputId": "f8643c62-92fd-4b91-c65c-76e78f28825a"
      },
      "source": [
        "total_sarampo.head()"
      ],
      "execution_count": 25,
      "outputs": [
        {
          "output_type": "execute_result",
          "data": {
            "text/html": [
              "<div>\n",
              "<style scoped>\n",
              "    .dataframe tbody tr th:only-of-type {\n",
              "        vertical-align: middle;\n",
              "    }\n",
              "\n",
              "    .dataframe tbody tr th {\n",
              "        vertical-align: top;\n",
              "    }\n",
              "\n",
              "    .dataframe thead th {\n",
              "        text-align: right;\n",
              "    }\n",
              "</style>\n",
              "<table border=\"1\" class=\"dataframe\">\n",
              "  <thead>\n",
              "    <tr style=\"text-align: right;\">\n",
              "      <th></th>\n",
              "      <th>Qtd</th>\n",
              "    </tr>\n",
              "    <tr>\n",
              "      <th>Ano</th>\n",
              "      <th></th>\n",
              "    </tr>\n",
              "  </thead>\n",
              "  <tbody>\n",
              "    <tr>\n",
              "      <th>1980</th>\n",
              "      <td>3852242.0</td>\n",
              "    </tr>\n",
              "    <tr>\n",
              "      <th>1981</th>\n",
              "      <td>4078455.0</td>\n",
              "    </tr>\n",
              "    <tr>\n",
              "      <th>1982</th>\n",
              "      <td>3623758.0</td>\n",
              "    </tr>\n",
              "    <tr>\n",
              "      <th>1983</th>\n",
              "      <td>3586101.0</td>\n",
              "    </tr>\n",
              "    <tr>\n",
              "      <th>1984</th>\n",
              "      <td>3026973.0</td>\n",
              "    </tr>\n",
              "  </tbody>\n",
              "</table>\n",
              "</div>"
            ],
            "text/plain": [
              "            Qtd\n",
              "Ano            \n",
              "1980  3852242.0\n",
              "1981  4078455.0\n",
              "1982  3623758.0\n",
              "1983  3586101.0\n",
              "1984  3026973.0"
            ]
          },
          "metadata": {
            "tags": []
          },
          "execution_count": 25
        }
      ]
    },
    {
      "cell_type": "code",
      "metadata": {
        "id": "m8QFla4DIS2l"
      },
      "source": [
        "total_sarampo = total_sarampo.reset_index()"
      ],
      "execution_count": 26,
      "outputs": []
    },
    {
      "cell_type": "code",
      "metadata": {
        "colab": {
          "base_uri": "https://localhost:8080/",
          "height": 204
        },
        "id": "m8mu5ubNILT1",
        "outputId": "682ed314-db6b-41eb-ae77-9aa80c9f358a"
      },
      "source": [
        "total_sarampo.head()"
      ],
      "execution_count": 27,
      "outputs": [
        {
          "output_type": "execute_result",
          "data": {
            "text/html": [
              "<div>\n",
              "<style scoped>\n",
              "    .dataframe tbody tr th:only-of-type {\n",
              "        vertical-align: middle;\n",
              "    }\n",
              "\n",
              "    .dataframe tbody tr th {\n",
              "        vertical-align: top;\n",
              "    }\n",
              "\n",
              "    .dataframe thead th {\n",
              "        text-align: right;\n",
              "    }\n",
              "</style>\n",
              "<table border=\"1\" class=\"dataframe\">\n",
              "  <thead>\n",
              "    <tr style=\"text-align: right;\">\n",
              "      <th></th>\n",
              "      <th>Ano</th>\n",
              "      <th>Qtd</th>\n",
              "    </tr>\n",
              "  </thead>\n",
              "  <tbody>\n",
              "    <tr>\n",
              "      <th>0</th>\n",
              "      <td>1980</td>\n",
              "      <td>3852242.0</td>\n",
              "    </tr>\n",
              "    <tr>\n",
              "      <th>1</th>\n",
              "      <td>1981</td>\n",
              "      <td>4078455.0</td>\n",
              "    </tr>\n",
              "    <tr>\n",
              "      <th>2</th>\n",
              "      <td>1982</td>\n",
              "      <td>3623758.0</td>\n",
              "    </tr>\n",
              "    <tr>\n",
              "      <th>3</th>\n",
              "      <td>1983</td>\n",
              "      <td>3586101.0</td>\n",
              "    </tr>\n",
              "    <tr>\n",
              "      <th>4</th>\n",
              "      <td>1984</td>\n",
              "      <td>3026973.0</td>\n",
              "    </tr>\n",
              "  </tbody>\n",
              "</table>\n",
              "</div>"
            ],
            "text/plain": [
              "    Ano        Qtd\n",
              "0  1980  3852242.0\n",
              "1  1981  4078455.0\n",
              "2  1982  3623758.0\n",
              "3  1983  3586101.0\n",
              "4  1984  3026973.0"
            ]
          },
          "metadata": {
            "tags": []
          },
          "execution_count": 27
        }
      ]
    },
    {
      "cell_type": "code",
      "metadata": {
        "colab": {
          "base_uri": "https://localhost:8080/",
          "height": 381
        },
        "id": "3ZILOsZZIeUp",
        "outputId": "c8635a75-5a73-4731-ba9c-31a1c57ec2aa"
      },
      "source": [
        "alt.Chart(total_sarampo).mark_circle(color='rebeccapurple').encode(\n",
        "                                    x = 'Ano',\n",
        "                                    y = 'Qtd',\n",
        "                                    size= 'Qtd'\n",
        "                                    )"
      ],
      "execution_count": 29,
      "outputs": [
        {
          "output_type": "execute_result",
          "data": {
            "text/plain": [
              "alt.Chart(...)"
            ],
            "text/html": [
              "\n",
              "<div id=\"altair-viz-e638e8f6fde945a6b68e817dd48cb702\"></div>\n",
              "<script type=\"text/javascript\">\n",
              "  (function(spec, embedOpt){\n",
              "    let outputDiv = document.currentScript.previousElementSibling;\n",
              "    if (outputDiv.id !== \"altair-viz-e638e8f6fde945a6b68e817dd48cb702\") {\n",
              "      outputDiv = document.getElementById(\"altair-viz-e638e8f6fde945a6b68e817dd48cb702\");\n",
              "    }\n",
              "    const paths = {\n",
              "      \"vega\": \"https://cdn.jsdelivr.net/npm//vega@5?noext\",\n",
              "      \"vega-lib\": \"https://cdn.jsdelivr.net/npm//vega-lib?noext\",\n",
              "      \"vega-lite\": \"https://cdn.jsdelivr.net/npm//vega-lite@4.8.1?noext\",\n",
              "      \"vega-embed\": \"https://cdn.jsdelivr.net/npm//vega-embed@6?noext\",\n",
              "    };\n",
              "\n",
              "    function loadScript(lib) {\n",
              "      return new Promise(function(resolve, reject) {\n",
              "        var s = document.createElement('script');\n",
              "        s.src = paths[lib];\n",
              "        s.async = true;\n",
              "        s.onload = () => resolve(paths[lib]);\n",
              "        s.onerror = () => reject(`Error loading script: ${paths[lib]}`);\n",
              "        document.getElementsByTagName(\"head\")[0].appendChild(s);\n",
              "      });\n",
              "    }\n",
              "\n",
              "    function showError(err) {\n",
              "      outputDiv.innerHTML = `<div class=\"error\" style=\"color:red;\">${err}</div>`;\n",
              "      throw err;\n",
              "    }\n",
              "\n",
              "    function displayChart(vegaEmbed) {\n",
              "      vegaEmbed(outputDiv, spec, embedOpt)\n",
              "        .catch(err => showError(`Javascript Error: ${err.message}<br>This usually means there's a typo in your chart specification. See the javascript console for the full traceback.`));\n",
              "    }\n",
              "\n",
              "    if(typeof define === \"function\" && define.amd) {\n",
              "      requirejs.config({paths});\n",
              "      require([\"vega-embed\"], displayChart, err => showError(`Error loading script: ${err.message}`));\n",
              "    } else if (typeof vegaEmbed === \"function\") {\n",
              "      displayChart(vegaEmbed);\n",
              "    } else {\n",
              "      loadScript(\"vega\")\n",
              "        .then(() => loadScript(\"vega-lite\"))\n",
              "        .then(() => loadScript(\"vega-embed\"))\n",
              "        .catch(showError)\n",
              "        .then(() => displayChart(vegaEmbed));\n",
              "    }\n",
              "  })({\"config\": {\"view\": {\"continuousWidth\": 400, \"continuousHeight\": 300}}, \"data\": {\"name\": \"data-52a52d2e3be94f88b5c49462176c5de0\"}, \"mark\": {\"type\": \"circle\", \"color\": \"rebeccapurple\"}, \"encoding\": {\"size\": {\"type\": \"quantitative\", \"field\": \"Qtd\"}, \"x\": {\"type\": \"nominal\", \"field\": \"Ano\"}, \"y\": {\"type\": \"quantitative\", \"field\": \"Qtd\"}}, \"$schema\": \"https://vega.github.io/schema/vega-lite/v4.8.1.json\", \"datasets\": {\"data-52a52d2e3be94f88b5c49462176c5de0\": [{\"Ano\": \"1980\", \"Qtd\": 3852242.0}, {\"Ano\": \"1981\", \"Qtd\": 4078455.0}, {\"Ano\": \"1982\", \"Qtd\": 3623758.0}, {\"Ano\": \"1983\", \"Qtd\": 3586101.0}, {\"Ano\": \"1984\", \"Qtd\": 3026973.0}, {\"Ano\": \"1985\", \"Qtd\": 2819553.0}, {\"Ano\": \"1986\", \"Qtd\": 2078696.0}, {\"Ano\": \"1987\", \"Qtd\": 1682847.0}, {\"Ano\": \"1988\", \"Qtd\": 1663940.0}, {\"Ano\": \"1989\", \"Qtd\": 1822390.0}, {\"Ano\": \"1990\", \"Qtd\": 1325074.0}, {\"Ano\": \"1991\", \"Qtd\": 1370243.0}, {\"Ano\": \"1992\", \"Qtd\": 1481192.0}, {\"Ano\": \"1993\", \"Qtd\": 1143945.0}, {\"Ano\": \"1994\", \"Qtd\": 926808.0}, {\"Ano\": \"1995\", \"Qtd\": 720391.0}, {\"Ano\": \"1996\", \"Qtd\": 870218.0}, {\"Ano\": \"1997\", \"Qtd\": 825673.0}, {\"Ano\": \"1998\", \"Qtd\": 694466.0}, {\"Ano\": \"1999\", \"Qtd\": 752407.0}, {\"Ano\": \"2000\", \"Qtd\": 853479.0}, {\"Ano\": \"2001\", \"Qtd\": 849173.0}, {\"Ano\": \"2002\", \"Qtd\": 586471.0}, {\"Ano\": \"2003\", \"Qtd\": 679856.0}, {\"Ano\": \"2004\", \"Qtd\": 513406.0}, {\"Ano\": \"2005\", \"Qtd\": 585701.0}, {\"Ano\": \"2006\", \"Qtd\": 377576.0}, {\"Ano\": \"2007\", \"Qtd\": 285031.0}, {\"Ano\": \"2008\", \"Qtd\": 278751.0}, {\"Ano\": \"2009\", \"Qtd\": 278637.0}, {\"Ano\": \"2010\", \"Qtd\": 343806.0}, {\"Ano\": \"2011\", \"Qtd\": 359332.0}, {\"Ano\": \"2012\", \"Qtd\": 212376.0}, {\"Ano\": \"2013\", \"Qtd\": 275307.0}, {\"Ano\": \"2014\", \"Qtd\": 282078.0}, {\"Ano\": \"2015\", \"Qtd\": 214816.0}, {\"Ano\": \"2016\", \"Qtd\": 132413.0}, {\"Ano\": \"2017\", \"Qtd\": 173457.0}, {\"Ano\": \"2018\", \"Qtd\": 359921.0}]}}, {\"mode\": \"vega-lite\"});\n",
              "</script>"
            ]
          },
          "metadata": {
            "tags": []
          },
          "execution_count": 29
        }
      ]
    },
    {
      "cell_type": "code",
      "metadata": {
        "id": "5o_uBxYNMTmT"
      },
      "source": [
        "todas_tidy = pd.melt(df,\n",
        "                    ['WHO_REGION', 'ISO_code', 'Cname', 'Disease'],\n",
        "                     var_name = 'Ano', \n",
        "                     value_name= 'Qtd'\n",
        ")"
      ],
      "execution_count": 30,
      "outputs": []
    },
    {
      "cell_type": "code",
      "metadata": {
        "id": "sr4vtrYOMqJx"
      },
      "source": [
        "totais_ano = todas_tidy.groupby(['Disease', 'Ano']).agg({'Qtd':'sum'})\n",
        "totais_ano = totais_ano.reset_index()"
      ],
      "execution_count": 31,
      "outputs": []
    },
    {
      "cell_type": "code",
      "metadata": {
        "colab": {
          "base_uri": "https://localhost:8080/",
          "height": 204
        },
        "id": "7znZoDWlNCww",
        "outputId": "de6a68c2-62eb-475b-fdc9-e3d3b2089f0f"
      },
      "source": [
        "totais_ano.head()"
      ],
      "execution_count": 32,
      "outputs": [
        {
          "output_type": "execute_result",
          "data": {
            "text/html": [
              "<div>\n",
              "<style scoped>\n",
              "    .dataframe tbody tr th:only-of-type {\n",
              "        vertical-align: middle;\n",
              "    }\n",
              "\n",
              "    .dataframe tbody tr th {\n",
              "        vertical-align: top;\n",
              "    }\n",
              "\n",
              "    .dataframe thead th {\n",
              "        text-align: right;\n",
              "    }\n",
              "</style>\n",
              "<table border=\"1\" class=\"dataframe\">\n",
              "  <thead>\n",
              "    <tr style=\"text-align: right;\">\n",
              "      <th></th>\n",
              "      <th>Disease</th>\n",
              "      <th>Ano</th>\n",
              "      <th>Qtd</th>\n",
              "    </tr>\n",
              "  </thead>\n",
              "  <tbody>\n",
              "    <tr>\n",
              "      <th>0</th>\n",
              "      <td>CRS</td>\n",
              "      <td>1980</td>\n",
              "      <td>0.0</td>\n",
              "    </tr>\n",
              "    <tr>\n",
              "      <th>1</th>\n",
              "      <td>CRS</td>\n",
              "      <td>1981</td>\n",
              "      <td>0.0</td>\n",
              "    </tr>\n",
              "    <tr>\n",
              "      <th>2</th>\n",
              "      <td>CRS</td>\n",
              "      <td>1982</td>\n",
              "      <td>0.0</td>\n",
              "    </tr>\n",
              "    <tr>\n",
              "      <th>3</th>\n",
              "      <td>CRS</td>\n",
              "      <td>1983</td>\n",
              "      <td>0.0</td>\n",
              "    </tr>\n",
              "    <tr>\n",
              "      <th>4</th>\n",
              "      <td>CRS</td>\n",
              "      <td>1984</td>\n",
              "      <td>0.0</td>\n",
              "    </tr>\n",
              "  </tbody>\n",
              "</table>\n",
              "</div>"
            ],
            "text/plain": [
              "  Disease   Ano  Qtd\n",
              "0     CRS  1980  0.0\n",
              "1     CRS  1981  0.0\n",
              "2     CRS  1982  0.0\n",
              "3     CRS  1983  0.0\n",
              "4     CRS  1984  0.0"
            ]
          },
          "metadata": {
            "tags": []
          },
          "execution_count": 32
        }
      ]
    },
    {
      "cell_type": "code",
      "metadata": {
        "colab": {
          "base_uri": "https://localhost:8080/",
          "height": 911
        },
        "id": "V6RIO5TWNHA5",
        "outputId": "233ff669-ed8b-44aa-ff10-2594465fbd5b"
      },
      "source": [
        "alt.Chart(totais_ano).mark_circle().encode(\n",
        "    x = 'Disease', \n",
        "    y = 'Ano',\n",
        "    tooltip = ['Disease', 'Qtd', 'Ano'],\n",
        "    size = alt.Size('Qtd', scale=alt.Scale(range=[5,8000]), legend=None),\n",
        "    color = alt.Color('Disease')\n",
        ").configure_mark(opacity=0.5).properties(width=600)"
      ],
      "execution_count": 34,
      "outputs": [
        {
          "output_type": "execute_result",
          "data": {
            "text/plain": [
              "alt.Chart(...)"
            ],
            "text/html": [
              "\n",
              "<div id=\"altair-viz-ddc90d059db7484bb8131c2018e1cd92\"></div>\n",
              "<script type=\"text/javascript\">\n",
              "  (function(spec, embedOpt){\n",
              "    let outputDiv = document.currentScript.previousElementSibling;\n",
              "    if (outputDiv.id !== \"altair-viz-ddc90d059db7484bb8131c2018e1cd92\") {\n",
              "      outputDiv = document.getElementById(\"altair-viz-ddc90d059db7484bb8131c2018e1cd92\");\n",
              "    }\n",
              "    const paths = {\n",
              "      \"vega\": \"https://cdn.jsdelivr.net/npm//vega@5?noext\",\n",
              "      \"vega-lib\": \"https://cdn.jsdelivr.net/npm//vega-lib?noext\",\n",
              "      \"vega-lite\": \"https://cdn.jsdelivr.net/npm//vega-lite@4.8.1?noext\",\n",
              "      \"vega-embed\": \"https://cdn.jsdelivr.net/npm//vega-embed@6?noext\",\n",
              "    };\n",
              "\n",
              "    function loadScript(lib) {\n",
              "      return new Promise(function(resolve, reject) {\n",
              "        var s = document.createElement('script');\n",
              "        s.src = paths[lib];\n",
              "        s.async = true;\n",
              "        s.onload = () => resolve(paths[lib]);\n",
              "        s.onerror = () => reject(`Error loading script: ${paths[lib]}`);\n",
              "        document.getElementsByTagName(\"head\")[0].appendChild(s);\n",
              "      });\n",
              "    }\n",
              "\n",
              "    function showError(err) {\n",
              "      outputDiv.innerHTML = `<div class=\"error\" style=\"color:red;\">${err}</div>`;\n",
              "      throw err;\n",
              "    }\n",
              "\n",
              "    function displayChart(vegaEmbed) {\n",
              "      vegaEmbed(outputDiv, spec, embedOpt)\n",
              "        .catch(err => showError(`Javascript Error: ${err.message}<br>This usually means there's a typo in your chart specification. See the javascript console for the full traceback.`));\n",
              "    }\n",
              "\n",
              "    if(typeof define === \"function\" && define.amd) {\n",
              "      requirejs.config({paths});\n",
              "      require([\"vega-embed\"], displayChart, err => showError(`Error loading script: ${err.message}`));\n",
              "    } else if (typeof vegaEmbed === \"function\") {\n",
              "      displayChart(vegaEmbed);\n",
              "    } else {\n",
              "      loadScript(\"vega\")\n",
              "        .then(() => loadScript(\"vega-lite\"))\n",
              "        .then(() => loadScript(\"vega-embed\"))\n",
              "        .catch(showError)\n",
              "        .then(() => displayChart(vegaEmbed));\n",
              "    }\n",
              "  })({\"config\": {\"view\": {\"continuousWidth\": 400, \"continuousHeight\": 300}, \"mark\": {\"opacity\": 0.5}}, \"data\": {\"name\": \"data-c98043a5f77e9d9b64d39b7a2f532b17\"}, \"mark\": \"circle\", \"encoding\": {\"color\": {\"type\": \"nominal\", \"field\": \"Disease\"}, \"size\": {\"type\": \"quantitative\", \"field\": \"Qtd\", \"legend\": null, \"scale\": {\"range\": [5, 8000]}}, \"tooltip\": [{\"type\": \"nominal\", \"field\": \"Disease\"}, {\"type\": \"quantitative\", \"field\": \"Qtd\"}, {\"type\": \"nominal\", \"field\": \"Ano\"}], \"x\": {\"type\": \"nominal\", \"field\": \"Disease\"}, \"y\": {\"type\": \"nominal\", \"field\": \"Ano\"}}, \"width\": 600, \"$schema\": \"https://vega.github.io/schema/vega-lite/v4.8.1.json\", \"datasets\": {\"data-c98043a5f77e9d9b64d39b7a2f532b17\": [{\"Disease\": \"CRS\", \"Ano\": \"1980\", \"Qtd\": 0.0}, {\"Disease\": \"CRS\", \"Ano\": \"1981\", \"Qtd\": 0.0}, {\"Disease\": \"CRS\", \"Ano\": \"1982\", \"Qtd\": 0.0}, {\"Disease\": \"CRS\", \"Ano\": \"1983\", \"Qtd\": 0.0}, {\"Disease\": \"CRS\", \"Ano\": \"1984\", \"Qtd\": 0.0}, {\"Disease\": \"CRS\", \"Ano\": \"1985\", \"Qtd\": 0.0}, {\"Disease\": \"CRS\", \"Ano\": \"1986\", \"Qtd\": 0.0}, {\"Disease\": \"CRS\", \"Ano\": \"1987\", \"Qtd\": 0.0}, {\"Disease\": \"CRS\", \"Ano\": \"1988\", \"Qtd\": 0.0}, {\"Disease\": \"CRS\", \"Ano\": \"1989\", \"Qtd\": 0.0}, {\"Disease\": \"CRS\", \"Ano\": \"1990\", \"Qtd\": 0.0}, {\"Disease\": \"CRS\", \"Ano\": \"1991\", \"Qtd\": 0.0}, {\"Disease\": \"CRS\", \"Ano\": \"1992\", \"Qtd\": 0.0}, {\"Disease\": \"CRS\", \"Ano\": \"1993\", \"Qtd\": 0.0}, {\"Disease\": \"CRS\", \"Ano\": \"1994\", \"Qtd\": 0.0}, {\"Disease\": \"CRS\", \"Ano\": \"1995\", \"Qtd\": 0.0}, {\"Disease\": \"CRS\", \"Ano\": \"1996\", \"Qtd\": 0.0}, {\"Disease\": \"CRS\", \"Ano\": \"1997\", \"Qtd\": 0.0}, {\"Disease\": \"CRS\", \"Ano\": \"1998\", \"Qtd\": 14.0}, {\"Disease\": \"CRS\", \"Ano\": \"1999\", \"Qtd\": 68.0}, {\"Disease\": \"CRS\", \"Ano\": \"2000\", \"Qtd\": 156.0}, {\"Disease\": \"CRS\", \"Ano\": \"2001\", \"Qtd\": 85.0}, {\"Disease\": \"CRS\", \"Ano\": \"2002\", \"Qtd\": 41.0}, {\"Disease\": \"CRS\", \"Ano\": \"2003\", \"Qtd\": 116.0}, {\"Disease\": \"CRS\", \"Ano\": \"2004\", \"Qtd\": 89.0}, {\"Disease\": \"CRS\", \"Ano\": \"2005\", \"Qtd\": 41.0}, {\"Disease\": \"CRS\", \"Ano\": \"2006\", \"Qtd\": 64.0}, {\"Disease\": \"CRS\", \"Ano\": \"2007\", \"Qtd\": 225.0}, {\"Disease\": \"CRS\", \"Ano\": \"2008\", \"Qtd\": 243.0}, {\"Disease\": \"CRS\", \"Ano\": \"2009\", \"Qtd\": 161.0}, {\"Disease\": \"CRS\", \"Ano\": \"2010\", \"Qtd\": 31.0}, {\"Disease\": \"CRS\", \"Ano\": \"2011\", \"Qtd\": 214.0}, {\"Disease\": \"CRS\", \"Ano\": \"2012\", \"Qtd\": 302.0}, {\"Disease\": \"CRS\", \"Ano\": \"2013\", \"Qtd\": 134.0}, {\"Disease\": \"CRS\", \"Ano\": \"2014\", \"Qtd\": 142.0}, {\"Disease\": \"CRS\", \"Ano\": \"2015\", \"Qtd\": 282.0}, {\"Disease\": \"CRS\", \"Ano\": \"2016\", \"Qtd\": 369.0}, {\"Disease\": \"CRS\", \"Ano\": \"2017\", \"Qtd\": 835.0}, {\"Disease\": \"CRS\", \"Ano\": \"2018\", \"Qtd\": 449.0}, {\"Disease\": \"JapEnc\", \"Ano\": \"1980\", \"Qtd\": 0.0}, {\"Disease\": \"JapEnc\", \"Ano\": \"1981\", \"Qtd\": 0.0}, {\"Disease\": \"JapEnc\", \"Ano\": \"1982\", \"Qtd\": 0.0}, {\"Disease\": \"JapEnc\", \"Ano\": \"1983\", \"Qtd\": 0.0}, {\"Disease\": \"JapEnc\", \"Ano\": \"1984\", \"Qtd\": 0.0}, {\"Disease\": \"JapEnc\", \"Ano\": \"1985\", \"Qtd\": 0.0}, {\"Disease\": \"JapEnc\", \"Ano\": \"1986\", \"Qtd\": 0.0}, {\"Disease\": \"JapEnc\", \"Ano\": \"1987\", \"Qtd\": 0.0}, {\"Disease\": \"JapEnc\", \"Ano\": \"1988\", \"Qtd\": 0.0}, {\"Disease\": \"JapEnc\", \"Ano\": \"1989\", \"Qtd\": 0.0}, {\"Disease\": \"JapEnc\", \"Ano\": \"1990\", \"Qtd\": 0.0}, {\"Disease\": \"JapEnc\", \"Ano\": \"1991\", \"Qtd\": 0.0}, {\"Disease\": \"JapEnc\", \"Ano\": \"1992\", \"Qtd\": 0.0}, {\"Disease\": \"JapEnc\", \"Ano\": \"1993\", \"Qtd\": 0.0}, {\"Disease\": \"JapEnc\", \"Ano\": \"1994\", \"Qtd\": 0.0}, {\"Disease\": \"JapEnc\", \"Ano\": \"1995\", \"Qtd\": 0.0}, {\"Disease\": \"JapEnc\", \"Ano\": \"1996\", \"Qtd\": 0.0}, {\"Disease\": \"JapEnc\", \"Ano\": \"1997\", \"Qtd\": 0.0}, {\"Disease\": \"JapEnc\", \"Ano\": \"1998\", \"Qtd\": 0.0}, {\"Disease\": \"JapEnc\", \"Ano\": \"1999\", \"Qtd\": 0.0}, {\"Disease\": \"JapEnc\", \"Ano\": \"2000\", \"Qtd\": 0.0}, {\"Disease\": \"JapEnc\", \"Ano\": \"2001\", \"Qtd\": 0.0}, {\"Disease\": \"JapEnc\", \"Ano\": \"2002\", \"Qtd\": 0.0}, {\"Disease\": \"JapEnc\", \"Ano\": \"2003\", \"Qtd\": 0.0}, {\"Disease\": \"JapEnc\", \"Ano\": \"2004\", \"Qtd\": 0.0}, {\"Disease\": \"JapEnc\", \"Ano\": \"2005\", \"Qtd\": 0.0}, {\"Disease\": \"JapEnc\", \"Ano\": \"2006\", \"Qtd\": 8040.0}, {\"Disease\": \"JapEnc\", \"Ano\": \"2007\", \"Qtd\": 9487.0}, {\"Disease\": \"JapEnc\", \"Ano\": \"2008\", \"Qtd\": 5198.0}, {\"Disease\": \"JapEnc\", \"Ano\": \"2009\", \"Qtd\": 5163.0}, {\"Disease\": \"JapEnc\", \"Ano\": \"2010\", \"Qtd\": 3856.0}, {\"Disease\": \"JapEnc\", \"Ano\": \"2011\", \"Qtd\": 3392.0}, {\"Disease\": \"JapEnc\", \"Ano\": \"2012\", \"Qtd\": 2351.0}, {\"Disease\": \"JapEnc\", \"Ano\": \"2013\", \"Qtd\": 3871.0}, {\"Disease\": \"JapEnc\", \"Ano\": \"2014\", \"Qtd\": 4810.0}, {\"Disease\": \"JapEnc\", \"Ano\": \"2015\", \"Qtd\": 4086.0}, {\"Disease\": \"JapEnc\", \"Ano\": \"2016\", \"Qtd\": 5399.0}, {\"Disease\": \"JapEnc\", \"Ano\": \"2017\", \"Qtd\": 4668.0}, {\"Disease\": \"JapEnc\", \"Ano\": \"2018\", \"Qtd\": 4402.0}, {\"Disease\": \"Mumps\", \"Ano\": \"1980\", \"Qtd\": 0.0}, {\"Disease\": \"Mumps\", \"Ano\": \"1981\", \"Qtd\": 0.0}, {\"Disease\": \"Mumps\", \"Ano\": \"1982\", \"Qtd\": 0.0}, {\"Disease\": \"Mumps\", \"Ano\": \"1983\", \"Qtd\": 0.0}, {\"Disease\": \"Mumps\", \"Ano\": \"1984\", \"Qtd\": 0.0}, {\"Disease\": \"Mumps\", \"Ano\": \"1985\", \"Qtd\": 0.0}, {\"Disease\": \"Mumps\", \"Ano\": \"1986\", \"Qtd\": 0.0}, {\"Disease\": \"Mumps\", \"Ano\": \"1987\", \"Qtd\": 0.0}, {\"Disease\": \"Mumps\", \"Ano\": \"1988\", \"Qtd\": 0.0}, {\"Disease\": \"Mumps\", \"Ano\": \"1989\", \"Qtd\": 0.0}, {\"Disease\": \"Mumps\", \"Ano\": \"1990\", \"Qtd\": 0.0}, {\"Disease\": \"Mumps\", \"Ano\": \"1991\", \"Qtd\": 0.0}, {\"Disease\": \"Mumps\", \"Ano\": \"1992\", \"Qtd\": 0.0}, {\"Disease\": \"Mumps\", \"Ano\": \"1993\", \"Qtd\": 0.0}, {\"Disease\": \"Mumps\", \"Ano\": \"1994\", \"Qtd\": 0.0}, {\"Disease\": \"Mumps\", \"Ano\": \"1995\", \"Qtd\": 0.0}, {\"Disease\": \"Mumps\", \"Ano\": \"1996\", \"Qtd\": 0.0}, {\"Disease\": \"Mumps\", \"Ano\": \"1997\", \"Qtd\": 0.0}, {\"Disease\": \"Mumps\", \"Ano\": \"1998\", \"Qtd\": 0.0}, {\"Disease\": \"Mumps\", \"Ano\": \"1999\", \"Qtd\": 558122.0}, {\"Disease\": \"Mumps\", \"Ano\": \"2000\", \"Qtd\": 544093.0}, {\"Disease\": \"Mumps\", \"Ano\": \"2001\", \"Qtd\": 412341.0}, {\"Disease\": \"Mumps\", \"Ano\": \"2002\", \"Qtd\": 487932.0}, {\"Disease\": \"Mumps\", \"Ano\": \"2003\", \"Qtd\": 334524.0}, {\"Disease\": \"Mumps\", \"Ano\": \"2004\", \"Qtd\": 654216.0}, {\"Disease\": \"Mumps\", \"Ano\": \"2005\", \"Qtd\": 619062.0}, {\"Disease\": \"Mumps\", \"Ano\": \"2006\", \"Qtd\": 643321.0}, {\"Disease\": \"Mumps\", \"Ano\": \"2007\", \"Qtd\": 407873.0}, {\"Disease\": \"Mumps\", \"Ano\": \"2008\", \"Qtd\": 537740.0}, {\"Disease\": \"Mumps\", \"Ano\": \"2009\", \"Qtd\": 546684.0}, {\"Disease\": \"Mumps\", \"Ano\": \"2010\", \"Qtd\": 619389.0}, {\"Disease\": \"Mumps\", \"Ano\": \"2011\", \"Qtd\": 726638.0}, {\"Disease\": \"Mumps\", \"Ano\": \"2012\", \"Qtd\": 687934.0}, {\"Disease\": \"Mumps\", \"Ano\": \"2013\", \"Qtd\": 516316.0}, {\"Disease\": \"Mumps\", \"Ano\": \"2014\", \"Qtd\": 311599.0}, {\"Disease\": \"Mumps\", \"Ano\": \"2015\", \"Qtd\": 385736.0}, {\"Disease\": \"Mumps\", \"Ano\": \"2016\", \"Qtd\": 591684.0}, {\"Disease\": \"Mumps\", \"Ano\": \"2017\", \"Qtd\": 560622.0}, {\"Disease\": \"Mumps\", \"Ano\": \"2018\", \"Qtd\": 499512.0}, {\"Disease\": \"Rubella\", \"Ano\": \"1980\", \"Qtd\": 0.0}, {\"Disease\": \"Rubella\", \"Ano\": \"1981\", \"Qtd\": 0.0}, {\"Disease\": \"Rubella\", \"Ano\": \"1982\", \"Qtd\": 0.0}, {\"Disease\": \"Rubella\", \"Ano\": \"1983\", \"Qtd\": 0.0}, {\"Disease\": \"Rubella\", \"Ano\": \"1984\", \"Qtd\": 0.0}, {\"Disease\": \"Rubella\", \"Ano\": \"1985\", \"Qtd\": 0.0}, {\"Disease\": \"Rubella\", \"Ano\": \"1986\", \"Qtd\": 0.0}, {\"Disease\": \"Rubella\", \"Ano\": \"1987\", \"Qtd\": 0.0}, {\"Disease\": \"Rubella\", \"Ano\": \"1988\", \"Qtd\": 0.0}, {\"Disease\": \"Rubella\", \"Ano\": \"1989\", \"Qtd\": 0.0}, {\"Disease\": \"Rubella\", \"Ano\": \"1990\", \"Qtd\": 0.0}, {\"Disease\": \"Rubella\", \"Ano\": \"1991\", \"Qtd\": 0.0}, {\"Disease\": \"Rubella\", \"Ano\": \"1992\", \"Qtd\": 0.0}, {\"Disease\": \"Rubella\", \"Ano\": \"1993\", \"Qtd\": 0.0}, {\"Disease\": \"Rubella\", \"Ano\": \"1994\", \"Qtd\": 0.0}, {\"Disease\": \"Rubella\", \"Ano\": \"1995\", \"Qtd\": 0.0}, {\"Disease\": \"Rubella\", \"Ano\": \"1996\", \"Qtd\": 0.0}, {\"Disease\": \"Rubella\", \"Ano\": \"1997\", \"Qtd\": 0.0}, {\"Disease\": \"Rubella\", \"Ano\": \"1998\", \"Qtd\": 130569.0}, {\"Disease\": \"Rubella\", \"Ano\": \"1999\", \"Qtd\": 875116.0}, {\"Disease\": \"Rubella\", \"Ano\": \"2000\", \"Qtd\": 670894.0}, {\"Disease\": \"Rubella\", \"Ano\": \"2001\", \"Qtd\": 836332.0}, {\"Disease\": \"Rubella\", \"Ano\": \"2002\", \"Qtd\": 639747.0}, {\"Disease\": \"Rubella\", \"Ano\": \"2003\", \"Qtd\": 317415.0}, {\"Disease\": \"Rubella\", \"Ano\": \"2004\", \"Qtd\": 308213.0}, {\"Disease\": \"Rubella\", \"Ano\": \"2005\", \"Qtd\": 267983.0}, {\"Disease\": \"Rubella\", \"Ano\": \"2006\", \"Qtd\": 250102.0}, {\"Disease\": \"Rubella\", \"Ano\": \"2007\", \"Qtd\": 196501.0}, {\"Disease\": \"Rubella\", \"Ano\": \"2008\", \"Qtd\": 181029.0}, {\"Disease\": \"Rubella\", \"Ano\": \"2009\", \"Qtd\": 121378.0}, {\"Disease\": \"Rubella\", \"Ano\": \"2010\", \"Qtd\": 75961.0}, {\"Disease\": \"Rubella\", \"Ano\": \"2011\", \"Qtd\": 114456.0}, {\"Disease\": \"Rubella\", \"Ano\": \"2012\", \"Qtd\": 94277.0}, {\"Disease\": \"Rubella\", \"Ano\": \"2013\", \"Qtd\": 101156.0}, {\"Disease\": \"Rubella\", \"Ano\": \"2014\", \"Qtd\": 33514.0}, {\"Disease\": \"Rubella\", \"Ano\": \"2015\", \"Qtd\": 23760.0}, {\"Disease\": \"Rubella\", \"Ano\": \"2016\", \"Qtd\": 23418.0}, {\"Disease\": \"Rubella\", \"Ano\": \"2017\", \"Qtd\": 16393.0}, {\"Disease\": \"Rubella\", \"Ano\": \"2018\", \"Qtd\": 26006.0}, {\"Disease\": \"diphtheria\", \"Ano\": \"1980\", \"Qtd\": 97164.0}, {\"Disease\": \"diphtheria\", \"Ano\": \"1981\", \"Qtd\": 74098.0}, {\"Disease\": \"diphtheria\", \"Ano\": \"1982\", \"Qtd\": 60040.0}, {\"Disease\": \"diphtheria\", \"Ano\": \"1983\", \"Qtd\": 49797.0}, {\"Disease\": \"diphtheria\", \"Ano\": \"1984\", \"Qtd\": 45235.0}, {\"Disease\": \"diphtheria\", \"Ano\": \"1985\", \"Qtd\": 42335.0}, {\"Disease\": \"diphtheria\", \"Ano\": \"1986\", \"Qtd\": 29132.0}, {\"Disease\": \"diphtheria\", \"Ano\": \"1987\", \"Qtd\": 27754.0}, {\"Disease\": \"diphtheria\", \"Ano\": \"1988\", \"Qtd\": 31526.0}, {\"Disease\": \"diphtheria\", \"Ano\": \"1989\", \"Qtd\": 29779.0}, {\"Disease\": \"diphtheria\", \"Ano\": \"1990\", \"Qtd\": 22133.0}, {\"Disease\": \"diphtheria\", \"Ano\": \"1991\", \"Qtd\": 24738.0}, {\"Disease\": \"diphtheria\", \"Ano\": \"1992\", \"Qtd\": 20851.0}, {\"Disease\": \"diphtheria\", \"Ano\": \"1993\", \"Qtd\": 31242.0}, {\"Disease\": \"diphtheria\", \"Ano\": \"1994\", \"Qtd\": 54816.0}, {\"Disease\": \"diphtheria\", \"Ano\": \"1995\", \"Qtd\": 56965.0}, {\"Disease\": \"diphtheria\", \"Ano\": \"1996\", \"Qtd\": 28624.0}, {\"Disease\": \"diphtheria\", \"Ano\": \"1997\", \"Qtd\": 14767.0}, {\"Disease\": \"diphtheria\", \"Ano\": \"1998\", \"Qtd\": 7441.0}, {\"Disease\": \"diphtheria\", \"Ano\": \"1999\", \"Qtd\": 4810.0}, {\"Disease\": \"diphtheria\", \"Ano\": \"2000\", \"Qtd\": 11625.0}, {\"Disease\": \"diphtheria\", \"Ano\": \"2001\", \"Qtd\": 10725.0}, {\"Disease\": \"diphtheria\", \"Ano\": \"2002\", \"Qtd\": 9035.0}, {\"Disease\": \"diphtheria\", \"Ano\": \"2003\", \"Qtd\": 7154.0}, {\"Disease\": \"diphtheria\", \"Ano\": \"2004\", \"Qtd\": 10069.0}, {\"Disease\": \"diphtheria\", \"Ano\": \"2005\", \"Qtd\": 8137.0}, {\"Disease\": \"diphtheria\", \"Ano\": \"2006\", \"Qtd\": 4333.0}, {\"Disease\": \"diphtheria\", \"Ano\": \"2007\", \"Qtd\": 4642.0}, {\"Disease\": \"diphtheria\", \"Ano\": \"2008\", \"Qtd\": 4978.0}, {\"Disease\": \"diphtheria\", \"Ano\": \"2009\", \"Qtd\": 4349.0}, {\"Disease\": \"diphtheria\", \"Ano\": \"2010\", \"Qtd\": 4603.0}, {\"Disease\": \"diphtheria\", \"Ano\": \"2011\", \"Qtd\": 5626.0}, {\"Disease\": \"diphtheria\", \"Ano\": \"2012\", \"Qtd\": 4490.0}, {\"Disease\": \"diphtheria\", \"Ano\": \"2013\", \"Qtd\": 4680.0}, {\"Disease\": \"diphtheria\", \"Ano\": \"2014\", \"Qtd\": 7774.0}, {\"Disease\": \"diphtheria\", \"Ano\": \"2015\", \"Qtd\": 4535.0}, {\"Disease\": \"diphtheria\", \"Ano\": \"2016\", \"Qtd\": 7101.0}, {\"Disease\": \"diphtheria\", \"Ano\": \"2017\", \"Qtd\": 8819.0}, {\"Disease\": \"diphtheria\", \"Ano\": \"2018\", \"Qtd\": 16651.0}, {\"Disease\": \"measles\", \"Ano\": \"1980\", \"Qtd\": 3852242.0}, {\"Disease\": \"measles\", \"Ano\": \"1981\", \"Qtd\": 4078455.0}, {\"Disease\": \"measles\", \"Ano\": \"1982\", \"Qtd\": 3623758.0}, {\"Disease\": \"measles\", \"Ano\": \"1983\", \"Qtd\": 3586101.0}, {\"Disease\": \"measles\", \"Ano\": \"1984\", \"Qtd\": 3026973.0}, {\"Disease\": \"measles\", \"Ano\": \"1985\", \"Qtd\": 2819553.0}, {\"Disease\": \"measles\", \"Ano\": \"1986\", \"Qtd\": 2078696.0}, {\"Disease\": \"measles\", \"Ano\": \"1987\", \"Qtd\": 1682847.0}, {\"Disease\": \"measles\", \"Ano\": \"1988\", \"Qtd\": 1663940.0}, {\"Disease\": \"measles\", \"Ano\": \"1989\", \"Qtd\": 1822390.0}, {\"Disease\": \"measles\", \"Ano\": \"1990\", \"Qtd\": 1325074.0}, {\"Disease\": \"measles\", \"Ano\": \"1991\", \"Qtd\": 1370243.0}, {\"Disease\": \"measles\", \"Ano\": \"1992\", \"Qtd\": 1481192.0}, {\"Disease\": \"measles\", \"Ano\": \"1993\", \"Qtd\": 1143945.0}, {\"Disease\": \"measles\", \"Ano\": \"1994\", \"Qtd\": 926808.0}, {\"Disease\": \"measles\", \"Ano\": \"1995\", \"Qtd\": 720391.0}, {\"Disease\": \"measles\", \"Ano\": \"1996\", \"Qtd\": 870218.0}, {\"Disease\": \"measles\", \"Ano\": \"1997\", \"Qtd\": 825673.0}, {\"Disease\": \"measles\", \"Ano\": \"1998\", \"Qtd\": 694466.0}, {\"Disease\": \"measles\", \"Ano\": \"1999\", \"Qtd\": 752407.0}, {\"Disease\": \"measles\", \"Ano\": \"2000\", \"Qtd\": 853479.0}, {\"Disease\": \"measles\", \"Ano\": \"2001\", \"Qtd\": 849173.0}, {\"Disease\": \"measles\", \"Ano\": \"2002\", \"Qtd\": 586471.0}, {\"Disease\": \"measles\", \"Ano\": \"2003\", \"Qtd\": 679856.0}, {\"Disease\": \"measles\", \"Ano\": \"2004\", \"Qtd\": 513406.0}, {\"Disease\": \"measles\", \"Ano\": \"2005\", \"Qtd\": 585701.0}, {\"Disease\": \"measles\", \"Ano\": \"2006\", \"Qtd\": 377576.0}, {\"Disease\": \"measles\", \"Ano\": \"2007\", \"Qtd\": 285031.0}, {\"Disease\": \"measles\", \"Ano\": \"2008\", \"Qtd\": 278751.0}, {\"Disease\": \"measles\", \"Ano\": \"2009\", \"Qtd\": 278637.0}, {\"Disease\": \"measles\", \"Ano\": \"2010\", \"Qtd\": 343806.0}, {\"Disease\": \"measles\", \"Ano\": \"2011\", \"Qtd\": 359332.0}, {\"Disease\": \"measles\", \"Ano\": \"2012\", \"Qtd\": 212376.0}, {\"Disease\": \"measles\", \"Ano\": \"2013\", \"Qtd\": 275307.0}, {\"Disease\": \"measles\", \"Ano\": \"2014\", \"Qtd\": 282078.0}, {\"Disease\": \"measles\", \"Ano\": \"2015\", \"Qtd\": 214816.0}, {\"Disease\": \"measles\", \"Ano\": \"2016\", \"Qtd\": 132413.0}, {\"Disease\": \"measles\", \"Ano\": \"2017\", \"Qtd\": 173457.0}, {\"Disease\": \"measles\", \"Ano\": \"2018\", \"Qtd\": 359921.0}, {\"Disease\": \"ntetanus\", \"Ano\": \"1980\", \"Qtd\": 13005.0}, {\"Disease\": \"ntetanus\", \"Ano\": \"1981\", \"Qtd\": 13284.0}, {\"Disease\": \"ntetanus\", \"Ano\": \"1982\", \"Qtd\": 18008.0}, {\"Disease\": \"ntetanus\", \"Ano\": \"1983\", \"Qtd\": 15870.0}, {\"Disease\": \"ntetanus\", \"Ano\": \"1984\", \"Qtd\": 18483.0}, {\"Disease\": \"ntetanus\", \"Ano\": \"1985\", \"Qtd\": 17438.0}, {\"Disease\": \"ntetanus\", \"Ano\": \"1986\", \"Qtd\": 20394.0}, {\"Disease\": \"ntetanus\", \"Ano\": \"1987\", \"Qtd\": 18985.0}, {\"Disease\": \"ntetanus\", \"Ano\": \"1988\", \"Qtd\": 31886.0}, {\"Disease\": \"ntetanus\", \"Ano\": \"1989\", \"Qtd\": 29064.0}, {\"Disease\": \"ntetanus\", \"Ano\": \"1990\", \"Qtd\": 25293.0}, {\"Disease\": \"ntetanus\", \"Ano\": \"1991\", \"Qtd\": 23717.0}, {\"Disease\": \"ntetanus\", \"Ano\": \"1992\", \"Qtd\": 15829.0}, {\"Disease\": \"ntetanus\", \"Ano\": \"1993\", \"Qtd\": 15985.0}, {\"Disease\": \"ntetanus\", \"Ano\": \"1994\", \"Qtd\": 12872.0}, {\"Disease\": \"ntetanus\", \"Ano\": \"1995\", \"Qtd\": 10538.0}, {\"Disease\": \"ntetanus\", \"Ano\": \"1996\", \"Qtd\": 13091.0}, {\"Disease\": \"ntetanus\", \"Ano\": \"1997\", \"Qtd\": 15766.0}, {\"Disease\": \"ntetanus\", \"Ano\": \"1998\", \"Qtd\": 16628.0}, {\"Disease\": \"ntetanus\", \"Ano\": \"1999\", \"Qtd\": 10985.0}, {\"Disease\": \"ntetanus\", \"Ano\": \"2000\", \"Qtd\": 17935.0}, {\"Disease\": \"ntetanus\", \"Ano\": \"2001\", \"Qtd\": 14017.0}, {\"Disease\": \"ntetanus\", \"Ano\": \"2002\", \"Qtd\": 11633.0}, {\"Disease\": \"ntetanus\", \"Ano\": \"2003\", \"Qtd\": 9043.0}, {\"Disease\": \"ntetanus\", \"Ano\": \"2004\", \"Qtd\": 9414.0}, {\"Disease\": \"ntetanus\", \"Ano\": \"2005\", \"Qtd\": 9848.0}, {\"Disease\": \"ntetanus\", \"Ano\": \"2006\", \"Qtd\": 8416.0}, {\"Disease\": \"ntetanus\", \"Ano\": \"2007\", \"Qtd\": 6225.0}, {\"Disease\": \"ntetanus\", \"Ano\": \"2008\", \"Qtd\": 6635.0}, {\"Disease\": \"ntetanus\", \"Ano\": \"2009\", \"Qtd\": 5611.0}, {\"Disease\": \"ntetanus\", \"Ano\": \"2010\", \"Qtd\": 5085.0}, {\"Disease\": \"ntetanus\", \"Ano\": \"2011\", \"Qtd\": 4295.0}, {\"Disease\": \"ntetanus\", \"Ano\": \"2012\", \"Qtd\": 4654.0}, {\"Disease\": \"ntetanus\", \"Ano\": \"2013\", \"Qtd\": 4149.0}, {\"Disease\": \"ntetanus\", \"Ano\": \"2014\", \"Qtd\": 2238.0}, {\"Disease\": \"ntetanus\", \"Ano\": \"2015\", \"Qtd\": 3580.0}, {\"Disease\": \"ntetanus\", \"Ano\": \"2016\", \"Qtd\": 1997.0}, {\"Disease\": \"ntetanus\", \"Ano\": \"2017\", \"Qtd\": 2266.0}, {\"Disease\": \"ntetanus\", \"Ano\": \"2018\", \"Qtd\": 1803.0}, {\"Disease\": \"pertussis\", \"Ano\": \"1980\", \"Qtd\": 1968363.0}, {\"Disease\": \"pertussis\", \"Ano\": \"1981\", \"Qtd\": 1795493.0}, {\"Disease\": \"pertussis\", \"Ano\": \"1982\", \"Qtd\": 1814178.0}, {\"Disease\": \"pertussis\", \"Ano\": \"1983\", \"Qtd\": 1362689.0}, {\"Disease\": \"pertussis\", \"Ano\": \"1984\", \"Qtd\": 1025918.0}, {\"Disease\": \"pertussis\", \"Ano\": \"1985\", \"Qtd\": 1007832.0}, {\"Disease\": \"pertussis\", \"Ano\": \"1986\", \"Qtd\": 835431.0}, {\"Disease\": \"pertussis\", \"Ano\": \"1987\", \"Qtd\": 688441.0}, {\"Disease\": \"pertussis\", \"Ano\": \"1988\", \"Qtd\": 523574.0}, {\"Disease\": \"pertussis\", \"Ano\": \"1989\", \"Qtd\": 596488.0}, {\"Disease\": \"pertussis\", \"Ano\": \"1990\", \"Qtd\": 442492.0}, {\"Disease\": \"pertussis\", \"Ano\": \"1991\", \"Qtd\": 430493.0}, {\"Disease\": \"pertussis\", \"Ano\": \"1992\", \"Qtd\": 255494.0}, {\"Disease\": \"pertussis\", \"Ano\": \"1993\", \"Qtd\": 237133.0}, {\"Disease\": \"pertussis\", \"Ano\": \"1994\", \"Qtd\": 253822.0}, {\"Disease\": \"pertussis\", \"Ano\": \"1995\", \"Qtd\": 164976.0}, {\"Disease\": \"pertussis\", \"Ano\": \"1996\", \"Qtd\": 141339.0}, {\"Disease\": \"pertussis\", \"Ano\": \"1997\", \"Qtd\": 168111.0}, {\"Disease\": \"pertussis\", \"Ano\": \"1998\", \"Qtd\": 188975.0}, {\"Disease\": \"pertussis\", \"Ano\": \"1999\", \"Qtd\": 116297.0}, {\"Disease\": \"pertussis\", \"Ano\": \"2000\", \"Qtd\": 190475.0}, {\"Disease\": \"pertussis\", \"Ano\": \"2001\", \"Qtd\": 174847.0}, {\"Disease\": \"pertussis\", \"Ano\": \"2002\", \"Qtd\": 135944.0}, {\"Disease\": \"pertussis\", \"Ano\": \"2003\", \"Qtd\": 116598.0}, {\"Disease\": \"pertussis\", \"Ano\": \"2004\", \"Qtd\": 245377.0}, {\"Disease\": \"pertussis\", \"Ano\": \"2005\", \"Qtd\": 152784.0}, {\"Disease\": \"pertussis\", \"Ano\": \"2006\", \"Qtd\": 127410.0}, {\"Disease\": \"pertussis\", \"Ano\": \"2007\", \"Qtd\": 139521.0}, {\"Disease\": \"pertussis\", \"Ano\": \"2008\", \"Qtd\": 148095.0}, {\"Disease\": \"pertussis\", \"Ano\": \"2009\", \"Qtd\": 166592.0}, {\"Disease\": \"pertussis\", \"Ano\": \"2010\", \"Qtd\": 161234.0}, {\"Disease\": \"pertussis\", \"Ano\": \"2011\", \"Qtd\": 173441.0}, {\"Disease\": \"pertussis\", \"Ano\": \"2012\", \"Qtd\": 250330.0}, {\"Disease\": \"pertussis\", \"Ano\": \"2013\", \"Qtd\": 162016.0}, {\"Disease\": \"pertussis\", \"Ano\": \"2014\", \"Qtd\": 177083.0}, {\"Disease\": \"pertussis\", \"Ano\": \"2015\", \"Qtd\": 149089.0}, {\"Disease\": \"pertussis\", \"Ano\": \"2016\", \"Qtd\": 174177.0}, {\"Disease\": \"pertussis\", \"Ano\": \"2017\", \"Qtd\": 162938.0}, {\"Disease\": \"pertussis\", \"Ano\": \"2018\", \"Qtd\": 153631.0}, {\"Disease\": \"polio\", \"Ano\": \"1980\", \"Qtd\": 52630.0}, {\"Disease\": \"polio\", \"Ano\": \"1981\", \"Qtd\": 65737.0}, {\"Disease\": \"polio\", \"Ano\": \"1982\", \"Qtd\": 51628.0}, {\"Disease\": \"polio\", \"Ano\": \"1983\", \"Qtd\": 39973.0}, {\"Disease\": \"polio\", \"Ano\": \"1984\", \"Qtd\": 35084.0}, {\"Disease\": \"polio\", \"Ano\": \"1985\", \"Qtd\": 38483.0}, {\"Disease\": \"polio\", \"Ano\": \"1986\", \"Qtd\": 32846.0}, {\"Disease\": \"polio\", \"Ano\": \"1987\", \"Qtd\": 39683.0}, {\"Disease\": \"polio\", \"Ano\": \"1988\", \"Qtd\": 34617.0}, {\"Disease\": \"polio\", \"Ano\": \"1989\", \"Qtd\": 26104.0}, {\"Disease\": \"polio\", \"Ano\": \"1990\", \"Qtd\": 23053.0}, {\"Disease\": \"polio\", \"Ano\": \"1991\", \"Qtd\": 13274.0}, {\"Disease\": \"polio\", \"Ano\": \"1992\", \"Qtd\": 15304.0}, {\"Disease\": \"polio\", \"Ano\": \"1993\", \"Qtd\": 10500.0}, {\"Disease\": \"polio\", \"Ano\": \"1994\", \"Qtd\": 8666.0}, {\"Disease\": \"polio\", \"Ano\": \"1995\", \"Qtd\": 7043.0}, {\"Disease\": \"polio\", \"Ano\": \"1996\", \"Qtd\": 4070.0}, {\"Disease\": \"polio\", \"Ano\": \"1997\", \"Qtd\": 5186.0}, {\"Disease\": \"polio\", \"Ano\": \"1998\", \"Qtd\": 6347.0}, {\"Disease\": \"polio\", \"Ano\": \"1999\", \"Qtd\": 7141.0}, {\"Disease\": \"polio\", \"Ano\": \"2000\", \"Qtd\": 2971.0}, {\"Disease\": \"polio\", \"Ano\": \"2001\", \"Qtd\": 496.0}, {\"Disease\": \"polio\", \"Ano\": \"2002\", \"Qtd\": 1922.0}, {\"Disease\": \"polio\", \"Ano\": \"2003\", \"Qtd\": 784.0}, {\"Disease\": \"polio\", \"Ano\": \"2004\", \"Qtd\": 1256.0}, {\"Disease\": \"polio\", \"Ano\": \"2005\", \"Qtd\": 2033.0}, {\"Disease\": \"polio\", \"Ano\": \"2006\", \"Qtd\": 2023.0}, {\"Disease\": \"polio\", \"Ano\": \"2007\", \"Qtd\": 1390.0}, {\"Disease\": \"polio\", \"Ano\": \"2008\", \"Qtd\": 1736.0}, {\"Disease\": \"polio\", \"Ano\": \"2009\", \"Qtd\": 1789.0}, {\"Disease\": \"polio\", \"Ano\": \"2010\", \"Qtd\": 1412.0}, {\"Disease\": \"polio\", \"Ano\": \"2011\", \"Qtd\": 717.0}, {\"Disease\": \"polio\", \"Ano\": \"2012\", \"Qtd\": 294.0}, {\"Disease\": \"polio\", \"Ano\": \"2013\", \"Qtd\": 482.0}, {\"Disease\": \"polio\", \"Ano\": \"2014\", \"Qtd\": 415.0}, {\"Disease\": \"polio\", \"Ano\": \"2015\", \"Qtd\": 106.0}, {\"Disease\": \"polio\", \"Ano\": \"2016\", \"Qtd\": 42.0}, {\"Disease\": \"polio\", \"Ano\": \"2017\", \"Qtd\": 96.0}, {\"Disease\": \"polio\", \"Ano\": \"2018\", \"Qtd\": 104.0}, {\"Disease\": \"ttetanus\", \"Ano\": \"1980\", \"Qtd\": 113936.0}, {\"Disease\": \"ttetanus\", \"Ano\": \"1981\", \"Qtd\": 105679.0}, {\"Disease\": \"ttetanus\", \"Ano\": \"1982\", \"Qtd\": 115440.0}, {\"Disease\": \"ttetanus\", \"Ano\": \"1983\", \"Qtd\": 99078.0}, {\"Disease\": \"ttetanus\", \"Ano\": \"1984\", \"Qtd\": 89587.0}, {\"Disease\": \"ttetanus\", \"Ano\": \"1985\", \"Qtd\": 104546.0}, {\"Disease\": \"ttetanus\", \"Ano\": \"1986\", \"Qtd\": 85859.0}, {\"Disease\": \"ttetanus\", \"Ano\": \"1987\", \"Qtd\": 75932.0}, {\"Disease\": \"ttetanus\", \"Ano\": \"1988\", \"Qtd\": 73310.0}, {\"Disease\": \"ttetanus\", \"Ano\": \"1989\", \"Qtd\": 78693.0}, {\"Disease\": \"ttetanus\", \"Ano\": \"1990\", \"Qtd\": 64737.0}, {\"Disease\": \"ttetanus\", \"Ano\": \"1991\", \"Qtd\": 46292.0}, {\"Disease\": \"ttetanus\", \"Ano\": \"1992\", \"Qtd\": 39931.0}, {\"Disease\": \"ttetanus\", \"Ano\": \"1993\", \"Qtd\": 42530.0}, {\"Disease\": \"ttetanus\", \"Ano\": \"1994\", \"Qtd\": 48086.0}, {\"Disease\": \"ttetanus\", \"Ano\": \"1995\", \"Qtd\": 13019.0}, {\"Disease\": \"ttetanus\", \"Ano\": \"1996\", \"Qtd\": 12537.0}, {\"Disease\": \"ttetanus\", \"Ano\": \"1997\", \"Qtd\": 23145.0}, {\"Disease\": \"ttetanus\", \"Ano\": \"1998\", \"Qtd\": 20469.0}, {\"Disease\": \"ttetanus\", \"Ano\": \"1999\", \"Qtd\": 15951.0}, {\"Disease\": \"ttetanus\", \"Ano\": \"2000\", \"Qtd\": 23711.0}, {\"Disease\": \"ttetanus\", \"Ano\": \"2001\", \"Qtd\": 20800.0}, {\"Disease\": \"ttetanus\", \"Ano\": \"2002\", \"Qtd\": 31376.0}, {\"Disease\": \"ttetanus\", \"Ano\": \"2003\", \"Qtd\": 14220.0}, {\"Disease\": \"ttetanus\", \"Ano\": \"2004\", \"Qtd\": 13987.0}, {\"Disease\": \"ttetanus\", \"Ano\": \"2005\", \"Qtd\": 15675.0}, {\"Disease\": \"ttetanus\", \"Ano\": \"2006\", \"Qtd\": 15305.0}, {\"Disease\": \"ttetanus\", \"Ano\": \"2007\", \"Qtd\": 20361.0}, {\"Disease\": \"ttetanus\", \"Ano\": \"2008\", \"Qtd\": 15850.0}, {\"Disease\": \"ttetanus\", \"Ano\": \"2009\", \"Qtd\": 11981.0}, {\"Disease\": \"ttetanus\", \"Ano\": \"2010\", \"Qtd\": 11181.0}, {\"Disease\": \"ttetanus\", \"Ano\": \"2011\", \"Qtd\": 12649.0}, {\"Disease\": \"ttetanus\", \"Ano\": \"2012\", \"Qtd\": 10475.0}, {\"Disease\": \"ttetanus\", \"Ano\": \"2013\", \"Qtd\": 13532.0}, {\"Disease\": \"ttetanus\", \"Ano\": \"2014\", \"Qtd\": 12531.0}, {\"Disease\": \"ttetanus\", \"Ano\": \"2015\", \"Qtd\": 10337.0}, {\"Disease\": \"ttetanus\", \"Ano\": \"2016\", \"Qtd\": 13813.0}, {\"Disease\": \"ttetanus\", \"Ano\": \"2017\", \"Qtd\": 12509.0}, {\"Disease\": \"ttetanus\", \"Ano\": \"2018\", \"Qtd\": 15103.0}, {\"Disease\": \"yfever\", \"Ano\": \"1980\", \"Qtd\": 144.0}, {\"Disease\": \"yfever\", \"Ano\": \"1981\", \"Qtd\": 238.0}, {\"Disease\": \"yfever\", \"Ano\": \"1982\", \"Qtd\": 171.0}, {\"Disease\": \"yfever\", \"Ano\": \"1983\", \"Qtd\": 793.0}, {\"Disease\": \"yfever\", \"Ano\": \"1984\", \"Qtd\": 1012.0}, {\"Disease\": \"yfever\", \"Ano\": \"1985\", \"Qtd\": 138.0}, {\"Disease\": \"yfever\", \"Ano\": \"1986\", \"Qtd\": 1477.0}, {\"Disease\": \"yfever\", \"Ano\": \"1987\", \"Qtd\": 3247.0}, {\"Disease\": \"yfever\", \"Ano\": \"1988\", \"Qtd\": 5344.0}, {\"Disease\": \"yfever\", \"Ano\": \"1989\", \"Qtd\": 3507.0}, {\"Disease\": \"yfever\", \"Ano\": \"1990\", \"Qtd\": 4339.0}, {\"Disease\": \"yfever\", \"Ano\": \"1991\", \"Qtd\": 2712.0}, {\"Disease\": \"yfever\", \"Ano\": \"1992\", \"Qtd\": 295.0}, {\"Disease\": \"yfever\", \"Ano\": \"1993\", \"Qtd\": 410.0}, {\"Disease\": \"yfever\", \"Ano\": \"1994\", \"Qtd\": 1440.0}, {\"Disease\": \"yfever\", \"Ano\": \"1995\", \"Qtd\": 1219.0}, {\"Disease\": \"yfever\", \"Ano\": \"1996\", \"Qtd\": 439.0}, {\"Disease\": \"yfever\", \"Ano\": \"1997\", \"Qtd\": 193.0}, {\"Disease\": \"yfever\", \"Ano\": \"1998\", \"Qtd\": 309.0}, {\"Disease\": \"yfever\", \"Ano\": \"1999\", \"Qtd\": 216.0}, {\"Disease\": \"yfever\", \"Ano\": \"2000\", \"Qtd\": 699.0}, {\"Disease\": \"yfever\", \"Ano\": \"2001\", \"Qtd\": 656.0}, {\"Disease\": \"yfever\", \"Ano\": \"2002\", \"Qtd\": 715.0}, {\"Disease\": \"yfever\", \"Ano\": \"2003\", \"Qtd\": 739.0}, {\"Disease\": \"yfever\", \"Ano\": \"2004\", \"Qtd\": 1376.0}, {\"Disease\": \"yfever\", \"Ano\": \"2005\", \"Qtd\": 591.0}, {\"Disease\": \"yfever\", \"Ano\": \"2006\", \"Qtd\": 358.0}, {\"Disease\": \"yfever\", \"Ano\": \"2007\", \"Qtd\": 265.0}, {\"Disease\": \"yfever\", \"Ano\": \"2008\", \"Qtd\": 372.0}, {\"Disease\": \"yfever\", \"Ano\": \"2009\", \"Qtd\": 136.0}, {\"Disease\": \"yfever\", \"Ano\": \"2010\", \"Qtd\": 737.0}, {\"Disease\": \"yfever\", \"Ano\": \"2011\", \"Qtd\": 2591.0}, {\"Disease\": \"yfever\", \"Ano\": \"2012\", \"Qtd\": 262.0}, {\"Disease\": \"yfever\", \"Ano\": \"2013\", \"Qtd\": 294.0}, {\"Disease\": \"yfever\", \"Ano\": \"2014\", \"Qtd\": 54.0}, {\"Disease\": \"yfever\", \"Ano\": \"2015\", \"Qtd\": 72.0}, {\"Disease\": \"yfever\", \"Ano\": \"2016\", \"Qtd\": 1154.0}, {\"Disease\": \"yfever\", \"Ano\": \"2017\", \"Qtd\": 876.0}, {\"Disease\": \"yfever\", \"Ano\": \"2018\", \"Qtd\": 2064.0}]}}, {\"mode\": \"vega-lite\"});\n",
              "</script>"
            ]
          },
          "metadata": {
            "tags": []
          },
          "execution_count": 34
        }
      ]
    }
  ]
}